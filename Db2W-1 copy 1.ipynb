{
    "nbformat_minor": 1, 
    "cells": [
        {
            "source": "\nfrom ibmdbpy import IdaDataBase, IdaDataFrame\n\n# @hidden_cell\n# This connection object is used to access your data and contains your credentials.\n# You might want to remove those credentials before you share your notebook.\nidadb = IdaDataBase(dsn='DASHDB;Database=BLUDB;Hostname=dashdb-entry-yp-dal10-01.services.dal.bluemix.net;Port=50000;PROTOCOL=TCPIP;UID=dash5014;PWD=85y_E_UgviMC', verbose=True)\n\nida_df_1 = IdaDataFrame(idadb, 'GOSALESDW.SLS_SALES_FACT')\nida_df_1.head()\n\n# You can close the database connection with the following code. Please keep the comment line with the @hidden_cell tag,\n# because the close function displays parts of the credentials.\n# @hidden_cell\n# idadb_22ff48a8fcc54518aa9b4b78f9a913e4.close()\n# To learn more about the ibmdby package, please read the documentation: http://pythonhosted.org/ibmdbpy/\n", 
            "cell_type": "code", 
            "metadata": {}, 
            "outputs": [
                {
                    "output_type": "stream", 
                    "name": "stdout", 
                    "text": "> SELECT distinct TABSCHEMA, TABNAME, OWNER, TYPE from SYSCAT.TABLES WHERE (OWNERTYPE = 'U') ORDER BY \"TABSCHEMA\",\"TABNAME\"\n> SELECT COLNAME, TYPENAME FROM SYSCAT.COLUMNS WHERE TABNAME='SLS_SALES_FACT' AND TABSCHEMA='GOSALESDW' ORDER BY COLNO\n> SELECT * FROM GOSALESDW.SLS_SALES_FACT ORDER BY \"ORDER_DAY_KEY\" ASC FETCH FIRST 5 ROWS ONLY\n"
                }, 
                {
                    "output_type": "execute_result", 
                    "data": {
                        "text/html": "<div>\n<style scoped>\n    .dataframe tbody tr th:only-of-type {\n        vertical-align: middle;\n    }\n\n    .dataframe tbody tr th {\n        vertical-align: top;\n    }\n\n    .dataframe thead th {\n        text-align: right;\n    }\n</style>\n<table border=\"1\" class=\"dataframe\">\n  <thead>\n    <tr style=\"text-align: right;\">\n      <th></th>\n      <th>ORDER_DAY_KEY</th>\n      <th>ORGANIZATION_KEY</th>\n      <th>EMPLOYEE_KEY</th>\n      <th>RETAILER_KEY</th>\n      <th>RETAILER_SITE_KEY</th>\n      <th>PRODUCT_KEY</th>\n      <th>PROMOTION_KEY</th>\n      <th>ORDER_METHOD_KEY</th>\n      <th>SALES_ORDER_KEY</th>\n      <th>SHIP_DAY_KEY</th>\n      <th>CLOSE_DAY_KEY</th>\n      <th>QUANTITY</th>\n      <th>UNIT_COST</th>\n      <th>UNIT_PRICE</th>\n      <th>UNIT_SALE_PRICE</th>\n      <th>GROSS_MARGIN</th>\n      <th>SALE_TOTAL</th>\n      <th>GROSS_PROFIT</th>\n    </tr>\n  </thead>\n  <tbody>\n    <tr>\n      <th>0</th>\n      <td>20100112</td>\n      <td>11101</td>\n      <td>4001</td>\n      <td>6737</td>\n      <td>5185</td>\n      <td>30126</td>\n      <td>5501</td>\n      <td>602</td>\n      <td>194778</td>\n      <td>20100119</td>\n      <td>20100119</td>\n      <td>587</td>\n      <td>34.90</td>\n      <td>76.86</td>\n      <td>71.48</td>\n      <td>0.5118</td>\n      <td>41958.76</td>\n      <td>21472.46</td>\n    </tr>\n    <tr>\n      <th>1</th>\n      <td>20100112</td>\n      <td>11101</td>\n      <td>4001</td>\n      <td>6986</td>\n      <td>5465</td>\n      <td>30103</td>\n      <td>5501</td>\n      <td>606</td>\n      <td>194770</td>\n      <td>20100119</td>\n      <td>20100119</td>\n      <td>1776</td>\n      <td>1.86</td>\n      <td>6.00</td>\n      <td>5.70</td>\n      <td>0.6737</td>\n      <td>10123.20</td>\n      <td>6819.84</td>\n    </tr>\n    <tr>\n      <th>2</th>\n      <td>20100112</td>\n      <td>11101</td>\n      <td>4001</td>\n      <td>6986</td>\n      <td>5465</td>\n      <td>30100</td>\n      <td>5501</td>\n      <td>606</td>\n      <td>194768</td>\n      <td>20100119</td>\n      <td>20100119</td>\n      <td>129</td>\n      <td>56.23</td>\n      <td>96.44</td>\n      <td>89.69</td>\n      <td>0.3731</td>\n      <td>11570.01</td>\n      <td>4316.34</td>\n    </tr>\n    <tr>\n      <th>3</th>\n      <td>20100112</td>\n      <td>11101</td>\n      <td>4001</td>\n      <td>6737</td>\n      <td>5185</td>\n      <td>30132</td>\n      <td>5501</td>\n      <td>602</td>\n      <td>194777</td>\n      <td>20100119</td>\n      <td>20100119</td>\n      <td>576</td>\n      <td>2.67</td>\n      <td>10.71</td>\n      <td>10.28</td>\n      <td>0.7403</td>\n      <td>5921.28</td>\n      <td>4383.36</td>\n    </tr>\n    <tr>\n      <th>4</th>\n      <td>20100112</td>\n      <td>11101</td>\n      <td>4001</td>\n      <td>6737</td>\n      <td>5185</td>\n      <td>30128</td>\n      <td>5501</td>\n      <td>602</td>\n      <td>194779</td>\n      <td>20100119</td>\n      <td>20100119</td>\n      <td>214</td>\n      <td>91.80</td>\n      <td>180.63</td>\n      <td>167.99</td>\n      <td>0.4535</td>\n      <td>35949.86</td>\n      <td>16304.66</td>\n    </tr>\n  </tbody>\n</table>\n</div>", 
                        "text/plain": "   ORDER_DAY_KEY  ORGANIZATION_KEY  EMPLOYEE_KEY  RETAILER_KEY  \\\n0       20100112             11101          4001          6737   \n1       20100112             11101          4001          6986   \n2       20100112             11101          4001          6986   \n3       20100112             11101          4001          6737   \n4       20100112             11101          4001          6737   \n\n   RETAILER_SITE_KEY  PRODUCT_KEY  PROMOTION_KEY  ORDER_METHOD_KEY  \\\n0               5185        30126           5501               602   \n1               5465        30103           5501               606   \n2               5465        30100           5501               606   \n3               5185        30132           5501               602   \n4               5185        30128           5501               602   \n\n   SALES_ORDER_KEY  SHIP_DAY_KEY  CLOSE_DAY_KEY  QUANTITY  UNIT_COST  \\\n0           194778      20100119       20100119       587      34.90   \n1           194770      20100119       20100119      1776       1.86   \n2           194768      20100119       20100119       129      56.23   \n3           194777      20100119       20100119       576       2.67   \n4           194779      20100119       20100119       214      91.80   \n\n   UNIT_PRICE  UNIT_SALE_PRICE  GROSS_MARGIN  SALE_TOTAL  GROSS_PROFIT  \n0       76.86            71.48        0.5118    41958.76      21472.46  \n1        6.00             5.70        0.6737    10123.20       6819.84  \n2       96.44            89.69        0.3731    11570.01       4316.34  \n3       10.71            10.28        0.7403     5921.28       4383.36  \n4      180.63           167.99        0.4535    35949.86      16304.66  "
                    }, 
                    "execution_count": 1, 
                    "metadata": {}
                }
            ], 
            "execution_count": 1
        }, 
        {
            "source": "retailSummary = idadb.ida_query(\"SELECT CLOSE_DAY_KEY, EMPLOYEE_KEY, GROSS_MARGIN, GROSS_PROFIT, ORDER_DAY_KEY, \" +\n                                       \"ORDER_METHOD_KEY, ORGANIZATION_KEY, PRODUCT_KEY, PROMOTION_KEY, \" +\n                                       \"QUANTITY, RETAILER_KEY RETAILER_SITE_KEY, SALES_ORDER_KEY, SALE_TOTAL, \" +\n                                       \"SHIP_DAY_KEY, UNIT_COST, UNIT_PRICE, UNIT_SALE_PRICE \" +\n                                \"FROM GOSALESDW.SLS_SALES_FACT \" +\n                                \"WHERE QUANTITY > 9000 \" +\n                                \"ORDER BY GROSS_PROFIT DESC\")\nnumberofSales = idadb.ida_scalar_query(\"SELECT count(*) FROM GOSALESDW.EMP_EXPENSE_FACT\")", 
            "cell_type": "code", 
            "metadata": {}, 
            "outputs": [
                {
                    "output_type": "stream", 
                    "name": "stdout", 
                    "text": "> SELECT CLOSE_DAY_KEY, EMPLOYEE_KEY, GROSS_MARGIN, GROSS_PROFIT, ORDER_DAY_KEY, ORDER_METHOD_KEY, ORGANIZATION_KEY, PRODUCT_KEY, PROMOTION_KEY, QUANTITY, RETAILER_KEY RETAILER_SITE_KEY, SALES_ORDER_KEY, SALE_TOTAL, SHIP_DAY_KEY, UNIT_COST, UNIT_PRICE, UNIT_SALE_PRICE FROM GOSALESDW.SLS_SALES_FACT WHERE QUANTITY > 9000 ORDER BY GROSS_PROFIT DESC\n> SELECT count(*) FROM GOSALESDW.EMP_EXPENSE_FACT\n"
                }
            ], 
            "execution_count": 4
        }, 
        {
            "source": "print(\"Number of total sales: \" + str(numberofSales))\nprint(\"Retail Summary: \")\nretailSummary.tail()", 
            "cell_type": "code", 
            "metadata": {}, 
            "outputs": [
                {
                    "output_type": "stream", 
                    "name": "stdout", 
                    "text": "Number of total sales: 127984\nRetail Summary: \n"
                }, 
                {
                    "output_type": "execute_result", 
                    "data": {
                        "text/html": "<div>\n<style scoped>\n    .dataframe tbody tr th:only-of-type {\n        vertical-align: middle;\n    }\n\n    .dataframe tbody tr th {\n        vertical-align: top;\n    }\n\n    .dataframe thead th {\n        text-align: right;\n    }\n</style>\n<table border=\"1\" class=\"dataframe\">\n  <thead>\n    <tr style=\"text-align: right;\">\n      <th></th>\n      <th>close_day_key</th>\n      <th>employee_key</th>\n      <th>gross_margin</th>\n      <th>gross_profit</th>\n      <th>order_day_key</th>\n      <th>order_method_key</th>\n      <th>organization_key</th>\n      <th>product_key</th>\n      <th>promotion_key</th>\n      <th>quantity</th>\n      <th>retailer_site_key</th>\n      <th>sales_order_key</th>\n      <th>sale_total</th>\n      <th>ship_day_key</th>\n      <th>unit_cost</th>\n      <th>unit_price</th>\n      <th>unit_sale_price</th>\n    </tr>\n  </thead>\n  <tbody>\n    <tr>\n      <th>66</th>\n      <td>20120310</td>\n      <td>4051</td>\n      <td>0.4658</td>\n      <td>16631.76</td>\n      <td>20120306</td>\n      <td>605</td>\n      <td>11169</td>\n      <td>30001</td>\n      <td>5542</td>\n      <td>9039</td>\n      <td>7297</td>\n      <td>162452</td>\n      <td>35704.05</td>\n      <td>20120310</td>\n      <td>2.11</td>\n      <td>6.59</td>\n      <td>3.95</td>\n    </tr>\n    <tr>\n      <th>67</th>\n      <td>20120213</td>\n      <td>4124</td>\n      <td>0.4658</td>\n      <td>16629.92</td>\n      <td>20120209</td>\n      <td>605</td>\n      <td>11169</td>\n      <td>30001</td>\n      <td>5542</td>\n      <td>9038</td>\n      <td>6873</td>\n      <td>162103</td>\n      <td>35700.10</td>\n      <td>20120213</td>\n      <td>2.11</td>\n      <td>6.59</td>\n      <td>3.95</td>\n    </tr>\n    <tr>\n      <th>68</th>\n      <td>20130216</td>\n      <td>4086</td>\n      <td>0.4842</td>\n      <td>16598.64</td>\n      <td>20130212</td>\n      <td>605</td>\n      <td>11109</td>\n      <td>30050</td>\n      <td>5501</td>\n      <td>9021</td>\n      <td>6868</td>\n      <td>192430</td>\n      <td>34279.80</td>\n      <td>20130216</td>\n      <td>1.96</td>\n      <td>4.00</td>\n      <td>3.80</td>\n    </tr>\n    <tr>\n      <th>69</th>\n      <td>20130423</td>\n      <td>4086</td>\n      <td>0.4842</td>\n      <td>16567.36</td>\n      <td>20130418</td>\n      <td>605</td>\n      <td>11109</td>\n      <td>30050</td>\n      <td>5501</td>\n      <td>9004</td>\n      <td>6868</td>\n      <td>193127</td>\n      <td>34215.20</td>\n      <td>20130423</td>\n      <td>1.96</td>\n      <td>4.00</td>\n      <td>3.80</td>\n    </tr>\n    <tr>\n      <th>70</th>\n      <td>20130213</td>\n      <td>4048</td>\n      <td>0.4506</td>\n      <td>16082.30</td>\n      <td>20130115</td>\n      <td>605</td>\n      <td>11168</td>\n      <td>30001</td>\n      <td>5606</td>\n      <td>9035</td>\n      <td>7148</td>\n      <td>171887</td>\n      <td>35688.25</td>\n      <td>20130118</td>\n      <td>2.17</td>\n      <td>6.59</td>\n      <td>3.95</td>\n    </tr>\n  </tbody>\n</table>\n</div>", 
                        "text/plain": "    close_day_key  employee_key  gross_margin  gross_profit  order_day_key  \\\n66       20120310          4051        0.4658      16631.76       20120306   \n67       20120213          4124        0.4658      16629.92       20120209   \n68       20130216          4086        0.4842      16598.64       20130212   \n69       20130423          4086        0.4842      16567.36       20130418   \n70       20130213          4048        0.4506      16082.30       20130115   \n\n    order_method_key  organization_key  product_key  promotion_key  quantity  \\\n66               605             11169        30001           5542      9039   \n67               605             11169        30001           5542      9038   \n68               605             11109        30050           5501      9021   \n69               605             11109        30050           5501      9004   \n70               605             11168        30001           5606      9035   \n\n    retailer_site_key  sales_order_key  sale_total  ship_day_key  unit_cost  \\\n66               7297           162452    35704.05      20120310       2.11   \n67               6873           162103    35700.10      20120213       2.11   \n68               6868           192430    34279.80      20130216       1.96   \n69               6868           193127    34215.20      20130423       1.96   \n70               7148           171887    35688.25      20130118       2.17   \n\n    unit_price  unit_sale_price  \n66        6.59             3.95  \n67        6.59             3.95  \n68        4.00             3.80  \n69        4.00             3.80  \n70        6.59             3.95  "
                    }, 
                    "execution_count": 6, 
                    "metadata": {}
                }
            ], 
            "execution_count": 6
        }, 
        {
            "source": "%time\nagg1 = idadb.ida_query(\"SELECT EXTRACT(YEAR FROM CAST(CAST (order_day_key AS varchar(100)) AS timestamp)) AS year, \" +\n                            \"SUM (sale_total) AS total_sales, \" + \n                            \"RANK () OVER (ORDER BY SUM (sale_total) DESC) AS ranked_sales \" + \n                        \"FROM gosalesdw.sls_sales_fact \" + \n                        \"GROUP BY EXTRACT(YEAR FROM CAST(CAST (order_day_key AS varchar(100)) AS timestamp)) \")", 
            "cell_type": "code", 
            "metadata": {}, 
            "outputs": [
                {
                    "output_type": "stream", 
                    "name": "stdout", 
                    "text": "CPU times: user 0 ns, sys: 0 ns, total: 0 ns\nWall time: 15 \u00b5s\n> SELECT EXTRACT(YEAR FROM CAST(CAST (order_day_key AS varchar(100)) AS timestamp)) AS year, SUM (sale_total) AS total_sales, RANK () OVER (ORDER BY SUM (sale_total) DESC) AS ranked_sales FROM gosalesdw.sls_sales_fact GROUP BY EXTRACT(YEAR FROM CAST(CAST (order_day_key AS varchar(100)) AS timestamp)) \n"
                }
            ], 
            "execution_count": 10
        }, 
        {
            "source": "%time\nagg1", 
            "cell_type": "code", 
            "metadata": {}, 
            "outputs": [
                {
                    "output_type": "stream", 
                    "name": "stdout", 
                    "text": "CPU times: user 0 ns, sys: 0 ns, total: 0 ns\nWall time: 15.3 \u00b5s\n"
                }, 
                {
                    "output_type": "execute_result", 
                    "data": {
                        "text/html": "<div>\n<style scoped>\n    .dataframe tbody tr th:only-of-type {\n        vertical-align: middle;\n    }\n\n    .dataframe tbody tr th {\n        vertical-align: top;\n    }\n\n    .dataframe thead th {\n        text-align: right;\n    }\n</style>\n<table border=\"1\" class=\"dataframe\">\n  <thead>\n    <tr style=\"text-align: right;\">\n      <th></th>\n      <th>year</th>\n      <th>total_sales</th>\n      <th>ranked_sales</th>\n    </tr>\n  </thead>\n  <tbody>\n    <tr>\n      <th>0</th>\n      <td>2012</td>\n      <td>1.495891e+09</td>\n      <td>1</td>\n    </tr>\n    <tr>\n      <th>1</th>\n      <td>2011</td>\n      <td>1.159196e+09</td>\n      <td>2</td>\n    </tr>\n    <tr>\n      <th>2</th>\n      <td>2013</td>\n      <td>1.117336e+09</td>\n      <td>3</td>\n    </tr>\n    <tr>\n      <th>3</th>\n      <td>2010</td>\n      <td>9.143528e+08</td>\n      <td>4</td>\n    </tr>\n  </tbody>\n</table>\n</div>", 
                        "text/plain": "   year   total_sales  ranked_sales\n0  2012  1.495891e+09             1\n1  2011  1.159196e+09             2\n2  2013  1.117336e+09             3\n3  2010  9.143528e+08             4"
                    }, 
                    "execution_count": 11, 
                    "metadata": {}
                }
            ], 
            "execution_count": 11
        }, 
        {
            "source": "", 
            "cell_type": "code", 
            "metadata": {}, 
            "outputs": [], 
            "execution_count": null
        }, 
        {
            "source": "", 
            "cell_type": "code", 
            "metadata": {}, 
            "outputs": [], 
            "execution_count": null
        }, 
        {
            "source": "ida_df_1.head(10000).cov()", 
            "cell_type": "code", 
            "metadata": {}, 
            "outputs": [
                {
                    "output_type": "stream", 
                    "name": "stdout", 
                    "text": "> SELECT * FROM GOSALESDW.SLS_SALES_FACT ORDER BY \"ORDER_DAY_KEY\" ASC FETCH FIRST 10000 ROWS ONLY\n"
                }, 
                {
                    "output_type": "execute_result", 
                    "data": {
                        "text/html": "<div>\n<style scoped>\n    .dataframe tbody tr th:only-of-type {\n        vertical-align: middle;\n    }\n\n    .dataframe tbody tr th {\n        vertical-align: top;\n    }\n\n    .dataframe thead th {\n        text-align: right;\n    }\n</style>\n<table border=\"1\" class=\"dataframe\">\n  <thead>\n    <tr style=\"text-align: right;\">\n      <th></th>\n      <th>ORDER_DAY_KEY</th>\n      <th>ORGANIZATION_KEY</th>\n      <th>EMPLOYEE_KEY</th>\n      <th>RETAILER_KEY</th>\n      <th>RETAILER_SITE_KEY</th>\n      <th>PRODUCT_KEY</th>\n      <th>PROMOTION_KEY</th>\n      <th>ORDER_METHOD_KEY</th>\n      <th>SALES_ORDER_KEY</th>\n      <th>SHIP_DAY_KEY</th>\n      <th>CLOSE_DAY_KEY</th>\n      <th>QUANTITY</th>\n      <th>UNIT_COST</th>\n      <th>UNIT_PRICE</th>\n      <th>UNIT_SALE_PRICE</th>\n      <th>GROSS_MARGIN</th>\n      <th>SALE_TOTAL</th>\n      <th>GROSS_PROFIT</th>\n    </tr>\n  </thead>\n  <tbody>\n    <tr>\n      <th>ORDER_DAY_KEY</th>\n      <td>1978.830249</td>\n      <td>-1.870265e+02</td>\n      <td>-8.022758e+02</td>\n      <td>-3.180752e+02</td>\n      <td>-3.489821e+02</td>\n      <td>-5.217493e+02</td>\n      <td>0.867695</td>\n      <td>-1.465005</td>\n      <td>-8.597989e+05</td>\n      <td>1973.795516</td>\n      <td>2.085177e+03</td>\n      <td>1.572468e+03</td>\n      <td>1.501619e+02</td>\n      <td>3.074550e+02</td>\n      <td>2.557866e+02</td>\n      <td>0.209498</td>\n      <td>6.136397e+04</td>\n      <td>2.409049e+04</td>\n    </tr>\n    <tr>\n      <th>ORGANIZATION_KEY</th>\n      <td>-187.026496</td>\n      <td>7.218506e+02</td>\n      <td>1.340842e+03</td>\n      <td>3.717800e+02</td>\n      <td>2.005514e+02</td>\n      <td>1.251007e+03</td>\n      <td>-0.586254</td>\n      <td>3.602064</td>\n      <td>1.727406e+06</td>\n      <td>-183.386378</td>\n      <td>-3.568631e+02</td>\n      <td>-2.792053e+03</td>\n      <td>-4.027113e+02</td>\n      <td>-7.969222e+02</td>\n      <td>-6.847893e+02</td>\n      <td>-0.371383</td>\n      <td>-1.114871e+05</td>\n      <td>-4.384761e+04</td>\n    </tr>\n    <tr>\n      <th>EMPLOYEE_KEY</th>\n      <td>-802.275832</td>\n      <td>1.340842e+03</td>\n      <td>1.085394e+04</td>\n      <td>2.707024e+03</td>\n      <td>3.333284e+03</td>\n      <td>5.569475e+03</td>\n      <td>-2.497637</td>\n      <td>14.615045</td>\n      <td>1.089272e+07</td>\n      <td>-790.234419</td>\n      <td>-1.585465e+03</td>\n      <td>-1.893870e+04</td>\n      <td>-1.818242e+03</td>\n      <td>-3.629207e+03</td>\n      <td>-3.103871e+03</td>\n      <td>-1.700536</td>\n      <td>-7.828527e+05</td>\n      <td>-3.106063e+05</td>\n    </tr>\n    <tr>\n      <th>RETAILER_KEY</th>\n      <td>-318.075188</td>\n      <td>3.717800e+02</td>\n      <td>2.707024e+03</td>\n      <td>4.125491e+04</td>\n      <td>5.137878e+04</td>\n      <td>7.273065e+02</td>\n      <td>0.136413</td>\n      <td>129.857977</td>\n      <td>2.326203e+06</td>\n      <td>-537.291386</td>\n      <td>-1.335201e+03</td>\n      <td>2.790036e+03</td>\n      <td>-1.389371e+03</td>\n      <td>-2.794132e+03</td>\n      <td>-2.548475e+03</td>\n      <td>-0.909835</td>\n      <td>-2.552664e+04</td>\n      <td>-2.862293e+04</td>\n    </tr>\n    <tr>\n      <th>RETAILER_SITE_KEY</th>\n      <td>-348.982148</td>\n      <td>2.005514e+02</td>\n      <td>3.333284e+03</td>\n      <td>5.137878e+04</td>\n      <td>6.805432e+04</td>\n      <td>5.963677e+02</td>\n      <td>0.391159</td>\n      <td>172.787414</td>\n      <td>2.769631e+06</td>\n      <td>-605.639580</td>\n      <td>-1.432400e+03</td>\n      <td>3.646351e+03</td>\n      <td>-1.627593e+03</td>\n      <td>-3.260426e+03</td>\n      <td>-2.982535e+03</td>\n      <td>-1.062770</td>\n      <td>8.236556e+02</td>\n      <td>-2.309400e+04</td>\n    </tr>\n    <tr>\n      <th>PRODUCT_KEY</th>\n      <td>-521.749296</td>\n      <td>1.251007e+03</td>\n      <td>5.569475e+03</td>\n      <td>7.273065e+02</td>\n      <td>5.963677e+02</td>\n      <td>6.133504e+03</td>\n      <td>-3.505856</td>\n      <td>11.556414</td>\n      <td>7.831676e+06</td>\n      <td>-518.900972</td>\n      <td>-1.171138e+03</td>\n      <td>-1.355100e+04</td>\n      <td>-6.667649e+02</td>\n      <td>-1.114115e+03</td>\n      <td>-7.732211e+02</td>\n      <td>-0.153235</td>\n      <td>-6.232042e+05</td>\n      <td>-2.213616e+05</td>\n    </tr>\n    <tr>\n      <th>PROMOTION_KEY</th>\n      <td>0.867695</td>\n      <td>-5.862540e-01</td>\n      <td>-2.497637e+00</td>\n      <td>1.364130e-01</td>\n      <td>3.911593e-01</td>\n      <td>-3.505856e+00</td>\n      <td>0.070552</td>\n      <td>-0.006465</td>\n      <td>-3.270205e+03</td>\n      <td>0.843885</td>\n      <td>1.250723e+00</td>\n      <td>1.007163e+01</td>\n      <td>-8.225851e-01</td>\n      <td>-1.507510e+00</td>\n      <td>-1.820477e+00</td>\n      <td>-0.004383</td>\n      <td>3.430200e+02</td>\n      <td>4.403873e+01</td>\n    </tr>\n    <tr>\n      <th>ORDER_METHOD_KEY</th>\n      <td>-1.465005</td>\n      <td>3.602064e+00</td>\n      <td>1.461505e+01</td>\n      <td>1.298580e+02</td>\n      <td>1.727874e+02</td>\n      <td>1.155641e+01</td>\n      <td>-0.006465</td>\n      <td>2.003830</td>\n      <td>2.480640e+04</td>\n      <td>-2.375222</td>\n      <td>-9.659545e+00</td>\n      <td>-4.711371e+00</td>\n      <td>-1.062326e+01</td>\n      <td>-2.102679e+01</td>\n      <td>-1.895113e+01</td>\n      <td>-0.008126</td>\n      <td>-1.090954e+03</td>\n      <td>-5.589476e+02</td>\n    </tr>\n    <tr>\n      <th>SALES_ORDER_KEY</th>\n      <td>-859798.880199</td>\n      <td>1.727406e+06</td>\n      <td>1.089272e+07</td>\n      <td>2.326203e+06</td>\n      <td>2.769631e+06</td>\n      <td>7.831676e+06</td>\n      <td>-3270.204704</td>\n      <td>24806.403652</td>\n      <td>1.887538e+10</td>\n      <td>-842971.128897</td>\n      <td>-2.000241e+06</td>\n      <td>-2.566140e+07</td>\n      <td>-2.531166e+06</td>\n      <td>-5.023362e+06</td>\n      <td>-4.304225e+06</td>\n      <td>-2332.158310</td>\n      <td>-1.040653e+09</td>\n      <td>-4.131200e+08</td>\n    </tr>\n    <tr>\n      <th>SHIP_DAY_KEY</th>\n      <td>1973.795516</td>\n      <td>-1.833864e+02</td>\n      <td>-7.902344e+02</td>\n      <td>-5.372914e+02</td>\n      <td>-6.056396e+02</td>\n      <td>-5.189010e+02</td>\n      <td>0.843885</td>\n      <td>-2.375222</td>\n      <td>-8.429711e+05</td>\n      <td>2144.256482</td>\n      <td>2.255682e+03</td>\n      <td>1.503121e+03</td>\n      <td>1.333407e+02</td>\n      <td>2.723949e+02</td>\n      <td>2.229516e+02</td>\n      <td>0.187574</td>\n      <td>5.727400e+04</td>\n      <td>2.228521e+04</td>\n    </tr>\n    <tr>\n      <th>CLOSE_DAY_KEY</th>\n      <td>2085.177080</td>\n      <td>-3.568631e+02</td>\n      <td>-1.585465e+03</td>\n      <td>-1.335201e+03</td>\n      <td>-1.432400e+03</td>\n      <td>-1.171138e+03</td>\n      <td>1.250723</td>\n      <td>-9.659545</td>\n      <td>-2.000241e+06</td>\n      <td>2255.682162</td>\n      <td>3.111076e+03</td>\n      <td>3.219015e+03</td>\n      <td>3.352784e+02</td>\n      <td>6.522208e+02</td>\n      <td>5.454490e+02</td>\n      <td>0.365767</td>\n      <td>1.244657e+05</td>\n      <td>4.932001e+04</td>\n    </tr>\n    <tr>\n      <th>QUANTITY</th>\n      <td>1572.467607</td>\n      <td>-2.792053e+03</td>\n      <td>-1.893870e+04</td>\n      <td>2.790036e+03</td>\n      <td>3.646351e+03</td>\n      <td>-1.355100e+04</td>\n      <td>10.071627</td>\n      <td>-4.711371</td>\n      <td>-2.566140e+07</td>\n      <td>1503.121032</td>\n      <td>3.219015e+03</td>\n      <td>3.057343e+05</td>\n      <td>-1.267578e+04</td>\n      <td>-2.334914e+04</td>\n      <td>-2.257768e+04</td>\n      <td>13.857278</td>\n      <td>1.557663e+06</td>\n      <td>8.051690e+05</td>\n    </tr>\n    <tr>\n      <th>UNIT_COST</th>\n      <td>150.161919</td>\n      <td>-4.027113e+02</td>\n      <td>-1.818242e+03</td>\n      <td>-1.389371e+03</td>\n      <td>-1.627593e+03</td>\n      <td>-6.667649e+02</td>\n      <td>-0.822585</td>\n      <td>-10.623259</td>\n      <td>-2.531166e+06</td>\n      <td>133.340693</td>\n      <td>3.352784e+02</td>\n      <td>-1.267578e+04</td>\n      <td>1.226030e+04</td>\n      <td>2.288340e+04</td>\n      <td>2.137093e+04</td>\n      <td>-1.086637</td>\n      <td>1.196630e+06</td>\n      <td>4.652722e+05</td>\n    </tr>\n    <tr>\n      <th>UNIT_PRICE</th>\n      <td>307.454994</td>\n      <td>-7.969222e+02</td>\n      <td>-3.629207e+03</td>\n      <td>-2.794132e+03</td>\n      <td>-3.260426e+03</td>\n      <td>-1.114115e+03</td>\n      <td>-1.507510</td>\n      <td>-21.026795</td>\n      <td>-5.023362e+06</td>\n      <td>272.394892</td>\n      <td>6.522208e+02</td>\n      <td>-2.334914e+04</td>\n      <td>2.288340e+04</td>\n      <td>4.340110e+04</td>\n      <td>4.051262e+04</td>\n      <td>-0.911286</td>\n      <td>2.128972e+06</td>\n      <td>8.618755e+05</td>\n    </tr>\n    <tr>\n      <th>UNIT_SALE_PRICE</th>\n      <td>255.786619</td>\n      <td>-6.847893e+02</td>\n      <td>-3.103871e+03</td>\n      <td>-2.548475e+03</td>\n      <td>-2.982535e+03</td>\n      <td>-7.732211e+02</td>\n      <td>-1.820477</td>\n      <td>-18.951126</td>\n      <td>-4.304225e+06</td>\n      <td>222.951606</td>\n      <td>5.454490e+02</td>\n      <td>-2.257768e+04</td>\n      <td>2.137093e+04</td>\n      <td>4.051262e+04</td>\n      <td>3.784760e+04</td>\n      <td>-0.830598</td>\n      <td>1.951376e+06</td>\n      <td>7.908648e+05</td>\n    </tr>\n    <tr>\n      <th>GROSS_MARGIN</th>\n      <td>0.209498</td>\n      <td>-3.713825e-01</td>\n      <td>-1.700536e+00</td>\n      <td>-9.098352e-01</td>\n      <td>-1.062770e+00</td>\n      <td>-1.532347e-01</td>\n      <td>-0.004383</td>\n      <td>-0.008126</td>\n      <td>-2.332158e+03</td>\n      <td>0.187574</td>\n      <td>3.657667e-01</td>\n      <td>1.385728e+01</td>\n      <td>-1.086637e+00</td>\n      <td>-9.112862e-01</td>\n      <td>-8.305981e-01</td>\n      <td>0.009523</td>\n      <td>-3.617359e+02</td>\n      <td>-2.856238e+01</td>\n    </tr>\n    <tr>\n      <th>SALE_TOTAL</th>\n      <td>61363.970743</td>\n      <td>-1.114871e+05</td>\n      <td>-7.828527e+05</td>\n      <td>-2.552664e+04</td>\n      <td>8.236556e+02</td>\n      <td>-6.232042e+05</td>\n      <td>343.019963</td>\n      <td>-1090.953558</td>\n      <td>-1.040653e+09</td>\n      <td>57274.004019</td>\n      <td>1.244657e+05</td>\n      <td>1.557663e+06</td>\n      <td>1.196630e+06</td>\n      <td>2.128972e+06</td>\n      <td>1.951376e+06</td>\n      <td>-361.735903</td>\n      <td>3.224582e+08</td>\n      <td>1.141113e+08</td>\n    </tr>\n    <tr>\n      <th>GROSS_PROFIT</th>\n      <td>24090.492969</td>\n      <td>-4.384761e+04</td>\n      <td>-3.106063e+05</td>\n      <td>-2.862293e+04</td>\n      <td>-2.309400e+04</td>\n      <td>-2.213616e+05</td>\n      <td>44.038728</td>\n      <td>-558.947577</td>\n      <td>-4.131200e+08</td>\n      <td>22285.214270</td>\n      <td>4.932001e+04</td>\n      <td>8.051690e+05</td>\n      <td>4.652722e+05</td>\n      <td>8.618755e+05</td>\n      <td>7.908648e+05</td>\n      <td>-28.562381</td>\n      <td>1.141113e+08</td>\n      <td>4.381322e+07</td>\n    </tr>\n  </tbody>\n</table>\n</div>", 
                        "text/plain": "                   ORDER_DAY_KEY  ORGANIZATION_KEY  EMPLOYEE_KEY  \\\nORDER_DAY_KEY        1978.830249     -1.870265e+02 -8.022758e+02   \nORGANIZATION_KEY     -187.026496      7.218506e+02  1.340842e+03   \nEMPLOYEE_KEY         -802.275832      1.340842e+03  1.085394e+04   \nRETAILER_KEY         -318.075188      3.717800e+02  2.707024e+03   \nRETAILER_SITE_KEY    -348.982148      2.005514e+02  3.333284e+03   \nPRODUCT_KEY          -521.749296      1.251007e+03  5.569475e+03   \nPROMOTION_KEY           0.867695     -5.862540e-01 -2.497637e+00   \nORDER_METHOD_KEY       -1.465005      3.602064e+00  1.461505e+01   \nSALES_ORDER_KEY   -859798.880199      1.727406e+06  1.089272e+07   \nSHIP_DAY_KEY         1973.795516     -1.833864e+02 -7.902344e+02   \nCLOSE_DAY_KEY        2085.177080     -3.568631e+02 -1.585465e+03   \nQUANTITY             1572.467607     -2.792053e+03 -1.893870e+04   \nUNIT_COST             150.161919     -4.027113e+02 -1.818242e+03   \nUNIT_PRICE            307.454994     -7.969222e+02 -3.629207e+03   \nUNIT_SALE_PRICE       255.786619     -6.847893e+02 -3.103871e+03   \nGROSS_MARGIN            0.209498     -3.713825e-01 -1.700536e+00   \nSALE_TOTAL          61363.970743     -1.114871e+05 -7.828527e+05   \nGROSS_PROFIT        24090.492969     -4.384761e+04 -3.106063e+05   \n\n                   RETAILER_KEY  RETAILER_SITE_KEY   PRODUCT_KEY  \\\nORDER_DAY_KEY     -3.180752e+02      -3.489821e+02 -5.217493e+02   \nORGANIZATION_KEY   3.717800e+02       2.005514e+02  1.251007e+03   \nEMPLOYEE_KEY       2.707024e+03       3.333284e+03  5.569475e+03   \nRETAILER_KEY       4.125491e+04       5.137878e+04  7.273065e+02   \nRETAILER_SITE_KEY  5.137878e+04       6.805432e+04  5.963677e+02   \nPRODUCT_KEY        7.273065e+02       5.963677e+02  6.133504e+03   \nPROMOTION_KEY      1.364130e-01       3.911593e-01 -3.505856e+00   \nORDER_METHOD_KEY   1.298580e+02       1.727874e+02  1.155641e+01   \nSALES_ORDER_KEY    2.326203e+06       2.769631e+06  7.831676e+06   \nSHIP_DAY_KEY      -5.372914e+02      -6.056396e+02 -5.189010e+02   \nCLOSE_DAY_KEY     -1.335201e+03      -1.432400e+03 -1.171138e+03   \nQUANTITY           2.790036e+03       3.646351e+03 -1.355100e+04   \nUNIT_COST         -1.389371e+03      -1.627593e+03 -6.667649e+02   \nUNIT_PRICE        -2.794132e+03      -3.260426e+03 -1.114115e+03   \nUNIT_SALE_PRICE   -2.548475e+03      -2.982535e+03 -7.732211e+02   \nGROSS_MARGIN      -9.098352e-01      -1.062770e+00 -1.532347e-01   \nSALE_TOTAL        -2.552664e+04       8.236556e+02 -6.232042e+05   \nGROSS_PROFIT      -2.862293e+04      -2.309400e+04 -2.213616e+05   \n\n                   PROMOTION_KEY  ORDER_METHOD_KEY  SALES_ORDER_KEY  \\\nORDER_DAY_KEY           0.867695         -1.465005    -8.597989e+05   \nORGANIZATION_KEY       -0.586254          3.602064     1.727406e+06   \nEMPLOYEE_KEY           -2.497637         14.615045     1.089272e+07   \nRETAILER_KEY            0.136413        129.857977     2.326203e+06   \nRETAILER_SITE_KEY       0.391159        172.787414     2.769631e+06   \nPRODUCT_KEY            -3.505856         11.556414     7.831676e+06   \nPROMOTION_KEY           0.070552         -0.006465    -3.270205e+03   \nORDER_METHOD_KEY       -0.006465          2.003830     2.480640e+04   \nSALES_ORDER_KEY     -3270.204704      24806.403652     1.887538e+10   \nSHIP_DAY_KEY            0.843885         -2.375222    -8.429711e+05   \nCLOSE_DAY_KEY           1.250723         -9.659545    -2.000241e+06   \nQUANTITY               10.071627         -4.711371    -2.566140e+07   \nUNIT_COST              -0.822585        -10.623259    -2.531166e+06   \nUNIT_PRICE             -1.507510        -21.026795    -5.023362e+06   \nUNIT_SALE_PRICE        -1.820477        -18.951126    -4.304225e+06   \nGROSS_MARGIN           -0.004383         -0.008126    -2.332158e+03   \nSALE_TOTAL            343.019963      -1090.953558    -1.040653e+09   \nGROSS_PROFIT           44.038728       -558.947577    -4.131200e+08   \n\n                    SHIP_DAY_KEY  CLOSE_DAY_KEY      QUANTITY     UNIT_COST  \\\nORDER_DAY_KEY        1973.795516   2.085177e+03  1.572468e+03  1.501619e+02   \nORGANIZATION_KEY     -183.386378  -3.568631e+02 -2.792053e+03 -4.027113e+02   \nEMPLOYEE_KEY         -790.234419  -1.585465e+03 -1.893870e+04 -1.818242e+03   \nRETAILER_KEY         -537.291386  -1.335201e+03  2.790036e+03 -1.389371e+03   \nRETAILER_SITE_KEY    -605.639580  -1.432400e+03  3.646351e+03 -1.627593e+03   \nPRODUCT_KEY          -518.900972  -1.171138e+03 -1.355100e+04 -6.667649e+02   \nPROMOTION_KEY           0.843885   1.250723e+00  1.007163e+01 -8.225851e-01   \nORDER_METHOD_KEY       -2.375222  -9.659545e+00 -4.711371e+00 -1.062326e+01   \nSALES_ORDER_KEY   -842971.128897  -2.000241e+06 -2.566140e+07 -2.531166e+06   \nSHIP_DAY_KEY         2144.256482   2.255682e+03  1.503121e+03  1.333407e+02   \nCLOSE_DAY_KEY        2255.682162   3.111076e+03  3.219015e+03  3.352784e+02   \nQUANTITY             1503.121032   3.219015e+03  3.057343e+05 -1.267578e+04   \nUNIT_COST             133.340693   3.352784e+02 -1.267578e+04  1.226030e+04   \nUNIT_PRICE            272.394892   6.522208e+02 -2.334914e+04  2.288340e+04   \nUNIT_SALE_PRICE       222.951606   5.454490e+02 -2.257768e+04  2.137093e+04   \nGROSS_MARGIN            0.187574   3.657667e-01  1.385728e+01 -1.086637e+00   \nSALE_TOTAL          57274.004019   1.244657e+05  1.557663e+06  1.196630e+06   \nGROSS_PROFIT        22285.214270   4.932001e+04  8.051690e+05  4.652722e+05   \n\n                     UNIT_PRICE  UNIT_SALE_PRICE  GROSS_MARGIN    SALE_TOTAL  \\\nORDER_DAY_KEY      3.074550e+02     2.557866e+02      0.209498  6.136397e+04   \nORGANIZATION_KEY  -7.969222e+02    -6.847893e+02     -0.371383 -1.114871e+05   \nEMPLOYEE_KEY      -3.629207e+03    -3.103871e+03     -1.700536 -7.828527e+05   \nRETAILER_KEY      -2.794132e+03    -2.548475e+03     -0.909835 -2.552664e+04   \nRETAILER_SITE_KEY -3.260426e+03    -2.982535e+03     -1.062770  8.236556e+02   \nPRODUCT_KEY       -1.114115e+03    -7.732211e+02     -0.153235 -6.232042e+05   \nPROMOTION_KEY     -1.507510e+00    -1.820477e+00     -0.004383  3.430200e+02   \nORDER_METHOD_KEY  -2.102679e+01    -1.895113e+01     -0.008126 -1.090954e+03   \nSALES_ORDER_KEY   -5.023362e+06    -4.304225e+06  -2332.158310 -1.040653e+09   \nSHIP_DAY_KEY       2.723949e+02     2.229516e+02      0.187574  5.727400e+04   \nCLOSE_DAY_KEY      6.522208e+02     5.454490e+02      0.365767  1.244657e+05   \nQUANTITY          -2.334914e+04    -2.257768e+04     13.857278  1.557663e+06   \nUNIT_COST          2.288340e+04     2.137093e+04     -1.086637  1.196630e+06   \nUNIT_PRICE         4.340110e+04     4.051262e+04     -0.911286  2.128972e+06   \nUNIT_SALE_PRICE    4.051262e+04     3.784760e+04     -0.830598  1.951376e+06   \nGROSS_MARGIN      -9.112862e-01    -8.305981e-01      0.009523 -3.617359e+02   \nSALE_TOTAL         2.128972e+06     1.951376e+06   -361.735903  3.224582e+08   \nGROSS_PROFIT       8.618755e+05     7.908648e+05    -28.562381  1.141113e+08   \n\n                   GROSS_PROFIT  \nORDER_DAY_KEY      2.409049e+04  \nORGANIZATION_KEY  -4.384761e+04  \nEMPLOYEE_KEY      -3.106063e+05  \nRETAILER_KEY      -2.862293e+04  \nRETAILER_SITE_KEY -2.309400e+04  \nPRODUCT_KEY       -2.213616e+05  \nPROMOTION_KEY      4.403873e+01  \nORDER_METHOD_KEY  -5.589476e+02  \nSALES_ORDER_KEY   -4.131200e+08  \nSHIP_DAY_KEY       2.228521e+04  \nCLOSE_DAY_KEY      4.932001e+04  \nQUANTITY           8.051690e+05  \nUNIT_COST          4.652722e+05  \nUNIT_PRICE         8.618755e+05  \nUNIT_SALE_PRICE    7.908648e+05  \nGROSS_MARGIN      -2.856238e+01  \nSALE_TOTAL         1.141113e+08  \nGROSS_PROFIT       4.381322e+07  "
                    }, 
                    "execution_count": 4, 
                    "metadata": {}
                }
            ], 
            "execution_count": 4
        }, 
        {
            "source": "#from ibmdbpy.sampledata.iris import iris\nfrom sklearn.datasets import load_iris\nimport pandas as pd", 
            "cell_type": "code", 
            "metadata": {}, 
            "outputs": [], 
            "execution_count": 18
        }, 
        {
            "source": "iris1 = load_iris()", 
            "cell_type": "code", 
            "metadata": {}, 
            "outputs": [], 
            "execution_count": 8
        }, 
        {
            "source": "type(iris1.data)", 
            "cell_type": "code", 
            "metadata": {}, 
            "outputs": [
                {
                    "output_type": "execute_result", 
                    "data": {
                        "text/plain": "numpy.ndarray"
                    }, 
                    "execution_count": 13, 
                    "metadata": {}
                }
            ], 
            "execution_count": 13
        }, 
        {
            "source": "#iris_tab = idadb.as_idadataframe(pd.DataFrame(iris[\"data\"], columns=iris1[\"feature_names\"]), \"IRIS\", clear_existing = True)\niris_tab = idadb.as_idadataframe(pd.DataFrame(iris1[\"data\"], columns=[\"SEPAL_LENGTH\",\"SEPAL_WIDTH\",\"PETAL_LENGTH\",\"PETAL_WIDTH\"]), \"IRIS\", clear_existing = True)", 
            "cell_type": "code", 
            "metadata": {}, 
            "outputs": [
                {
                    "output_type": "stream", 
                    "name": "stdout", 
                    "text": "> DROP TABLE IRIS\n<< AUTOCOMMIT >>\n> CREATE TABLE \"IRIS\" (\"SEPAL_LENGTH\" DOUBLE,\"SEPAL_WIDTH\" DOUBLE,\"PETAL_LENGTH\" DOUBLE,\"PETAL_WIDTH\" DOUBLE)\n> SELECT distinct TABSCHEMA, TABNAME, OWNER, TYPE from SYSCAT.TABLES WHERE (OWNERTYPE = 'U') ORDER BY \"TABSCHEMA\",\"TABNAME\"\nUploading 150 rows (maxnrow was set to 2000)\n<< AUTOCOMMIT >>\nExecution time: 0.319364070892334 seconds.\n"
                }
            ], 
            "execution_count": 23
        }, 
        {
            "source": "iris_tab.head()", 
            "cell_type": "code", 
            "metadata": {
                "scrolled": true
            }, 
            "outputs": [
                {
                    "output_type": "stream", 
                    "name": "stdout", 
                    "text": "> SELECT COLNAME, TYPENAME FROM SYSCAT.COLUMNS WHERE TABNAME='IRIS' AND TABSCHEMA='DASH5014' ORDER BY COLNO\n> SELECT * FROM DASH5014.IRIS ORDER BY \"SEPAL_LENGTH\" ASC FETCH FIRST 5 ROWS ONLY\n"
                }, 
                {
                    "output_type": "execute_result", 
                    "data": {
                        "text/html": "<div>\n<style scoped>\n    .dataframe tbody tr th:only-of-type {\n        vertical-align: middle;\n    }\n\n    .dataframe tbody tr th {\n        vertical-align: top;\n    }\n\n    .dataframe thead th {\n        text-align: right;\n    }\n</style>\n<table border=\"1\" class=\"dataframe\">\n  <thead>\n    <tr style=\"text-align: right;\">\n      <th></th>\n      <th>SEPAL_LENGTH</th>\n      <th>SEPAL_WIDTH</th>\n      <th>PETAL_LENGTH</th>\n      <th>PETAL_WIDTH</th>\n    </tr>\n  </thead>\n  <tbody>\n    <tr>\n      <th>0</th>\n      <td>4.3</td>\n      <td>3.0</td>\n      <td>1.1</td>\n      <td>0.1</td>\n    </tr>\n    <tr>\n      <th>1</th>\n      <td>4.4</td>\n      <td>3.0</td>\n      <td>1.3</td>\n      <td>0.2</td>\n    </tr>\n    <tr>\n      <th>2</th>\n      <td>4.4</td>\n      <td>2.9</td>\n      <td>1.4</td>\n      <td>0.2</td>\n    </tr>\n    <tr>\n      <th>3</th>\n      <td>4.4</td>\n      <td>3.2</td>\n      <td>1.3</td>\n      <td>0.2</td>\n    </tr>\n    <tr>\n      <th>4</th>\n      <td>4.5</td>\n      <td>2.3</td>\n      <td>1.3</td>\n      <td>0.3</td>\n    </tr>\n  </tbody>\n</table>\n</div>", 
                        "text/plain": "   SEPAL_LENGTH  SEPAL_WIDTH  PETAL_LENGTH  PETAL_WIDTH\n0           4.3          3.0           1.1          0.1\n1           4.4          3.0           1.3          0.2\n2           4.4          2.9           1.4          0.2\n3           4.4          3.2           1.3          0.2\n4           4.5          2.3           1.3          0.3"
                    }, 
                    "execution_count": 24, 
                    "metadata": {}
                }
            ], 
            "execution_count": 24
        }, 
        {
            "source": "from sklearn.model_selection import train_test_split\n\nX_train, X_test, y_train, y_test = train_test_split(iris1.data, iris1.target, random_state = 3)", 
            "cell_type": "code", 
            "metadata": {}, 
            "outputs": [], 
            "execution_count": 25
        }, 
        {
            "source": "iris_train = idadb.as_idadataframe(pd.DataFrame(X_train, columns=[\"SEPAL_LENGTH\",\"SEPAL_WIDTH\",\"PETAL_LENGTH\",\"PETAL_WIDTH\"]), \"IRIS\", clear_existing = True)", 
            "cell_type": "code", 
            "metadata": {}, 
            "outputs": [
                {
                    "output_type": "stream", 
                    "name": "stdout", 
                    "text": "> DROP TABLE IRIS\n<< AUTOCOMMIT >>\n> CREATE TABLE \"IRIS\" (\"SEPAL_LENGTH\" DOUBLE,\"SEPAL_WIDTH\" DOUBLE,\"PETAL_LENGTH\" DOUBLE,\"PETAL_WIDTH\" DOUBLE)\n> SELECT distinct TABSCHEMA, TABNAME, OWNER, TYPE from SYSCAT.TABLES WHERE (OWNERTYPE = 'U') ORDER BY \"TABSCHEMA\",\"TABNAME\"\nUploading 112 rows (maxnrow was set to 2000)\n<< AUTOCOMMIT >>\nExecution time: 0.3726348876953125 seconds.\n"
                }
            ], 
            "execution_count": 27
        }, 
        {
            "source": "ida_df_1[\"PROMOTION_KEY\"].count()", 
            "cell_type": "code", 
            "metadata": {}, 
            "outputs": [
                {
                    "output_type": "stream", 
                    "name": "stdout", 
                    "text": "> SELECT COUNT(\"PROMOTION_KEY\") FROM (SELECT \"PROMOTION_KEY\" FROM GOSALESDW.SLS_SALES_FACT)\nExecution time: 0.06115102767944336 seconds.\n"
                }, 
                {
                    "output_type": "execute_result", 
                    "data": {
                        "text/plain": "446023"
                    }, 
                    "execution_count": 29, 
                    "metadata": {}
                }
            ], 
            "execution_count": 29
        }, 
        {
            "source": "from ibmdbpy.sampledata.iris import iris", 
            "cell_type": "code", 
            "metadata": {}, 
            "outputs": [], 
            "execution_count": 30
        }, 
        {
            "source": "iris_tab2 = idadb.as_idadataframe(iris, \"IRIS2\", clear_existing = True)", 
            "cell_type": "code", 
            "metadata": {}, 
            "outputs": [
                {
                    "output_type": "stream", 
                    "name": "stdout", 
                    "text": "> CREATE TABLE \"IRIS2\" (\"sepal_length\" DOUBLE,\"sepal_width\" DOUBLE,\"petal_length\" DOUBLE,\"petal_width\" DOUBLE,\"species\" VARCHAR(255))\nUploading 150 rows (maxnrow was set to 1600)\n<< AUTOCOMMIT >>\nExecution time: 0.3576629161834717 seconds.\n"
                }
            ], 
            "execution_count": 31
        }, 
        {
            "source": "y_train", 
            "cell_type": "code", 
            "metadata": {}, 
            "outputs": [
                {
                    "output_type": "execute_result", 
                    "data": {
                        "text/plain": "array([2, 1, 2, 1, 0, 0, 2, 1, 0, 1, 2, 1, 0, 0, 2, 1, 1, 0, 2, 0, 2, 1, 0,\n       0, 2, 1, 0, 0, 1, 2, 2, 0, 2, 1, 0, 0, 2, 2, 2, 1, 1, 1, 0, 0, 2, 2,\n       1, 2, 1, 2, 0, 2, 0, 1, 1, 2, 2, 0, 1, 0, 1, 1, 1, 0, 2, 0, 2, 1, 2,\n       1, 2, 1, 0, 2, 1, 2, 1, 0, 1, 2, 0, 1, 0, 0, 0, 1, 2, 0, 0, 2, 0, 1,\n       2, 1, 2, 2, 1, 1, 2, 1, 0, 1, 1, 0, 1, 2, 2, 2, 0, 0, 2, 2])"
                    }, 
                    "execution_count": 32, 
                    "metadata": {}
                }
            ], 
            "execution_count": 32
        }, 
        {
            "source": "iris_tab2[\"species\"].head()", 
            "cell_type": "code", 
            "metadata": {}, 
            "outputs": [
                {
                    "output_type": "stream", 
                    "name": "stdout", 
                    "text": "> CREATE VIEW \"TEMP_VIEW_IRIS2_23836_1527711841\" AS (SELECT \"species\" FROM DASH5014.IRIS2)\n<< AUTOCOMMIT >>\n> SELECT COLNAME, TYPENAME FROM SYSCAT.COLUMNS WHERE TABNAME='TEMP_VIEW_IRIS2_23836_1527711841' ORDER BY COLNO\n> DROP VIEW \"TEMP_VIEW_IRIS2_23836_1527711841\"\n<< AUTOCOMMIT >>\n> SELECT * FROM (SELECT \"species\" FROM DASH5014.IRIS2) ORDER BY \"species\" ASC FETCH FIRST 5 ROWS ONLY\n"
                }, 
                {
                    "output_type": "execute_result", 
                    "data": {
                        "text/plain": "0    setosa\n1    setosa\n2    setosa\n3    setosa\n4    setosa\nName: species, dtype: object"
                    }, 
                    "execution_count": 34, 
                    "metadata": {}
                }
            ], 
            "execution_count": 34
        }, 
        {
            "source": "", 
            "cell_type": "code", 
            "metadata": {}, 
            "outputs": [], 
            "execution_count": null
        }
    ], 
    "metadata": {
        "kernelspec": {
            "display_name": "Python 3.5", 
            "name": "python3", 
            "language": "python"
        }, 
        "language_info": {
            "mimetype": "text/x-python", 
            "nbconvert_exporter": "python", 
            "version": "3.5.4", 
            "name": "python", 
            "pygments_lexer": "ipython3", 
            "file_extension": ".py", 
            "codemirror_mode": {
                "version": 3, 
                "name": "ipython"
            }
        }
    }, 
    "nbformat": 4
}