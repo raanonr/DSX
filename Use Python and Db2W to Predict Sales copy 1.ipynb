{
    "nbformat_minor": 1, 
    "cells": [
        {
            "source": "<table style=\"border: none\" align=\"left\">\n   <tr style=\"border: none\">\n      <th style=\"border: none\"><font face=\"verdana\" size=\"5\" color=\"black\"><b>Use Spark and Python to Predict Equipment Purchase</b></th>\n      <th style=\"border: none\"><img src=\"https://github.com/pmservice/customer-satisfaction-prediction/blob/master/app/static/images/ml_icon_gray.png?raw=true\" alt=\"Watson Machine Learning icon\" height=\"40\" width=\"40\"></th>\n   </tr>\n   <tr style=\"border: none\">\n       <th style=\"border: none\"><img src=\"https://github.com/pmservice/wml-sample-models/blob/master/spark/product-line-prediction/images/products_graphics.png?raw=true\" alt=\"Icon\"> </th>\n   </tr>\n</table>", 
            "cell_type": "markdown", 
            "metadata": {}
        }, 
        {
            "source": "This notebook contains steps and code to get data from the IBM Watson Studio Community, create a predictive model, and start scoring new data. This notebook introduces commands for getting data and for basic data cleaning and exploration, pipeline creation, model training, model persistance to the Watson Machine Learning repository, model deployment, and scoring.\n\nSome familiarity with Python is helpful. This notebook uses Python 3.5 and Apache Spark 2.1.\n\nYou will use a publicly available data set, **GoSales Transactions for Naive Bayes Model**, which details anonymous outdoor equipment purchases. Use the details of this data set to predict clients' interests in terms of product line, such as golf accessories, camping equipment and so on.\n\n**Note**: In this notebook we use GOSales data available on [Watson Studio Community](https://apsportal.ibm.com/exchange-api/v1/entries/8044492073eb964f46597b4be06ff5ea/data?accessKey=9561295fa407698694b1e254d0099600).\n\n## Learning goals\n\nYou will learn how to:\n\n-  Load a CSV file into an Apache Spark DataFrame.\n-  Explore data.\n-  Prepare data for training and evaluation.\n-  Create an Apache Spark machine learning pipeline.\n-  Train and evaluate a model.\n-  Store a pipeline and model in Watson Machine Learning (WML) repository.\n-  Deploy a model for online scoring using the Watson Machine Learning (WML) API.\n-  Score sample scoring data using the WML API.\n-  Explore and visualize the prediction result using the plotly package.\n\n\n## Contents\n\nThis notebook contains the following parts:\n\n1.\t[Set up](#setup)\n2.\t[Load and explore data](#load)\n3.\t[Create a spark ml model](#model)\n4.\t[Store the model](#persistence)\n5.\t[Predict locally and visualize](#visualization)\n6.\t[Deploy and score in a Cloud](#scoring)\n7.\t[Summary and next steps](#summary)", 
            "cell_type": "markdown", 
            "metadata": {}
        }, 
        {
            "source": "<a id=\"setup\"></a>\n## 1. Set up\n\nBefore you use the sample code in this notebook, you must perform the following setup tasks:\n\n-  If you do not have existing instance of [Watson Machine Learning (WML) Service](https://console.ng.bluemix.net/catalog/services/ibm-watson-machine-learning/) create one (a free plan is offered and information about how to create the instance is [here](https://dataplatform.ibm.com/docs/content/analyze-data/wml-setup.html))\n-  Make sure that you are using a Spark 2.1 kernel\n-  Download **GoSales Transactions** from the Watson Studio Community (code provided below).", 
            "cell_type": "markdown", 
            "metadata": {}
        }, 
        {
            "source": "<a id=\"load\"></a>\n## 2. Load and explore data", 
            "cell_type": "markdown", 
            "metadata": {}
        }, 
        {
            "source": "In this section you will load the data as an Apache Spark DataFrame and perform a basic exploration.\n\nLoad the data to the Spark DataFrame by using *wget* to upload the data to gpfs and then use spark *read* method to read data. ", 
            "cell_type": "markdown", 
            "metadata": {}
        }, 
        {
            "source": "# Install wget if you don't already have it.\n!pip install wget", 
            "cell_type": "code", 
            "metadata": {}, 
            "outputs": [], 
            "execution_count": null
        }, 
        {
            "source": "import wget\n\nlink_to_data = 'https://apsportal.ibm.com/exchange-api/v1/entries/8044492073eb964f46597b4be06ff5ea/data?accessKey=9561295fa407698694b1e254d0099600'\nfilename = wget.download(link_to_data)\n\nprint(filename)", 
            "cell_type": "code", 
            "metadata": {}, 
            "outputs": [
                {
                    "output_type": "stream", 
                    "name": "stdout", 
                    "text": "GoSales_Tx_NaiveBayes.csv\n"
                }
            ], 
            "execution_count": 4
        }, 
        {
            "source": "The csv file GoSales_Tx_NaiveBayes.csv is availble on gpfs now. Load the file to Apache Spark DataFrame using code below.", 
            "cell_type": "markdown", 
            "metadata": {}
        }, 
        {
            "source": "spark = SparkSession.builder.getOrCreate()\n\ndf_data = spark.read\\\n  .format('org.apache.spark.sql.execution.datasources.csv.CSVFileFormat')\\\n  .option('header', 'true')\\\n  .option('inferSchema', 'true')\\\n  .load(filename)", 
            "cell_type": "code", 
            "metadata": {}, 
            "outputs": [], 
            "execution_count": 5
        }, 
        {
            "source": "from ibmdbpy import IdaDataBase, IdaDataFrame\n\n# @hidden_cell\n# This connection object is used to access your data and contains your credentials.\n# You might want to remove those credentials before you share your notebook.\nidadb = IdaDataBase(dsn='DASHDB;Database=BLUDB;Hostname=dashdb-entry-yp-dal10-01.services.dal.bluemix.net;Port=50000;PROTOCOL=TCPIP;UID=dash5014;PWD=85y_E_UgviMC', verbose=True)\n\ndf_data = IdaDataFrame(idadb, 'GOSALESDW.SLS_SALES_FACT')\ndf_data.head()\n\n# You can close the database connection with the following code. Please keep the comment line with the @hidden_cell tag,\n# because the close function displays parts of the credentials.\n# @hidden_cell\n# idadb_22ff48a8fcc54518aa9b4b78f9a913e4.close()\n# To learn more about the ibmdby package, please read the documentation: http://pythonhosted.org/ibmdbpy/", 
            "cell_type": "code", 
            "metadata": {}, 
            "outputs": [
                {
                    "output_type": "stream", 
                    "name": "stdout", 
                    "text": "> SELECT distinct TABSCHEMA, TABNAME, OWNER, TYPE from SYSCAT.TABLES WHERE (OWNERTYPE = 'U') ORDER BY \"TABSCHEMA\",\"TABNAME\"\n> SELECT COLNAME, TYPENAME FROM SYSCAT.COLUMNS WHERE TABNAME='SLS_SALES_FACT' AND TABSCHEMA='GOSALESDW' ORDER BY COLNO\n> SELECT * FROM GOSALESDW.SLS_SALES_FACT ORDER BY \"ORDER_DAY_KEY\" ASC FETCH FIRST 5 ROWS ONLY\n"
                }, 
                {
                    "output_type": "execute_result", 
                    "data": {
                        "text/plain": "   ORDER_DAY_KEY  ORGANIZATION_KEY  EMPLOYEE_KEY  RETAILER_KEY  \\\n0       20100112             11101          4001          6737   \n1       20100112             11101          4001          6986   \n2       20100112             11101          4001          6986   \n3       20100112             11101          4001          6737   \n4       20100112             11101          4001          6737   \n\n   RETAILER_SITE_KEY  PRODUCT_KEY  PROMOTION_KEY  ORDER_METHOD_KEY  \\\n0               5185        30126           5501               602   \n1               5465        30103           5501               606   \n2               5465        30100           5501               606   \n3               5185        30132           5501               602   \n4               5185        30128           5501               602   \n\n   SALES_ORDER_KEY  SHIP_DAY_KEY  CLOSE_DAY_KEY  QUANTITY  UNIT_COST  \\\n0           194778      20100119       20100119       587      34.90   \n1           194770      20100119       20100119      1776       1.86   \n2           194768      20100119       20100119       129      56.23   \n3           194777      20100119       20100119       576       2.67   \n4           194779      20100119       20100119       214      91.80   \n\n   UNIT_PRICE  UNIT_SALE_PRICE  GROSS_MARGIN  SALE_TOTAL  GROSS_PROFIT  \n0       76.86            71.48        0.5118    41958.76      21472.46  \n1        6.00             5.70        0.6737    10123.20       6819.84  \n2       96.44            89.69        0.3731    11570.01       4316.34  \n3       10.71            10.28        0.7403     5921.28       4383.36  \n4      180.63           167.99        0.4535    35949.86      16304.66  ", 
                        "text/html": "<div>\n<style scoped>\n    .dataframe tbody tr th:only-of-type {\n        vertical-align: middle;\n    }\n\n    .dataframe tbody tr th {\n        vertical-align: top;\n    }\n\n    .dataframe thead th {\n        text-align: right;\n    }\n</style>\n<table border=\"1\" class=\"dataframe\">\n  <thead>\n    <tr style=\"text-align: right;\">\n      <th></th>\n      <th>ORDER_DAY_KEY</th>\n      <th>ORGANIZATION_KEY</th>\n      <th>EMPLOYEE_KEY</th>\n      <th>RETAILER_KEY</th>\n      <th>RETAILER_SITE_KEY</th>\n      <th>PRODUCT_KEY</th>\n      <th>PROMOTION_KEY</th>\n      <th>ORDER_METHOD_KEY</th>\n      <th>SALES_ORDER_KEY</th>\n      <th>SHIP_DAY_KEY</th>\n      <th>CLOSE_DAY_KEY</th>\n      <th>QUANTITY</th>\n      <th>UNIT_COST</th>\n      <th>UNIT_PRICE</th>\n      <th>UNIT_SALE_PRICE</th>\n      <th>GROSS_MARGIN</th>\n      <th>SALE_TOTAL</th>\n      <th>GROSS_PROFIT</th>\n    </tr>\n  </thead>\n  <tbody>\n    <tr>\n      <th>0</th>\n      <td>20100112</td>\n      <td>11101</td>\n      <td>4001</td>\n      <td>6737</td>\n      <td>5185</td>\n      <td>30126</td>\n      <td>5501</td>\n      <td>602</td>\n      <td>194778</td>\n      <td>20100119</td>\n      <td>20100119</td>\n      <td>587</td>\n      <td>34.90</td>\n      <td>76.86</td>\n      <td>71.48</td>\n      <td>0.5118</td>\n      <td>41958.76</td>\n      <td>21472.46</td>\n    </tr>\n    <tr>\n      <th>1</th>\n      <td>20100112</td>\n      <td>11101</td>\n      <td>4001</td>\n      <td>6986</td>\n      <td>5465</td>\n      <td>30103</td>\n      <td>5501</td>\n      <td>606</td>\n      <td>194770</td>\n      <td>20100119</td>\n      <td>20100119</td>\n      <td>1776</td>\n      <td>1.86</td>\n      <td>6.00</td>\n      <td>5.70</td>\n      <td>0.6737</td>\n      <td>10123.20</td>\n      <td>6819.84</td>\n    </tr>\n    <tr>\n      <th>2</th>\n      <td>20100112</td>\n      <td>11101</td>\n      <td>4001</td>\n      <td>6986</td>\n      <td>5465</td>\n      <td>30100</td>\n      <td>5501</td>\n      <td>606</td>\n      <td>194768</td>\n      <td>20100119</td>\n      <td>20100119</td>\n      <td>129</td>\n      <td>56.23</td>\n      <td>96.44</td>\n      <td>89.69</td>\n      <td>0.3731</td>\n      <td>11570.01</td>\n      <td>4316.34</td>\n    </tr>\n    <tr>\n      <th>3</th>\n      <td>20100112</td>\n      <td>11101</td>\n      <td>4001</td>\n      <td>6737</td>\n      <td>5185</td>\n      <td>30132</td>\n      <td>5501</td>\n      <td>602</td>\n      <td>194777</td>\n      <td>20100119</td>\n      <td>20100119</td>\n      <td>576</td>\n      <td>2.67</td>\n      <td>10.71</td>\n      <td>10.28</td>\n      <td>0.7403</td>\n      <td>5921.28</td>\n      <td>4383.36</td>\n    </tr>\n    <tr>\n      <th>4</th>\n      <td>20100112</td>\n      <td>11101</td>\n      <td>4001</td>\n      <td>6737</td>\n      <td>5185</td>\n      <td>30128</td>\n      <td>5501</td>\n      <td>602</td>\n      <td>194779</td>\n      <td>20100119</td>\n      <td>20100119</td>\n      <td>214</td>\n      <td>91.80</td>\n      <td>180.63</td>\n      <td>167.99</td>\n      <td>0.4535</td>\n      <td>35949.86</td>\n      <td>16304.66</td>\n    </tr>\n  </tbody>\n</table>\n</div>"
                    }, 
                    "execution_count": 1, 
                    "metadata": {}
                }
            ], 
            "execution_count": 1
        }, 
        {
            "source": "idadb.ida_query(\"SELECT COUNT(DISTINCT retailer_site_key), COUNT(retailer_site_key) FROM gosalesdw.sls_rtl_dim\")", 
            "cell_type": "code", 
            "metadata": {}, 
            "outputs": [
                {
                    "output_type": "stream", 
                    "name": "stdout", 
                    "text": "> SELECT COUNT(DISTINCT retailer_site_key), COUNT(retailer_site_key) FROM gosalesdw.sls_rtl_dim\n"
                }, 
                {
                    "output_type": "execute_result", 
                    "data": {
                        "text/plain": "       1      2\n0  847.0  847.0", 
                        "text/html": "<div>\n<style scoped>\n    .dataframe tbody tr th:only-of-type {\n        vertical-align: middle;\n    }\n\n    .dataframe tbody tr th {\n        vertical-align: top;\n    }\n\n    .dataframe thead th {\n        text-align: right;\n    }\n</style>\n<table border=\"1\" class=\"dataframe\">\n  <thead>\n    <tr style=\"text-align: right;\">\n      <th></th>\n      <th>1</th>\n      <th>2</th>\n    </tr>\n  </thead>\n  <tbody>\n    <tr>\n      <th>0</th>\n      <td>847.0</td>\n      <td>847.0</td>\n    </tr>\n  </tbody>\n</table>\n</div>"
                    }, 
                    "execution_count": 2, 
                    "metadata": {}
                }
            ], 
            "execution_count": 2
        }, 
        {
            "source": "retailSummary = idadb.ida_query(\"\"\"\nSELECT\n    f.retailer_site_key, f.retailer_key,\n    gender_code, rtl_city, rtl_prov_state, rtl_country_code, retailer_type_en,\n    timestampdiff(64, current timestamp - timestamp(retailer_start_date)) retailer_months, \n    order_method_key, product_key, promotion_key, quantity, sales_total\nFROM gosalesdw.sls_sales_fact f    TABLESAMPLE SYSTEM(10.0),\n    gosalesdw.sls_rtl_dim d\nWHERE\n    (f.retailer_site_key, f.retailer_key) = (d.retailer_site_key, d.retailer_key)\n\"\"\")\nprint(\"rows in sample: {0}\".format(len(retailSummary)))", 
            "cell_type": "code", 
            "metadata": {}, 
            "outputs": [
                {
                    "output_type": "stream", 
                    "name": "stdout", 
                    "text": "> \nSELECT\n    f.retailer_site_key, f.retailer_key,\n    gender_code, rtl_city, rtl_prov_state, rtl_country_code, retailer_type_en,\n    timestampdiff(64, current timestamp - timestamp(retailer_start_date)) retailer_months, \n    order_method_key, product_key, promotion_key, quantity\nFROM gosalesdw.sls_sales_fact f    TABLESAMPLE SYSTEM(10.0),\n    gosalesdw.sls_rtl_dim d\nWHERE\n    (f.retailer_site_key, f.retailer_key) = (d.retailer_site_key, d.retailer_key)\n\nrows in sample: 44899\n"
                }
            ], 
            "execution_count": 3
        }, 
        {
            "source": "type(retailSummary)", 
            "cell_type": "code", 
            "metadata": {}, 
            "outputs": [
                {
                    "output_type": "execute_result", 
                    "data": {
                        "text/plain": "pandas.core.frame.DataFrame"
                    }, 
                    "execution_count": 7, 
                    "metadata": {}
                }
            ], 
            "execution_count": 7
        }, 
        {
            "source": "sales_retail_view1 = IdaDataFrame(idadb, 'SLS_RETAILER_VIEW1')", 
            "cell_type": "code", 
            "metadata": {}, 
            "outputs": [], 
            "execution_count": 12
        }, 
        {
            "source": "len(sales_retail_view1)", 
            "cell_type": "code", 
            "metadata": {
                "scrolled": true
            }, 
            "outputs": [
                {
                    "output_type": "stream", 
                    "name": "stdout", 
                    "text": "> SELECT CAST(COUNT(*) AS INTEGER) FROM DASH5014.SLS_RETAILER_VIEW1\n"
                }, 
                {
                    "output_type": "execute_result", 
                    "data": {
                        "text/plain": "44702"
                    }, 
                    "execution_count": 13, 
                    "metadata": {}
                }
            ], 
            "execution_count": 13
        }, 
        {
            "source": "sales_retail_view1.describe()", 
            "cell_type": "code", 
            "metadata": {}, 
            "outputs": [
                {
                    "output_type": "stream", 
                    "name": "stdout", 
                    "text": "> SELECT COLNAME, TYPENAME FROM SYSCAT.COLUMNS WHERE TABNAME='SLS_RETAILER_VIEW1' AND TABSCHEMA='DASH5014' ORDER BY COLNO\n> SELECT COUNT(\"ID\"), COUNT(\"RETAILER_SITE_KEY\"), COUNT(\"RETAILER_KEY\"), COUNT(\"GENDER_CODE\"), COUNT(\"RTL_COUNTRY_CODE\"), COUNT(\"RETAILER_MONTHS\"), COUNT(\"ORDER_METHOD_KEY\"), COUNT(\"PRODUCT_KEY\"), COUNT(\"PROMOTION_KEY\"), COUNT(\"QUANTITY\"), COUNT(\"SALE_TOTAL\") FROM DASH5014.SLS_RETAILER_VIEW1\n> SELECT AVG(CAST(\"ID\" AS FLOAT)), AVG(CAST(\"RETAILER_SITE_KEY\" AS FLOAT)), AVG(CAST(\"RETAILER_KEY\" AS FLOAT)), AVG(CAST(\"GENDER_CODE\" AS FLOAT)), AVG(CAST(\"RTL_COUNTRY_CODE\" AS FLOAT)), AVG(CAST(\"RETAILER_MONTHS\" AS FLOAT)), AVG(CAST(\"ORDER_METHOD_KEY\" AS FLOAT)), AVG(CAST(\"PRODUCT_KEY\" AS FLOAT)), AVG(CAST(\"PROMOTION_KEY\" AS FLOAT)), AVG(CAST(\"QUANTITY\" AS FLOAT)), AVG(CAST(\"SALE_TOTAL\" AS FLOAT)) FROM DASH5014.SLS_RETAILER_VIEW1\n> SELECT COUNT(\"ID\"), COUNT(\"RETAILER_SITE_KEY\"), COUNT(\"RETAILER_KEY\"), COUNT(\"GENDER_CODE\"), COUNT(\"RTL_COUNTRY_CODE\"), COUNT(\"RETAILER_MONTHS\"), COUNT(\"ORDER_METHOD_KEY\"), COUNT(\"PRODUCT_KEY\"), COUNT(\"PROMOTION_KEY\"), COUNT(\"QUANTITY\"), COUNT(\"SALE_TOTAL\") FROM DASH5014.SLS_RETAILER_VIEW1\n> SELECT STDDEV(\"ID\")*(SQRT(44477.0)/SQRT(44476.0)), STDDEV(\"RETAILER_SITE_KEY\")*(SQRT(44477.0)/SQRT(44476.0)), STDDEV(\"RETAILER_KEY\")*(SQRT(44477.0)/SQRT(44476.0)), STDDEV(\"GENDER_CODE\")*(SQRT(44477.0)/SQRT(44476.0)), STDDEV(\"RTL_COUNTRY_CODE\")*(SQRT(44477.0)/SQRT(44476.0)), STDDEV(\"RETAILER_MONTHS\")*(SQRT(44477.0)/SQRT(44476.0)), STDDEV(\"ORDER_METHOD_KEY\")*(SQRT(44477.0)/SQRT(44476.0)), STDDEV(\"PRODUCT_KEY\")*(SQRT(44477.0)/SQRT(44476.0)), STDDEV(\"PROMOTION_KEY\")*(SQRT(44477.0)/SQRT(44476.0)), STDDEV(\"QUANTITY\")*(SQRT(44477.0)/SQRT(44476.0)), STDDEV(\"SALE_TOTAL\")*(SQRT(44477.0)/SQRT(44476.0)) FROM DASH5014.SLS_RETAILER_VIEW1\n> SELECT MIN(\"ID\"), MIN(\"RETAILER_SITE_KEY\"), MIN(\"RETAILER_KEY\"), MIN(\"GENDER_CODE\"), MIN(\"RTL_COUNTRY_CODE\"), MIN(\"RETAILER_MONTHS\"), MIN(\"ORDER_METHOD_KEY\"), MIN(\"PRODUCT_KEY\"), MIN(\"PROMOTION_KEY\"), MIN(\"QUANTITY\"), MIN(\"SALE_TOTAL\") FROM DASH5014.SLS_RETAILER_VIEW1\n> SELECT * FROM (SELECT COUNT(*) AS \"ID\" FROM DASH5014.SLS_RETAILER_VIEW1 WHERE \"ID\" IS NULL), (SELECT COUNT(*) AS \"RETAILER_SITE_KEY\" FROM DASH5014.SLS_RETAILER_VIEW1 WHERE \"RETAILER_SITE_KEY\" IS NULL), (SELECT COUNT(*) AS \"RETAILER_KEY\" FROM DASH5014.SLS_RETAILER_VIEW1 WHERE \"RETAILER_KEY\" IS NULL), (SELECT COUNT(*) AS \"GENDER_CODE\" FROM DASH5014.SLS_RETAILER_VIEW1 WHERE \"GENDER_CODE\" IS NULL), (SELECT COUNT(*) AS \"RTL_COUNTRY_CODE\" FROM DASH5014.SLS_RETAILER_VIEW1 WHERE \"RTL_COUNTRY_CODE\" IS NULL), (SELECT COUNT(*) AS \"RETAILER_MONTHS\" FROM DASH5014.SLS_RETAILER_VIEW1 WHERE \"RETAILER_MONTHS\" IS NULL), (SELECT COUNT(*) AS \"ORDER_METHOD_KEY\" FROM DASH5014.SLS_RETAILER_VIEW1 WHERE \"ORDER_METHOD_KEY\" IS NULL), (SELECT COUNT(*) AS \"PRODUCT_KEY\" FROM DASH5014.SLS_RETAILER_VIEW1 WHERE \"PRODUCT_KEY\" IS NULL), (SELECT COUNT(*) AS \"PROMOTION_KEY\" FROM DASH5014.SLS_RETAILER_VIEW1 WHERE \"PROMOTION_KEY\" IS NULL), (SELECT COUNT(*) AS \"QUANTITY\" FROM DASH5014.SLS_RETAILER_VIEW1 WHERE \"QUANTITY\" IS NULL), (SELECT COUNT(*) AS \"SALE_TOTAL\" FROM DASH5014.SLS_RETAILER_VIEW1 WHERE \"SALE_TOTAL\" IS NULL)\n> (SELECT \"ID\" AS \"ID\" FROM (SELECT ROW_NUMBER() OVER(ORDER BY \"ID\") as rn, \"ID\" FROM (SELECT * FROM DASH5014.SLS_RETAILER_VIEW1)) WHERE rn  in(11176,11177,22351,22352,33526,33527))\n> (SELECT \"RETAILER_SITE_KEY\" AS \"RETAILER_SITE_KEY\" FROM (SELECT ROW_NUMBER() OVER(ORDER BY \"RETAILER_SITE_KEY\") as rn, \"RETAILER_SITE_KEY\" FROM (SELECT * FROM DASH5014.SLS_RETAILER_VIEW1)) WHERE rn  in(11176,11177,22351,22352,33526,33527))\n> (SELECT \"RETAILER_KEY\" AS \"RETAILER_KEY\" FROM (SELECT ROW_NUMBER() OVER(ORDER BY \"RETAILER_KEY\") as rn, \"RETAILER_KEY\" FROM (SELECT * FROM DASH5014.SLS_RETAILER_VIEW1)) WHERE rn  in(11176,11177,22351,22352,33526,33527))\n> (SELECT \"GENDER_CODE\" AS \"GENDER_CODE\" FROM (SELECT ROW_NUMBER() OVER(ORDER BY \"GENDER_CODE\") as rn, \"GENDER_CODE\" FROM (SELECT * FROM DASH5014.SLS_RETAILER_VIEW1)) WHERE rn  in(11176,11177,22351,22352,33526,33527))\n> (SELECT \"RTL_COUNTRY_CODE\" AS \"RTL_COUNTRY_CODE\" FROM (SELECT ROW_NUMBER() OVER(ORDER BY \"RTL_COUNTRY_CODE\") as rn, \"RTL_COUNTRY_CODE\" FROM (SELECT * FROM DASH5014.SLS_RETAILER_VIEW1)) WHERE rn  in(11176,11177,22351,22352,33526,33527))\n> (SELECT \"RETAILER_MONTHS\" AS \"RETAILER_MONTHS\" FROM (SELECT ROW_NUMBER() OVER(ORDER BY \"RETAILER_MONTHS\") as rn, \"RETAILER_MONTHS\" FROM (SELECT * FROM DASH5014.SLS_RETAILER_VIEW1)) WHERE rn  in(11176,11177,22351,22352,33526,33527))\n> (SELECT \"ORDER_METHOD_KEY\" AS \"ORDER_METHOD_KEY\" FROM (SELECT ROW_NUMBER() OVER(ORDER BY \"ORDER_METHOD_KEY\") as rn, \"ORDER_METHOD_KEY\" FROM (SELECT * FROM DASH5014.SLS_RETAILER_VIEW1)) WHERE rn  in(11176,11177,22351,22352,33526,33527))\n> (SELECT \"PRODUCT_KEY\" AS \"PRODUCT_KEY\" FROM (SELECT ROW_NUMBER() OVER(ORDER BY \"PRODUCT_KEY\") as rn, \"PRODUCT_KEY\" FROM (SELECT * FROM DASH5014.SLS_RETAILER_VIEW1)) WHERE rn  in(11176,11177,22351,22352,33526,33527))\n> (SELECT \"PROMOTION_KEY\" AS \"PROMOTION_KEY\" FROM (SELECT ROW_NUMBER() OVER(ORDER BY \"PROMOTION_KEY\") as rn, \"PROMOTION_KEY\" FROM (SELECT * FROM DASH5014.SLS_RETAILER_VIEW1)) WHERE rn  in(11176,11177,22351,22352,33526,33527))\n> (SELECT \"QUANTITY\" AS \"QUANTITY\" FROM (SELECT ROW_NUMBER() OVER(ORDER BY \"QUANTITY\") as rn, \"QUANTITY\" FROM (SELECT * FROM DASH5014.SLS_RETAILER_VIEW1)) WHERE rn  in(11176,11177,22351,22352,33526,33527))\n> (SELECT \"SALE_TOTAL\" AS \"SALE_TOTAL\" FROM (SELECT ROW_NUMBER() OVER(ORDER BY \"SALE_TOTAL\") as rn, \"SALE_TOTAL\" FROM (SELECT * FROM DASH5014.SLS_RETAILER_VIEW1)) WHERE rn  in(11176,11177,22351,22352,33526,33527))\n> SELECT MAX(\"ID\"), MAX(\"RETAILER_SITE_KEY\"), MAX(\"RETAILER_KEY\"), MAX(\"GENDER_CODE\"), MAX(\"RTL_COUNTRY_CODE\"), MAX(\"RETAILER_MONTHS\"), MAX(\"ORDER_METHOD_KEY\"), MAX(\"PRODUCT_KEY\"), MAX(\"PROMOTION_KEY\"), MAX(\"QUANTITY\"), MAX(\"SALE_TOTAL\") FROM DASH5014.SLS_RETAILER_VIEW1\nExecution time: 2.7548067569732666 seconds.\n"
                }, 
                {
                    "output_type": "execute_result", 
                    "data": {
                        "text/plain": "                 ID  RETAILER_SITE_KEY  RETAILER_KEY   GENDER_CODE  \\\ncount  44605.000000       44605.000000  44605.000000  44605.000000   \nmean   22297.500000        5428.146343   6996.620420      0.435103   \nstd    12879.097236         249.466359    193.145072      0.495867   \nmin        1.000000        5001.000000   6701.000000      0.000000   \n25%    11176.500000        5227.000000   6832.000000      0.000000   \n50%    22351.500000        5429.000000   6949.000000      0.000000   \n75%    33526.500000        5660.000000   7178.000000      1.000000   \nmax    43744.000000        5847.000000   7370.000000      1.000000   \n\n       RTL_COUNTRY_CODE  RETAILER_MONTHS  ORDER_METHOD_KEY   PRODUCT_KEY  \\\ncount      44605.000000     44605.000000      44605.000000  44605.000000   \nmean        4018.026012       110.280755        604.788694  30157.242006   \nstd         2223.668737        17.225432          0.855273     77.447067   \nmin         1003.000000        58.000000        601.000000  30001.000000   \n25%         1004.000000        97.000000        605.000000  30099.000000   \n50%         4016.000000       113.000000        605.000000  30172.000000   \n75%         6002.000000       127.000000        605.000000  30229.000000   \nmax         7019.000000       136.000000        607.000000  30274.000000   \n\n       PROMOTION_KEY      QUANTITY     SALE_TOTAL  \ncount   44605.000000  44605.000000   44605.000000  \nmean     5502.667489    202.703682   10501.331787  \nstd        10.812820    449.358382   18543.949824  \nmin      5501.000000      1.000000       0.000000  \n25%      5501.000000     29.000000    2340.000000  \n50%      5501.000000     75.000000    5350.400000  \n75%      5501.000000    204.000000   10295.000000  \nmax      5612.000000  13471.000000  258792.320000  ", 
                        "text/html": "<div>\n<style scoped>\n    .dataframe tbody tr th:only-of-type {\n        vertical-align: middle;\n    }\n\n    .dataframe tbody tr th {\n        vertical-align: top;\n    }\n\n    .dataframe thead th {\n        text-align: right;\n    }\n</style>\n<table border=\"1\" class=\"dataframe\">\n  <thead>\n    <tr style=\"text-align: right;\">\n      <th></th>\n      <th>ID</th>\n      <th>RETAILER_SITE_KEY</th>\n      <th>RETAILER_KEY</th>\n      <th>GENDER_CODE</th>\n      <th>RTL_COUNTRY_CODE</th>\n      <th>RETAILER_MONTHS</th>\n      <th>ORDER_METHOD_KEY</th>\n      <th>PRODUCT_KEY</th>\n      <th>PROMOTION_KEY</th>\n      <th>QUANTITY</th>\n      <th>SALE_TOTAL</th>\n    </tr>\n  </thead>\n  <tbody>\n    <tr>\n      <th>count</th>\n      <td>44605.000000</td>\n      <td>44605.000000</td>\n      <td>44605.000000</td>\n      <td>44605.000000</td>\n      <td>44605.000000</td>\n      <td>44605.000000</td>\n      <td>44605.000000</td>\n      <td>44605.000000</td>\n      <td>44605.000000</td>\n      <td>44605.000000</td>\n      <td>44605.000000</td>\n    </tr>\n    <tr>\n      <th>mean</th>\n      <td>22297.500000</td>\n      <td>5428.146343</td>\n      <td>6996.620420</td>\n      <td>0.435103</td>\n      <td>4018.026012</td>\n      <td>110.280755</td>\n      <td>604.788694</td>\n      <td>30157.242006</td>\n      <td>5502.667489</td>\n      <td>202.703682</td>\n      <td>10501.331787</td>\n    </tr>\n    <tr>\n      <th>std</th>\n      <td>12879.097236</td>\n      <td>249.466359</td>\n      <td>193.145072</td>\n      <td>0.495867</td>\n      <td>2223.668737</td>\n      <td>17.225432</td>\n      <td>0.855273</td>\n      <td>77.447067</td>\n      <td>10.812820</td>\n      <td>449.358382</td>\n      <td>18543.949824</td>\n    </tr>\n    <tr>\n      <th>min</th>\n      <td>1.000000</td>\n      <td>5001.000000</td>\n      <td>6701.000000</td>\n      <td>0.000000</td>\n      <td>1003.000000</td>\n      <td>58.000000</td>\n      <td>601.000000</td>\n      <td>30001.000000</td>\n      <td>5501.000000</td>\n      <td>1.000000</td>\n      <td>0.000000</td>\n    </tr>\n    <tr>\n      <th>25%</th>\n      <td>11176.500000</td>\n      <td>5227.000000</td>\n      <td>6832.000000</td>\n      <td>0.000000</td>\n      <td>1004.000000</td>\n      <td>97.000000</td>\n      <td>605.000000</td>\n      <td>30099.000000</td>\n      <td>5501.000000</td>\n      <td>29.000000</td>\n      <td>2340.000000</td>\n    </tr>\n    <tr>\n      <th>50%</th>\n      <td>22351.500000</td>\n      <td>5429.000000</td>\n      <td>6949.000000</td>\n      <td>0.000000</td>\n      <td>4016.000000</td>\n      <td>113.000000</td>\n      <td>605.000000</td>\n      <td>30172.000000</td>\n      <td>5501.000000</td>\n      <td>75.000000</td>\n      <td>5350.400000</td>\n    </tr>\n    <tr>\n      <th>75%</th>\n      <td>33526.500000</td>\n      <td>5660.000000</td>\n      <td>7178.000000</td>\n      <td>1.000000</td>\n      <td>6002.000000</td>\n      <td>127.000000</td>\n      <td>605.000000</td>\n      <td>30229.000000</td>\n      <td>5501.000000</td>\n      <td>204.000000</td>\n      <td>10295.000000</td>\n    </tr>\n    <tr>\n      <th>max</th>\n      <td>43744.000000</td>\n      <td>5847.000000</td>\n      <td>7370.000000</td>\n      <td>1.000000</td>\n      <td>7019.000000</td>\n      <td>136.000000</td>\n      <td>607.000000</td>\n      <td>30274.000000</td>\n      <td>5612.000000</td>\n      <td>13471.000000</td>\n      <td>258792.320000</td>\n    </tr>\n  </tbody>\n</table>\n</div>"
                    }, 
                    "execution_count": 16, 
                    "metadata": {}
                }
            ], 
            "execution_count": 16
        }, 
        {
            "source": "%time\nsales_retail_view1.corr()", 
            "cell_type": "code", 
            "metadata": {}, 
            "outputs": [
                {
                    "output_type": "stream", 
                    "name": "stdout", 
                    "text": "CPU times: user 0 ns, sys: 0 ns, total: 0 ns\nWall time: 13.4 \u00b5s\n> SELECT CORRELATION(\"ID\",\"RETAILER_SITE_KEY\"), CORRELATION(\"ID\",\"RETAILER_KEY\"), CORRELATION(\"ID\",\"GENDER_CODE\"), CORRELATION(\"ID\",\"RTL_COUNTRY_CODE\"), CORRELATION(\"ID\",\"RETAILER_MONTHS\"), CORRELATION(\"ID\",\"ORDER_METHOD_KEY\"), CORRELATION(\"ID\",\"PRODUCT_KEY\"), CORRELATION(\"ID\",\"PROMOTION_KEY\"), CORRELATION(\"ID\",\"QUANTITY\"), CORRELATION(\"ID\",\"SALE_TOTAL\"), CORRELATION(\"RETAILER_SITE_KEY\",\"RETAILER_KEY\"), CORRELATION(\"RETAILER_SITE_KEY\",\"GENDER_CODE\"), CORRELATION(\"RETAILER_SITE_KEY\",\"RTL_COUNTRY_CODE\"), CORRELATION(\"RETAILER_SITE_KEY\",\"RETAILER_MONTHS\"), CORRELATION(\"RETAILER_SITE_KEY\",\"ORDER_METHOD_KEY\"), CORRELATION(\"RETAILER_SITE_KEY\",\"PRODUCT_KEY\"), CORRELATION(\"RETAILER_SITE_KEY\",\"PROMOTION_KEY\"), CORRELATION(\"RETAILER_SITE_KEY\",\"QUANTITY\"), CORRELATION(\"RETAILER_SITE_KEY\",\"SALE_TOTAL\"), CORRELATION(\"RETAILER_KEY\",\"GENDER_CODE\"), CORRELATION(\"RETAILER_KEY\",\"RTL_COUNTRY_CODE\"), CORRELATION(\"RETAILER_KEY\",\"RETAILER_MONTHS\"), CORRELATION(\"RETAILER_KEY\",\"ORDER_METHOD_KEY\"), CORRELATION(\"RETAILER_KEY\",\"PRODUCT_KEY\"), CORRELATION(\"RETAILER_KEY\",\"PROMOTION_KEY\"), CORRELATION(\"RETAILER_KEY\",\"QUANTITY\"), CORRELATION(\"RETAILER_KEY\",\"SALE_TOTAL\"), CORRELATION(\"GENDER_CODE\",\"RTL_COUNTRY_CODE\"), CORRELATION(\"GENDER_CODE\",\"RETAILER_MONTHS\"), CORRELATION(\"GENDER_CODE\",\"ORDER_METHOD_KEY\"), CORRELATION(\"GENDER_CODE\",\"PRODUCT_KEY\"), CORRELATION(\"GENDER_CODE\",\"PROMOTION_KEY\"), CORRELATION(\"GENDER_CODE\",\"QUANTITY\"), CORRELATION(\"GENDER_CODE\",\"SALE_TOTAL\"), CORRELATION(\"RTL_COUNTRY_CODE\",\"RETAILER_MONTHS\"), CORRELATION(\"RTL_COUNTRY_CODE\",\"ORDER_METHOD_KEY\"), CORRELATION(\"RTL_COUNTRY_CODE\",\"PRODUCT_KEY\"), CORRELATION(\"RTL_COUNTRY_CODE\",\"PROMOTION_KEY\"), CORRELATION(\"RTL_COUNTRY_CODE\",\"QUANTITY\"), CORRELATION(\"RTL_COUNTRY_CODE\",\"SALE_TOTAL\"), CORRELATION(\"RETAILER_MONTHS\",\"ORDER_METHOD_KEY\"), CORRELATION(\"RETAILER_MONTHS\",\"PRODUCT_KEY\"), CORRELATION(\"RETAILER_MONTHS\",\"PROMOTION_KEY\"), CORRELATION(\"RETAILER_MONTHS\",\"QUANTITY\"), CORRELATION(\"RETAILER_MONTHS\",\"SALE_TOTAL\"), CORRELATION(\"ORDER_METHOD_KEY\",\"PRODUCT_KEY\"), CORRELATION(\"ORDER_METHOD_KEY\",\"PROMOTION_KEY\"), CORRELATION(\"ORDER_METHOD_KEY\",\"QUANTITY\"), CORRELATION(\"ORDER_METHOD_KEY\",\"SALE_TOTAL\"), CORRELATION(\"PRODUCT_KEY\",\"PROMOTION_KEY\"), CORRELATION(\"PRODUCT_KEY\",\"QUANTITY\"), CORRELATION(\"PRODUCT_KEY\",\"SALE_TOTAL\"), CORRELATION(\"PROMOTION_KEY\",\"QUANTITY\"), CORRELATION(\"PROMOTION_KEY\",\"SALE_TOTAL\"), CORRELATION(\"QUANTITY\",\"SALE_TOTAL\") FROM DASH5014.SLS_RETAILER_VIEW1\nExecution time: 0.6872820854187012 seconds.\n"
                }, 
                {
                    "output_type": "execute_result", 
                    "data": {
                        "text/plain": "                         ID  RETAILER_SITE_KEY  RETAILER_KEY  GENDER_CODE  \\\nID                 1.000000          -0.017311     -0.018997    -0.014219   \nRETAILER_SITE_KEY -0.017311           1.000000      0.967093     0.122477   \nRETAILER_KEY      -0.018997           0.967093      1.000000     0.134179   \nGENDER_CODE       -0.014219           0.122477      0.134179     1.000000   \nRTL_COUNTRY_CODE   0.007604           0.222771      0.141652    -0.019292   \nRETAILER_MONTHS   -0.085353          -0.189674     -0.151708     0.009890   \nORDER_METHOD_KEY   0.094190           0.200146      0.184618     0.010790   \nPRODUCT_KEY        0.026916           0.029615      0.036843     0.005374   \nPROMOTION_KEY      0.025821          -0.040551     -0.045849    -0.011505   \nQUANTITY          -0.014138           0.033425      0.034355     0.000743   \nSALE_TOTAL         0.011261           0.037864      0.037178    -0.004434   \n\n                   RTL_COUNTRY_CODE  RETAILER_MONTHS  ORDER_METHOD_KEY  \\\nID                         0.007604        -0.085353          0.094190   \nRETAILER_SITE_KEY          0.222771        -0.189674          0.200146   \nRETAILER_KEY               0.141652        -0.151708          0.184618   \nGENDER_CODE               -0.019292         0.009890          0.010790   \nRTL_COUNTRY_CODE           1.000000        -0.086518          0.043004   \nRETAILER_MONTHS           -0.086518         1.000000         -0.048339   \nORDER_METHOD_KEY           0.043004        -0.048339          1.000000   \nPRODUCT_KEY               -0.037645         0.004840          0.091099   \nPROMOTION_KEY              0.019062         0.012543         -0.008856   \nQUANTITY                  -0.010941        -0.007368         -0.042024   \nSALE_TOTAL                -0.016381        -0.017185         -0.036593   \n\n                   PRODUCT_KEY  PROMOTION_KEY  QUANTITY  SALE_TOTAL  \nID                    0.026916       0.025821 -0.014138    0.011261  \nRETAILER_SITE_KEY     0.029615      -0.040551  0.033425    0.037864  \nRETAILER_KEY          0.036843      -0.045849  0.034355    0.037178  \nGENDER_CODE           0.005374      -0.011505  0.000743   -0.004434  \nRTL_COUNTRY_CODE     -0.037645       0.019062 -0.010941   -0.016381  \nRETAILER_MONTHS       0.004840       0.012543 -0.007368   -0.017185  \nORDER_METHOD_KEY      0.091099      -0.008856 -0.042024   -0.036593  \nPRODUCT_KEY           1.000000      -0.181596 -0.322489   -0.403501  \nPROMOTION_KEY        -0.181596       1.000000  0.112240    0.089368  \nQUANTITY             -0.322489       0.112240  1.000000    0.215660  \nSALE_TOTAL           -0.403501       0.089368  0.215660    1.000000  ", 
                        "text/html": "<div>\n<style scoped>\n    .dataframe tbody tr th:only-of-type {\n        vertical-align: middle;\n    }\n\n    .dataframe tbody tr th {\n        vertical-align: top;\n    }\n\n    .dataframe thead th {\n        text-align: right;\n    }\n</style>\n<table border=\"1\" class=\"dataframe\">\n  <thead>\n    <tr style=\"text-align: right;\">\n      <th></th>\n      <th>ID</th>\n      <th>RETAILER_SITE_KEY</th>\n      <th>RETAILER_KEY</th>\n      <th>GENDER_CODE</th>\n      <th>RTL_COUNTRY_CODE</th>\n      <th>RETAILER_MONTHS</th>\n      <th>ORDER_METHOD_KEY</th>\n      <th>PRODUCT_KEY</th>\n      <th>PROMOTION_KEY</th>\n      <th>QUANTITY</th>\n      <th>SALE_TOTAL</th>\n    </tr>\n  </thead>\n  <tbody>\n    <tr>\n      <th>ID</th>\n      <td>1.000000</td>\n      <td>-0.017311</td>\n      <td>-0.018997</td>\n      <td>-0.014219</td>\n      <td>0.007604</td>\n      <td>-0.085353</td>\n      <td>0.094190</td>\n      <td>0.026916</td>\n      <td>0.025821</td>\n      <td>-0.014138</td>\n      <td>0.011261</td>\n    </tr>\n    <tr>\n      <th>RETAILER_SITE_KEY</th>\n      <td>-0.017311</td>\n      <td>1.000000</td>\n      <td>0.967093</td>\n      <td>0.122477</td>\n      <td>0.222771</td>\n      <td>-0.189674</td>\n      <td>0.200146</td>\n      <td>0.029615</td>\n      <td>-0.040551</td>\n      <td>0.033425</td>\n      <td>0.037864</td>\n    </tr>\n    <tr>\n      <th>RETAILER_KEY</th>\n      <td>-0.018997</td>\n      <td>0.967093</td>\n      <td>1.000000</td>\n      <td>0.134179</td>\n      <td>0.141652</td>\n      <td>-0.151708</td>\n      <td>0.184618</td>\n      <td>0.036843</td>\n      <td>-0.045849</td>\n      <td>0.034355</td>\n      <td>0.037178</td>\n    </tr>\n    <tr>\n      <th>GENDER_CODE</th>\n      <td>-0.014219</td>\n      <td>0.122477</td>\n      <td>0.134179</td>\n      <td>1.000000</td>\n      <td>-0.019292</td>\n      <td>0.009890</td>\n      <td>0.010790</td>\n      <td>0.005374</td>\n      <td>-0.011505</td>\n      <td>0.000743</td>\n      <td>-0.004434</td>\n    </tr>\n    <tr>\n      <th>RTL_COUNTRY_CODE</th>\n      <td>0.007604</td>\n      <td>0.222771</td>\n      <td>0.141652</td>\n      <td>-0.019292</td>\n      <td>1.000000</td>\n      <td>-0.086518</td>\n      <td>0.043004</td>\n      <td>-0.037645</td>\n      <td>0.019062</td>\n      <td>-0.010941</td>\n      <td>-0.016381</td>\n    </tr>\n    <tr>\n      <th>RETAILER_MONTHS</th>\n      <td>-0.085353</td>\n      <td>-0.189674</td>\n      <td>-0.151708</td>\n      <td>0.009890</td>\n      <td>-0.086518</td>\n      <td>1.000000</td>\n      <td>-0.048339</td>\n      <td>0.004840</td>\n      <td>0.012543</td>\n      <td>-0.007368</td>\n      <td>-0.017185</td>\n    </tr>\n    <tr>\n      <th>ORDER_METHOD_KEY</th>\n      <td>0.094190</td>\n      <td>0.200146</td>\n      <td>0.184618</td>\n      <td>0.010790</td>\n      <td>0.043004</td>\n      <td>-0.048339</td>\n      <td>1.000000</td>\n      <td>0.091099</td>\n      <td>-0.008856</td>\n      <td>-0.042024</td>\n      <td>-0.036593</td>\n    </tr>\n    <tr>\n      <th>PRODUCT_KEY</th>\n      <td>0.026916</td>\n      <td>0.029615</td>\n      <td>0.036843</td>\n      <td>0.005374</td>\n      <td>-0.037645</td>\n      <td>0.004840</td>\n      <td>0.091099</td>\n      <td>1.000000</td>\n      <td>-0.181596</td>\n      <td>-0.322489</td>\n      <td>-0.403501</td>\n    </tr>\n    <tr>\n      <th>PROMOTION_KEY</th>\n      <td>0.025821</td>\n      <td>-0.040551</td>\n      <td>-0.045849</td>\n      <td>-0.011505</td>\n      <td>0.019062</td>\n      <td>0.012543</td>\n      <td>-0.008856</td>\n      <td>-0.181596</td>\n      <td>1.000000</td>\n      <td>0.112240</td>\n      <td>0.089368</td>\n    </tr>\n    <tr>\n      <th>QUANTITY</th>\n      <td>-0.014138</td>\n      <td>0.033425</td>\n      <td>0.034355</td>\n      <td>0.000743</td>\n      <td>-0.010941</td>\n      <td>-0.007368</td>\n      <td>-0.042024</td>\n      <td>-0.322489</td>\n      <td>0.112240</td>\n      <td>1.000000</td>\n      <td>0.215660</td>\n    </tr>\n    <tr>\n      <th>SALE_TOTAL</th>\n      <td>0.011261</td>\n      <td>0.037864</td>\n      <td>0.037178</td>\n      <td>-0.004434</td>\n      <td>-0.016381</td>\n      <td>-0.017185</td>\n      <td>-0.036593</td>\n      <td>-0.403501</td>\n      <td>0.089368</td>\n      <td>0.215660</td>\n      <td>1.000000</td>\n    </tr>\n  </tbody>\n</table>\n</div>"
                    }, 
                    "execution_count": 17, 
                    "metadata": {}
                }
            ], 
            "execution_count": 17
        }, 
        {
            "source": "from ibmdbpy.learn import KMeans\nkmeans = KMeans(3)", 
            "cell_type": "code", 
            "metadata": {}, 
            "outputs": [], 
            "execution_count": 14
        }, 
        {
            "source": "kmeans.fit(sales_retail_view1)", 
            "cell_type": "code", 
            "metadata": {}, 
            "outputs": [
                {
                    "output_type": "stream", 
                    "name": "stdout", 
                    "text": "> SELECT COUNT(*) FROM SYSCAT.ROUTINES WHERE ROUTINENAME='KMEANS' AND ROUTINEMODULENAME = 'IDAX'\n> CALL IDAX.KMEANS ('maxiter=5,model=\"KMEANS_8983_1528039469\",distance=\"euclidean\",idbased=False,randseed=12345,intable=SLS_RETAILER_VIEW1,id=\"ID\",k=3')\n<< AUTOCOMMIT >>\n<< COMMIT >>\n> SELECT * FROM \"DASH5014\".\"KMEANS_8983_1528039469_MODEL\"\n> SELECT * FROM \"DASH5014\".\"KMEANS_8983_1528039469_COLUMNS\"\n> SELECT * FROM \"DASH5014\".\"KMEANS_8983_1528039469_COLUMN_STATISTICS\"\n> SELECT * FROM \"DASH5014\".\"KMEANS_8983_1528039469_CLUSTERS\"\n"
                }
            ], 
            "execution_count": 15
        }, 
        {
            "source": "kmeans.describe()", 
            "cell_type": "code", 
            "metadata": {}, 
            "outputs": [
                {
                    "output_type": "stream", 
                    "name": "stdout", 
                    "text": "KMeans clustering with 3 clusters of sizes 659, 10377, 33495\n\nCluster means: \n   CLUSTERID  RETAILER_SITE_KEY  RETAILER_KEY  GENDER_CODE  RTL_COUNTRY_CODE  \\\n0          1        5431.835866   6997.521277     0.471927       4036.182094   \n1          2        5426.592405   6994.285095     0.434005       4016.478907   \n2          3        5431.016386   6999.719711     0.438855       4039.990749   \n\n   RETAILER_MONTHS  ORDER_METHOD_KEY   PRODUCT_KEY  PROMOTION_KEY    QUANTITY  \\\n0       110.500759        604.798179  30160.476480    5503.937785  213.464340   \n1       110.290581        604.772563  30157.501448    5502.527930  200.103747   \n2       110.147056        604.805821  30157.966272    5502.336224  195.634962   \n\n     SALE_TOTAL   RTL_CITY RTL_PROV_STATE RETAILER_TYPE_EN  \n0   9577.295266  Singapore          Osaka    Outdoors Shop  \n1  10482.223003  Singapore     California    Outdoors Shop  \n2  10323.849065   Shanghai          Osaka    Outdoors Shop  \n\nWithin cluster sum of squares by cluster:\n[  3.14570185e+09   1.36262449e+13   1.58070833e+12]\n> CALL IDAX.PRINT_MODEL ('model=\"KMEANS_8983_1528039469\"')\n<< AUTOCOMMIT >>\n"
                }
            ], 
            "execution_count": 18
        }, 
        {
            "source": "y_kmeans = kmeans.predict(sales_retail_view1)", 
            "cell_type": "code", 
            "metadata": {}, 
            "outputs": [
                {
                    "output_type": "stream", 
                    "name": "stdout", 
                    "text": "> CALL IDAX.PREDICT_KMEANS ('intable=SLS_RETAILER_VIEW1,id=\"ID\",outtable=\"PREDICT_KMEANS_96135_1528044719\",model=\"KMEANS_8983_1528039469\"')\n<< AUTOCOMMIT >>\n<< COMMIT >>\n> SELECT distinct TABSCHEMA, TABNAME, OWNER, TYPE from SYSCAT.TABLES WHERE (OWNERTYPE = 'U') ORDER BY \"TABSCHEMA\",\"TABNAME\"\n"
                }
            ], 
            "execution_count": 43
        }, 
        {
            "source": "from ibmdbpy.feature_selection import info_gain", 
            "cell_type": "code", 
            "metadata": {}, 
            "outputs": [], 
            "execution_count": 19
        }, 
        {
            "source": "featsel = info_gain(sales_retail_view1)", 
            "cell_type": "code", 
            "metadata": {}, 
            "outputs": [
                {
                    "output_type": "stream", 
                    "name": "stdout", 
                    "text": "> SELECT SUM(-a*LOG(a)) FROM(SELECT COUNT(*) AS a FROM DASH5014.SLS_RETAILER_VIEW1 GROUP BY \"ID\")\n> SELECT SUM(-a*LOG(a)) FROM(SELECT COUNT(*) AS a FROM DASH5014.SLS_RETAILER_VIEW1 GROUP BY \"RETAILER_SITE_KEY\")\n> SELECT SUM(-a*LOG(a)) FROM(SELECT COUNT(*) AS a FROM DASH5014.SLS_RETAILER_VIEW1 GROUP BY \"ID\",\"RETAILER_SITE_KEY\")\n> SELECT SUM(-a*LOG(a)) FROM(SELECT COUNT(*) AS a FROM DASH5014.SLS_RETAILER_VIEW1 GROUP BY \"RETAILER_KEY\")\n> SELECT SUM(-a*LOG(a)) FROM(SELECT COUNT(*) AS a FROM DASH5014.SLS_RETAILER_VIEW1 GROUP BY \"ID\",\"RETAILER_KEY\")\n> SELECT SUM(-a*LOG(a)) FROM(SELECT COUNT(*) AS a FROM DASH5014.SLS_RETAILER_VIEW1 GROUP BY \"GENDER_CODE\")\n> SELECT SUM(-a*LOG(a)) FROM(SELECT COUNT(*) AS a FROM DASH5014.SLS_RETAILER_VIEW1 GROUP BY \"ID\",\"GENDER_CODE\")\n> SELECT SUM(-a*LOG(a)) FROM(SELECT COUNT(*) AS a FROM DASH5014.SLS_RETAILER_VIEW1 GROUP BY \"RTL_CITY\")\n> SELECT SUM(-a*LOG(a)) FROM(SELECT COUNT(*) AS a FROM DASH5014.SLS_RETAILER_VIEW1 GROUP BY \"ID\",\"RTL_CITY\")\n> SELECT SUM(-a*LOG(a)) FROM(SELECT COUNT(*) AS a FROM DASH5014.SLS_RETAILER_VIEW1 GROUP BY \"RTL_PROV_STATE\")\n> SELECT SUM(-a*LOG(a)) FROM(SELECT COUNT(*) AS a FROM DASH5014.SLS_RETAILER_VIEW1 GROUP BY \"ID\",\"RTL_PROV_STATE\")\n> SELECT SUM(-a*LOG(a)) FROM(SELECT COUNT(*) AS a FROM DASH5014.SLS_RETAILER_VIEW1 GROUP BY \"RTL_COUNTRY_CODE\")\n> SELECT SUM(-a*LOG(a)) FROM(SELECT COUNT(*) AS a FROM DASH5014.SLS_RETAILER_VIEW1 GROUP BY \"ID\",\"RTL_COUNTRY_CODE\")\n> SELECT SUM(-a*LOG(a)) FROM(SELECT COUNT(*) AS a FROM DASH5014.SLS_RETAILER_VIEW1 GROUP BY \"RETAILER_TYPE_EN\")\n> SELECT SUM(-a*LOG(a)) FROM(SELECT COUNT(*) AS a FROM DASH5014.SLS_RETAILER_VIEW1 GROUP BY \"ID\",\"RETAILER_TYPE_EN\")\n> SELECT SUM(-a*LOG(a)) FROM(SELECT COUNT(*) AS a FROM DASH5014.SLS_RETAILER_VIEW1 GROUP BY \"RETAILER_MONTHS\")\n> SELECT SUM(-a*LOG(a)) FROM(SELECT COUNT(*) AS a FROM DASH5014.SLS_RETAILER_VIEW1 GROUP BY \"ID\",\"RETAILER_MONTHS\")\n> SELECT SUM(-a*LOG(a)) FROM(SELECT COUNT(*) AS a FROM DASH5014.SLS_RETAILER_VIEW1 GROUP BY \"ORDER_METHOD_KEY\")\n> SELECT SUM(-a*LOG(a)) FROM(SELECT COUNT(*) AS a FROM DASH5014.SLS_RETAILER_VIEW1 GROUP BY \"ID\",\"ORDER_METHOD_KEY\")\n> SELECT SUM(-a*LOG(a)) FROM(SELECT COUNT(*) AS a FROM DASH5014.SLS_RETAILER_VIEW1 GROUP BY \"PRODUCT_KEY\")\n> SELECT SUM(-a*LOG(a)) FROM(SELECT COUNT(*) AS a FROM DASH5014.SLS_RETAILER_VIEW1 GROUP BY \"ID\",\"PRODUCT_KEY\")\n> SELECT SUM(-a*LOG(a)) FROM(SELECT COUNT(*) AS a FROM DASH5014.SLS_RETAILER_VIEW1 GROUP BY \"PROMOTION_KEY\")\n> SELECT SUM(-a*LOG(a)) FROM(SELECT COUNT(*) AS a FROM DASH5014.SLS_RETAILER_VIEW1 GROUP BY \"ID\",\"PROMOTION_KEY\")\n> SELECT SUM(-a*LOG(a)) FROM(SELECT COUNT(*) AS a FROM DASH5014.SLS_RETAILER_VIEW1 GROUP BY \"QUANTITY\")\n> SELECT SUM(-a*LOG(a)) FROM(SELECT COUNT(*) AS a FROM DASH5014.SLS_RETAILER_VIEW1 GROUP BY \"ID\",\"QUANTITY\")\n> SELECT SUM(-a*LOG(a)) FROM(SELECT COUNT(*) AS a FROM DASH5014.SLS_RETAILER_VIEW1 GROUP BY \"SALE_TOTAL\")\n> SELECT SUM(-a*LOG(a)) FROM(SELECT COUNT(*) AS a FROM DASH5014.SLS_RETAILER_VIEW1 GROUP BY \"ID\",\"SALE_TOTAL\")\n> SELECT SUM(-a*LOG(a)) FROM(SELECT COUNT(*) AS a FROM DASH5014.SLS_RETAILER_VIEW1 GROUP BY \"RETAILER_SITE_KEY\",\"RETAILER_KEY\")\n> SELECT SUM(-a*LOG(a)) FROM(SELECT COUNT(*) AS a FROM DASH5014.SLS_RETAILER_VIEW1 GROUP BY \"RETAILER_SITE_KEY\",\"GENDER_CODE\")\n> SELECT SUM(-a*LOG(a)) FROM(SELECT COUNT(*) AS a FROM DASH5014.SLS_RETAILER_VIEW1 GROUP BY \"RETAILER_SITE_KEY\",\"RTL_CITY\")\n> SELECT SUM(-a*LOG(a)) FROM(SELECT COUNT(*) AS a FROM DASH5014.SLS_RETAILER_VIEW1 GROUP BY \"RETAILER_SITE_KEY\",\"RTL_PROV_STATE\")\n> SELECT SUM(-a*LOG(a)) FROM(SELECT COUNT(*) AS a FROM DASH5014.SLS_RETAILER_VIEW1 GROUP BY \"RETAILER_SITE_KEY\",\"RTL_COUNTRY_CODE\")\n> SELECT SUM(-a*LOG(a)) FROM(SELECT COUNT(*) AS a FROM DASH5014.SLS_RETAILER_VIEW1 GROUP BY \"RETAILER_SITE_KEY\",\"RETAILER_TYPE_EN\")\n> SELECT SUM(-a*LOG(a)) FROM(SELECT COUNT(*) AS a FROM DASH5014.SLS_RETAILER_VIEW1 GROUP BY \"RETAILER_SITE_KEY\",\"RETAILER_MONTHS\")\n> SELECT SUM(-a*LOG(a)) FROM(SELECT COUNT(*) AS a FROM DASH5014.SLS_RETAILER_VIEW1 GROUP BY \"RETAILER_SITE_KEY\",\"ORDER_METHOD_KEY\")\n> SELECT SUM(-a*LOG(a)) FROM(SELECT COUNT(*) AS a FROM DASH5014.SLS_RETAILER_VIEW1 GROUP BY \"RETAILER_SITE_KEY\",\"PRODUCT_KEY\")\n> SELECT SUM(-a*LOG(a)) FROM(SELECT COUNT(*) AS a FROM DASH5014.SLS_RETAILER_VIEW1 GROUP BY \"RETAILER_SITE_KEY\",\"PROMOTION_KEY\")\n> SELECT SUM(-a*LOG(a)) FROM(SELECT COUNT(*) AS a FROM DASH5014.SLS_RETAILER_VIEW1 GROUP BY \"RETAILER_SITE_KEY\",\"QUANTITY\")\n> SELECT SUM(-a*LOG(a)) FROM(SELECT COUNT(*) AS a FROM DASH5014.SLS_RETAILER_VIEW1 GROUP BY \"RETAILER_SITE_KEY\",\"SALE_TOTAL\")\n> SELECT SUM(-a*LOG(a)) FROM(SELECT COUNT(*) AS a FROM DASH5014.SLS_RETAILER_VIEW1 GROUP BY \"RETAILER_KEY\",\"GENDER_CODE\")\n> SELECT SUM(-a*LOG(a)) FROM(SELECT COUNT(*) AS a FROM DASH5014.SLS_RETAILER_VIEW1 GROUP BY \"RETAILER_KEY\",\"RTL_CITY\")\n> SELECT SUM(-a*LOG(a)) FROM(SELECT COUNT(*) AS a FROM DASH5014.SLS_RETAILER_VIEW1 GROUP BY \"RETAILER_KEY\",\"RTL_PROV_STATE\")\n> SELECT SUM(-a*LOG(a)) FROM(SELECT COUNT(*) AS a FROM DASH5014.SLS_RETAILER_VIEW1 GROUP BY \"RETAILER_KEY\",\"RTL_COUNTRY_CODE\")\n> SELECT SUM(-a*LOG(a)) FROM(SELECT COUNT(*) AS a FROM DASH5014.SLS_RETAILER_VIEW1 GROUP BY \"RETAILER_KEY\",\"RETAILER_TYPE_EN\")\n> SELECT SUM(-a*LOG(a)) FROM(SELECT COUNT(*) AS a FROM DASH5014.SLS_RETAILER_VIEW1 GROUP BY \"RETAILER_KEY\",\"RETAILER_MONTHS\")\n> SELECT SUM(-a*LOG(a)) FROM(SELECT COUNT(*) AS a FROM DASH5014.SLS_RETAILER_VIEW1 GROUP BY \"RETAILER_KEY\",\"ORDER_METHOD_KEY\")\n> SELECT SUM(-a*LOG(a)) FROM(SELECT COUNT(*) AS a FROM DASH5014.SLS_RETAILER_VIEW1 GROUP BY \"RETAILER_KEY\",\"PRODUCT_KEY\")\n> SELECT SUM(-a*LOG(a)) FROM(SELECT COUNT(*) AS a FROM DASH5014.SLS_RETAILER_VIEW1 GROUP BY \"RETAILER_KEY\",\"PROMOTION_KEY\")\n> SELECT SUM(-a*LOG(a)) FROM(SELECT COUNT(*) AS a FROM DASH5014.SLS_RETAILER_VIEW1 GROUP BY \"RETAILER_KEY\",\"QUANTITY\")\n> SELECT SUM(-a*LOG(a)) FROM(SELECT COUNT(*) AS a FROM DASH5014.SLS_RETAILER_VIEW1 GROUP BY \"RETAILER_KEY\",\"SALE_TOTAL\")\n> SELECT SUM(-a*LOG(a)) FROM(SELECT COUNT(*) AS a FROM DASH5014.SLS_RETAILER_VIEW1 GROUP BY \"GENDER_CODE\",\"RTL_CITY\")\n> SELECT SUM(-a*LOG(a)) FROM(SELECT COUNT(*) AS a FROM DASH5014.SLS_RETAILER_VIEW1 GROUP BY \"GENDER_CODE\",\"RTL_PROV_STATE\")\n> SELECT SUM(-a*LOG(a)) FROM(SELECT COUNT(*) AS a FROM DASH5014.SLS_RETAILER_VIEW1 GROUP BY \"GENDER_CODE\",\"RTL_COUNTRY_CODE\")\n> SELECT SUM(-a*LOG(a)) FROM(SELECT COUNT(*) AS a FROM DASH5014.SLS_RETAILER_VIEW1 GROUP BY \"GENDER_CODE\",\"RETAILER_TYPE_EN\")\n> SELECT SUM(-a*LOG(a)) FROM(SELECT COUNT(*) AS a FROM DASH5014.SLS_RETAILER_VIEW1 GROUP BY \"GENDER_CODE\",\"RETAILER_MONTHS\")\n> SELECT SUM(-a*LOG(a)) FROM(SELECT COUNT(*) AS a FROM DASH5014.SLS_RETAILER_VIEW1 GROUP BY \"GENDER_CODE\",\"ORDER_METHOD_KEY\")\n> SELECT SUM(-a*LOG(a)) FROM(SELECT COUNT(*) AS a FROM DASH5014.SLS_RETAILER_VIEW1 GROUP BY \"GENDER_CODE\",\"PRODUCT_KEY\")\n> SELECT SUM(-a*LOG(a)) FROM(SELECT COUNT(*) AS a FROM DASH5014.SLS_RETAILER_VIEW1 GROUP BY \"GENDER_CODE\",\"PROMOTION_KEY\")\n> SELECT SUM(-a*LOG(a)) FROM(SELECT COUNT(*) AS a FROM DASH5014.SLS_RETAILER_VIEW1 GROUP BY \"GENDER_CODE\",\"QUANTITY\")\n> SELECT SUM(-a*LOG(a)) FROM(SELECT COUNT(*) AS a FROM DASH5014.SLS_RETAILER_VIEW1 GROUP BY \"GENDER_CODE\",\"SALE_TOTAL\")\n> SELECT SUM(-a*LOG(a)) FROM(SELECT COUNT(*) AS a FROM DASH5014.SLS_RETAILER_VIEW1 GROUP BY \"RTL_CITY\",\"RTL_PROV_STATE\")\n> SELECT SUM(-a*LOG(a)) FROM(SELECT COUNT(*) AS a FROM DASH5014.SLS_RETAILER_VIEW1 GROUP BY \"RTL_CITY\",\"RTL_COUNTRY_CODE\")\n> SELECT SUM(-a*LOG(a)) FROM(SELECT COUNT(*) AS a FROM DASH5014.SLS_RETAILER_VIEW1 GROUP BY \"RTL_CITY\",\"RETAILER_TYPE_EN\")\n> SELECT SUM(-a*LOG(a)) FROM(SELECT COUNT(*) AS a FROM DASH5014.SLS_RETAILER_VIEW1 GROUP BY \"RTL_CITY\",\"RETAILER_MONTHS\")\n> SELECT SUM(-a*LOG(a)) FROM(SELECT COUNT(*) AS a FROM DASH5014.SLS_RETAILER_VIEW1 GROUP BY \"RTL_CITY\",\"ORDER_METHOD_KEY\")\n> SELECT SUM(-a*LOG(a)) FROM(SELECT COUNT(*) AS a FROM DASH5014.SLS_RETAILER_VIEW1 GROUP BY \"RTL_CITY\",\"PRODUCT_KEY\")\n> SELECT SUM(-a*LOG(a)) FROM(SELECT COUNT(*) AS a FROM DASH5014.SLS_RETAILER_VIEW1 GROUP BY \"RTL_CITY\",\"PROMOTION_KEY\")\n> SELECT SUM(-a*LOG(a)) FROM(SELECT COUNT(*) AS a FROM DASH5014.SLS_RETAILER_VIEW1 GROUP BY \"RTL_CITY\",\"QUANTITY\")\n> SELECT SUM(-a*LOG(a)) FROM(SELECT COUNT(*) AS a FROM DASH5014.SLS_RETAILER_VIEW1 GROUP BY \"RTL_CITY\",\"SALE_TOTAL\")\n> SELECT SUM(-a*LOG(a)) FROM(SELECT COUNT(*) AS a FROM DASH5014.SLS_RETAILER_VIEW1 GROUP BY \"RTL_PROV_STATE\",\"RTL_COUNTRY_CODE\")\n> SELECT SUM(-a*LOG(a)) FROM(SELECT COUNT(*) AS a FROM DASH5014.SLS_RETAILER_VIEW1 GROUP BY \"RTL_PROV_STATE\",\"RETAILER_TYPE_EN\")\n> SELECT SUM(-a*LOG(a)) FROM(SELECT COUNT(*) AS a FROM DASH5014.SLS_RETAILER_VIEW1 GROUP BY \"RTL_PROV_STATE\",\"RETAILER_MONTHS\")\n"
                }, 
                {
                    "output_type": "stream", 
                    "name": "stdout", 
                    "text": "> SELECT SUM(-a*LOG(a)) FROM(SELECT COUNT(*) AS a FROM DASH5014.SLS_RETAILER_VIEW1 GROUP BY \"RTL_PROV_STATE\",\"ORDER_METHOD_KEY\")\n> SELECT SUM(-a*LOG(a)) FROM(SELECT COUNT(*) AS a FROM DASH5014.SLS_RETAILER_VIEW1 GROUP BY \"RTL_PROV_STATE\",\"PRODUCT_KEY\")\n> SELECT SUM(-a*LOG(a)) FROM(SELECT COUNT(*) AS a FROM DASH5014.SLS_RETAILER_VIEW1 GROUP BY \"RTL_PROV_STATE\",\"PROMOTION_KEY\")\n> SELECT SUM(-a*LOG(a)) FROM(SELECT COUNT(*) AS a FROM DASH5014.SLS_RETAILER_VIEW1 GROUP BY \"RTL_PROV_STATE\",\"QUANTITY\")\n> SELECT SUM(-a*LOG(a)) FROM(SELECT COUNT(*) AS a FROM DASH5014.SLS_RETAILER_VIEW1 GROUP BY \"RTL_PROV_STATE\",\"SALE_TOTAL\")\n> SELECT SUM(-a*LOG(a)) FROM(SELECT COUNT(*) AS a FROM DASH5014.SLS_RETAILER_VIEW1 GROUP BY \"RTL_COUNTRY_CODE\",\"RETAILER_TYPE_EN\")\n> SELECT SUM(-a*LOG(a)) FROM(SELECT COUNT(*) AS a FROM DASH5014.SLS_RETAILER_VIEW1 GROUP BY \"RTL_COUNTRY_CODE\",\"RETAILER_MONTHS\")\n> SELECT SUM(-a*LOG(a)) FROM(SELECT COUNT(*) AS a FROM DASH5014.SLS_RETAILER_VIEW1 GROUP BY \"RTL_COUNTRY_CODE\",\"ORDER_METHOD_KEY\")\n> SELECT SUM(-a*LOG(a)) FROM(SELECT COUNT(*) AS a FROM DASH5014.SLS_RETAILER_VIEW1 GROUP BY \"RTL_COUNTRY_CODE\",\"PRODUCT_KEY\")\n> SELECT SUM(-a*LOG(a)) FROM(SELECT COUNT(*) AS a FROM DASH5014.SLS_RETAILER_VIEW1 GROUP BY \"RTL_COUNTRY_CODE\",\"PROMOTION_KEY\")\n> SELECT SUM(-a*LOG(a)) FROM(SELECT COUNT(*) AS a FROM DASH5014.SLS_RETAILER_VIEW1 GROUP BY \"RTL_COUNTRY_CODE\",\"QUANTITY\")\n> SELECT SUM(-a*LOG(a)) FROM(SELECT COUNT(*) AS a FROM DASH5014.SLS_RETAILER_VIEW1 GROUP BY \"RTL_COUNTRY_CODE\",\"SALE_TOTAL\")\n> SELECT SUM(-a*LOG(a)) FROM(SELECT COUNT(*) AS a FROM DASH5014.SLS_RETAILER_VIEW1 GROUP BY \"RETAILER_TYPE_EN\",\"RETAILER_MONTHS\")\n> SELECT SUM(-a*LOG(a)) FROM(SELECT COUNT(*) AS a FROM DASH5014.SLS_RETAILER_VIEW1 GROUP BY \"RETAILER_TYPE_EN\",\"ORDER_METHOD_KEY\")\n> SELECT SUM(-a*LOG(a)) FROM(SELECT COUNT(*) AS a FROM DASH5014.SLS_RETAILER_VIEW1 GROUP BY \"RETAILER_TYPE_EN\",\"PRODUCT_KEY\")\n> SELECT SUM(-a*LOG(a)) FROM(SELECT COUNT(*) AS a FROM DASH5014.SLS_RETAILER_VIEW1 GROUP BY \"RETAILER_TYPE_EN\",\"PROMOTION_KEY\")\n> SELECT SUM(-a*LOG(a)) FROM(SELECT COUNT(*) AS a FROM DASH5014.SLS_RETAILER_VIEW1 GROUP BY \"RETAILER_TYPE_EN\",\"QUANTITY\")\n> SELECT SUM(-a*LOG(a)) FROM(SELECT COUNT(*) AS a FROM DASH5014.SLS_RETAILER_VIEW1 GROUP BY \"RETAILER_TYPE_EN\",\"SALE_TOTAL\")\n> SELECT SUM(-a*LOG(a)) FROM(SELECT COUNT(*) AS a FROM DASH5014.SLS_RETAILER_VIEW1 GROUP BY \"RETAILER_MONTHS\",\"ORDER_METHOD_KEY\")\n> SELECT SUM(-a*LOG(a)) FROM(SELECT COUNT(*) AS a FROM DASH5014.SLS_RETAILER_VIEW1 GROUP BY \"RETAILER_MONTHS\",\"PRODUCT_KEY\")\n> SELECT SUM(-a*LOG(a)) FROM(SELECT COUNT(*) AS a FROM DASH5014.SLS_RETAILER_VIEW1 GROUP BY \"RETAILER_MONTHS\",\"PROMOTION_KEY\")\n> SELECT SUM(-a*LOG(a)) FROM(SELECT COUNT(*) AS a FROM DASH5014.SLS_RETAILER_VIEW1 GROUP BY \"RETAILER_MONTHS\",\"QUANTITY\")\n> SELECT SUM(-a*LOG(a)) FROM(SELECT COUNT(*) AS a FROM DASH5014.SLS_RETAILER_VIEW1 GROUP BY \"RETAILER_MONTHS\",\"SALE_TOTAL\")\n> SELECT SUM(-a*LOG(a)) FROM(SELECT COUNT(*) AS a FROM DASH5014.SLS_RETAILER_VIEW1 GROUP BY \"ORDER_METHOD_KEY\",\"PRODUCT_KEY\")\n> SELECT SUM(-a*LOG(a)) FROM(SELECT COUNT(*) AS a FROM DASH5014.SLS_RETAILER_VIEW1 GROUP BY \"ORDER_METHOD_KEY\",\"PROMOTION_KEY\")\n> SELECT SUM(-a*LOG(a)) FROM(SELECT COUNT(*) AS a FROM DASH5014.SLS_RETAILER_VIEW1 GROUP BY \"ORDER_METHOD_KEY\",\"QUANTITY\")\n> SELECT SUM(-a*LOG(a)) FROM(SELECT COUNT(*) AS a FROM DASH5014.SLS_RETAILER_VIEW1 GROUP BY \"ORDER_METHOD_KEY\",\"SALE_TOTAL\")\n> SELECT SUM(-a*LOG(a)) FROM(SELECT COUNT(*) AS a FROM DASH5014.SLS_RETAILER_VIEW1 GROUP BY \"PRODUCT_KEY\",\"PROMOTION_KEY\")\n> SELECT SUM(-a*LOG(a)) FROM(SELECT COUNT(*) AS a FROM DASH5014.SLS_RETAILER_VIEW1 GROUP BY \"PRODUCT_KEY\",\"QUANTITY\")\n> SELECT SUM(-a*LOG(a)) FROM(SELECT COUNT(*) AS a FROM DASH5014.SLS_RETAILER_VIEW1 GROUP BY \"PRODUCT_KEY\",\"SALE_TOTAL\")\n> SELECT SUM(-a*LOG(a)) FROM(SELECT COUNT(*) AS a FROM DASH5014.SLS_RETAILER_VIEW1 GROUP BY \"PROMOTION_KEY\",\"QUANTITY\")\n> SELECT SUM(-a*LOG(a)) FROM(SELECT COUNT(*) AS a FROM DASH5014.SLS_RETAILER_VIEW1 GROUP BY \"PROMOTION_KEY\",\"SALE_TOTAL\")\n> SELECT SUM(-a*LOG(a)) FROM(SELECT COUNT(*) AS a FROM DASH5014.SLS_RETAILER_VIEW1 GROUP BY \"QUANTITY\",\"SALE_TOTAL\")\nExecution time: 5.894658088684082 seconds.\n"
                }
            ], 
            "execution_count": 23
        }, 
        {
            "source": "featsel", 
            "cell_type": "code", 
            "metadata": {}, 
            "outputs": [
                {
                    "output_type": "execute_result", 
                    "data": {
                        "text/plain": "                          ID  RETAILER_SITE_KEY  RETAILER_KEY  GENDER_CODE  \\\nID                       NaN           9.351573      8.405883     1.046016   \nRETAILER_SITE_KEY   9.351573                NaN      8.627490     1.259382   \nRETAILER_KEY        8.405883           8.627490           NaN     0.923462   \nGENDER_CODE         1.046016           1.259382      0.923462          NaN   \nRTL_CITY            7.653087           7.850661      6.985077     0.692344   \nRTL_PROV_STATE      4.288816           4.484299      3.990665     0.467094   \nRTL_COUNTRY_CODE    4.128926           4.364599      4.205907     0.305375   \nRETAILER_TYPE_EN    2.416106           2.622393      2.577492     0.286965   \nRETAILER_MONTHS     5.811507           6.022037      6.006979    -0.120146   \nORDER_METHOD_KEY    0.572288           0.380758      0.209797    -0.729601   \nPRODUCT_KEY         7.551724           2.043349      1.556876    -0.346275   \nPROMOTION_KEY      -0.020839          -0.015542     -0.055232    -0.815227   \nQUANTITY            8.500803           2.795263      2.237354    -0.307463   \nSALE_TOTAL         13.461874           7.398971      6.489051     0.354545   \n\n                   RTL_CITY  RTL_PROV_STATE  RTL_COUNTRY_CODE  \\\nID                 7.653087        4.288816          4.128926   \nRETAILER_SITE_KEY  7.850661        4.484299          4.364599   \nRETAILER_KEY       6.985077        3.990665          4.205907   \nGENDER_CODE        0.692344        0.467094          0.305375   \nRTL_CITY                NaN        3.988634          3.841242   \nRTL_PROV_STATE     3.988634             NaN          2.019490   \nRTL_COUNTRY_CODE   3.841242        2.019490               NaN   \nRETAILER_TYPE_EN   1.253859        0.464540          0.049713   \nRETAILER_MONTHS    4.154361        2.010643          1.831820   \nORDER_METHOD_KEY  -0.244381       -0.359469         -0.422591   \nPRODUCT_KEY        1.024522        0.273512         -0.084067   \nPROMOTION_KEY     -0.482404       -0.554741         -0.575611   \nQUANTITY           1.640567        0.587670          0.155574   \nSALE_TOTAL         5.739941        2.961947          2.520015   \n\n                   RETAILER_TYPE_EN  RETAILER_MONTHS  ORDER_METHOD_KEY  \\\nID                         2.416106         5.811507          0.572288   \nRETAILER_SITE_KEY          2.622393         6.022037          0.380758   \nRETAILER_KEY               2.577492         6.006979          0.209797   \nGENDER_CODE                0.286965        -0.120146         -0.729601   \nRTL_CITY                   1.253859         4.154361         -0.244381   \nRTL_PROV_STATE             0.464540         2.010643         -0.359469   \nRTL_COUNTRY_CODE           0.049713         1.831820         -0.422591   \nRETAILER_TYPE_EN                NaN         0.748450         -0.455048   \nRETAILER_MONTHS            0.748450              NaN          0.090592   \nORDER_METHOD_KEY          -0.455048         0.090592               NaN   \nPRODUCT_KEY                0.135505         0.423950         -0.191385   \nPROMOTION_KEY             -0.553342        -0.010760         -0.368337   \nQUANTITY                   0.225266         0.814968         -0.153237   \nSALE_TOTAL                 1.355310         4.001280          0.334551   \n\n                   PRODUCT_KEY  PROMOTION_KEY  QUANTITY  SALE_TOTAL  \nID                    7.551724      -0.020839  8.500803   13.461874  \nRETAILER_SITE_KEY     2.043349      -0.015542  2.795263    7.398971  \nRETAILER_KEY          1.556876      -0.055232  2.237354    6.489051  \nGENDER_CODE          -0.346275      -0.815227 -0.307463    0.354545  \nRTL_CITY              1.024522      -0.482404  1.640567    5.739941  \nRTL_PROV_STATE        0.273512      -0.554741  0.587670    2.961947  \nRTL_COUNTRY_CODE     -0.084067      -0.575611  0.155574    2.520015  \nRETAILER_TYPE_EN      0.135505      -0.553342  0.225266    1.355310  \nRETAILER_MONTHS       0.423950      -0.010760  0.814968    4.001280  \nORDER_METHOD_KEY     -0.191385      -0.368337 -0.153237    0.334551  \nPRODUCT_KEY                NaN      -0.110786  1.925907    6.589969  \nPROMOTION_KEY        -0.110786            NaN -0.191620   -0.087928  \nQUANTITY              1.925907      -0.191620       NaN    8.123107  \nSALE_TOTAL            6.589969      -0.087928  8.123107         NaN  ", 
                        "text/html": "<div>\n<style scoped>\n    .dataframe tbody tr th:only-of-type {\n        vertical-align: middle;\n    }\n\n    .dataframe tbody tr th {\n        vertical-align: top;\n    }\n\n    .dataframe thead th {\n        text-align: right;\n    }\n</style>\n<table border=\"1\" class=\"dataframe\">\n  <thead>\n    <tr style=\"text-align: right;\">\n      <th></th>\n      <th>ID</th>\n      <th>RETAILER_SITE_KEY</th>\n      <th>RETAILER_KEY</th>\n      <th>GENDER_CODE</th>\n      <th>RTL_CITY</th>\n      <th>RTL_PROV_STATE</th>\n      <th>RTL_COUNTRY_CODE</th>\n      <th>RETAILER_TYPE_EN</th>\n      <th>RETAILER_MONTHS</th>\n      <th>ORDER_METHOD_KEY</th>\n      <th>PRODUCT_KEY</th>\n      <th>PROMOTION_KEY</th>\n      <th>QUANTITY</th>\n      <th>SALE_TOTAL</th>\n    </tr>\n  </thead>\n  <tbody>\n    <tr>\n      <th>ID</th>\n      <td>NaN</td>\n      <td>9.351573</td>\n      <td>8.405883</td>\n      <td>1.046016</td>\n      <td>7.653087</td>\n      <td>4.288816</td>\n      <td>4.128926</td>\n      <td>2.416106</td>\n      <td>5.811507</td>\n      <td>0.572288</td>\n      <td>7.551724</td>\n      <td>-0.020839</td>\n      <td>8.500803</td>\n      <td>13.461874</td>\n    </tr>\n    <tr>\n      <th>RETAILER_SITE_KEY</th>\n      <td>9.351573</td>\n      <td>NaN</td>\n      <td>8.627490</td>\n      <td>1.259382</td>\n      <td>7.850661</td>\n      <td>4.484299</td>\n      <td>4.364599</td>\n      <td>2.622393</td>\n      <td>6.022037</td>\n      <td>0.380758</td>\n      <td>2.043349</td>\n      <td>-0.015542</td>\n      <td>2.795263</td>\n      <td>7.398971</td>\n    </tr>\n    <tr>\n      <th>RETAILER_KEY</th>\n      <td>8.405883</td>\n      <td>8.627490</td>\n      <td>NaN</td>\n      <td>0.923462</td>\n      <td>6.985077</td>\n      <td>3.990665</td>\n      <td>4.205907</td>\n      <td>2.577492</td>\n      <td>6.006979</td>\n      <td>0.209797</td>\n      <td>1.556876</td>\n      <td>-0.055232</td>\n      <td>2.237354</td>\n      <td>6.489051</td>\n    </tr>\n    <tr>\n      <th>GENDER_CODE</th>\n      <td>1.046016</td>\n      <td>1.259382</td>\n      <td>0.923462</td>\n      <td>NaN</td>\n      <td>0.692344</td>\n      <td>0.467094</td>\n      <td>0.305375</td>\n      <td>0.286965</td>\n      <td>-0.120146</td>\n      <td>-0.729601</td>\n      <td>-0.346275</td>\n      <td>-0.815227</td>\n      <td>-0.307463</td>\n      <td>0.354545</td>\n    </tr>\n    <tr>\n      <th>RTL_CITY</th>\n      <td>7.653087</td>\n      <td>7.850661</td>\n      <td>6.985077</td>\n      <td>0.692344</td>\n      <td>NaN</td>\n      <td>3.988634</td>\n      <td>3.841242</td>\n      <td>1.253859</td>\n      <td>4.154361</td>\n      <td>-0.244381</td>\n      <td>1.024522</td>\n      <td>-0.482404</td>\n      <td>1.640567</td>\n      <td>5.739941</td>\n    </tr>\n    <tr>\n      <th>RTL_PROV_STATE</th>\n      <td>4.288816</td>\n      <td>4.484299</td>\n      <td>3.990665</td>\n      <td>0.467094</td>\n      <td>3.988634</td>\n      <td>NaN</td>\n      <td>2.019490</td>\n      <td>0.464540</td>\n      <td>2.010643</td>\n      <td>-0.359469</td>\n      <td>0.273512</td>\n      <td>-0.554741</td>\n      <td>0.587670</td>\n      <td>2.961947</td>\n    </tr>\n    <tr>\n      <th>RTL_COUNTRY_CODE</th>\n      <td>4.128926</td>\n      <td>4.364599</td>\n      <td>4.205907</td>\n      <td>0.305375</td>\n      <td>3.841242</td>\n      <td>2.019490</td>\n      <td>NaN</td>\n      <td>0.049713</td>\n      <td>1.831820</td>\n      <td>-0.422591</td>\n      <td>-0.084067</td>\n      <td>-0.575611</td>\n      <td>0.155574</td>\n      <td>2.520015</td>\n    </tr>\n    <tr>\n      <th>RETAILER_TYPE_EN</th>\n      <td>2.416106</td>\n      <td>2.622393</td>\n      <td>2.577492</td>\n      <td>0.286965</td>\n      <td>1.253859</td>\n      <td>0.464540</td>\n      <td>0.049713</td>\n      <td>NaN</td>\n      <td>0.748450</td>\n      <td>-0.455048</td>\n      <td>0.135505</td>\n      <td>-0.553342</td>\n      <td>0.225266</td>\n      <td>1.355310</td>\n    </tr>\n    <tr>\n      <th>RETAILER_MONTHS</th>\n      <td>5.811507</td>\n      <td>6.022037</td>\n      <td>6.006979</td>\n      <td>-0.120146</td>\n      <td>4.154361</td>\n      <td>2.010643</td>\n      <td>1.831820</td>\n      <td>0.748450</td>\n      <td>NaN</td>\n      <td>0.090592</td>\n      <td>0.423950</td>\n      <td>-0.010760</td>\n      <td>0.814968</td>\n      <td>4.001280</td>\n    </tr>\n    <tr>\n      <th>ORDER_METHOD_KEY</th>\n      <td>0.572288</td>\n      <td>0.380758</td>\n      <td>0.209797</td>\n      <td>-0.729601</td>\n      <td>-0.244381</td>\n      <td>-0.359469</td>\n      <td>-0.422591</td>\n      <td>-0.455048</td>\n      <td>0.090592</td>\n      <td>NaN</td>\n      <td>-0.191385</td>\n      <td>-0.368337</td>\n      <td>-0.153237</td>\n      <td>0.334551</td>\n    </tr>\n    <tr>\n      <th>PRODUCT_KEY</th>\n      <td>7.551724</td>\n      <td>2.043349</td>\n      <td>1.556876</td>\n      <td>-0.346275</td>\n      <td>1.024522</td>\n      <td>0.273512</td>\n      <td>-0.084067</td>\n      <td>0.135505</td>\n      <td>0.423950</td>\n      <td>-0.191385</td>\n      <td>NaN</td>\n      <td>-0.110786</td>\n      <td>1.925907</td>\n      <td>6.589969</td>\n    </tr>\n    <tr>\n      <th>PROMOTION_KEY</th>\n      <td>-0.020839</td>\n      <td>-0.015542</td>\n      <td>-0.055232</td>\n      <td>-0.815227</td>\n      <td>-0.482404</td>\n      <td>-0.554741</td>\n      <td>-0.575611</td>\n      <td>-0.553342</td>\n      <td>-0.010760</td>\n      <td>-0.368337</td>\n      <td>-0.110786</td>\n      <td>NaN</td>\n      <td>-0.191620</td>\n      <td>-0.087928</td>\n    </tr>\n    <tr>\n      <th>QUANTITY</th>\n      <td>8.500803</td>\n      <td>2.795263</td>\n      <td>2.237354</td>\n      <td>-0.307463</td>\n      <td>1.640567</td>\n      <td>0.587670</td>\n      <td>0.155574</td>\n      <td>0.225266</td>\n      <td>0.814968</td>\n      <td>-0.153237</td>\n      <td>1.925907</td>\n      <td>-0.191620</td>\n      <td>NaN</td>\n      <td>8.123107</td>\n    </tr>\n    <tr>\n      <th>SALE_TOTAL</th>\n      <td>13.461874</td>\n      <td>7.398971</td>\n      <td>6.489051</td>\n      <td>0.354545</td>\n      <td>5.739941</td>\n      <td>2.961947</td>\n      <td>2.520015</td>\n      <td>1.355310</td>\n      <td>4.001280</td>\n      <td>0.334551</td>\n      <td>6.589969</td>\n      <td>-0.087928</td>\n      <td>8.123107</td>\n      <td>NaN</td>\n    </tr>\n  </tbody>\n</table>\n</div>"
                    }, 
                    "execution_count": 25, 
                    "metadata": {}
                }
            ], 
            "execution_count": 25
        }, 
        {
            "source": "featsel.columns", 
            "cell_type": "code", 
            "metadata": {}, 
            "outputs": [
                {
                    "output_type": "execute_result", 
                    "data": {
                        "text/plain": "Index(['ID', 'RETAILER_SITE_KEY', 'RETAILER_KEY', 'GENDER_CODE', 'RTL_CITY',\n       'RTL_PROV_STATE', 'RTL_COUNTRY_CODE', 'RETAILER_TYPE_EN',\n       'RETAILER_MONTHS', 'ORDER_METHOD_KEY', 'PRODUCT_KEY', 'PROMOTION_KEY',\n       'QUANTITY', 'SALE_TOTAL'],\n      dtype='object')"
                    }, 
                    "execution_count": 27, 
                    "metadata": {}
                }
            ], 
            "execution_count": 27
        }, 
        {
            "source": "import pandas as pd\nfeat_importances = pd.Series(featsel, index=featsel.columns)", 
            "cell_type": "code", 
            "metadata": {}, 
            "outputs": [], 
            "execution_count": 31
        }, 
        {
            "source": "#feat_importances = feat_importances.nlargest(5)\nfeatsel.plot(kind='hist')", 
            "cell_type": "code", 
            "metadata": {}, 
            "outputs": [
                {
                    "output_type": "execute_result", 
                    "data": {
                        "text/plain": "<matplotlib.axes._subplots.AxesSubplot at 0x2b15717e9a90>"
                    }, 
                    "execution_count": 42, 
                    "metadata": {}
                }, 
                {
                    "output_type": "display_data", 
                    "data": {
                        "image/png": "[encoded data removed]", 
                        "text/plain": "<matplotlib.figure.Figure at 0x2b15717ba048>"
                    }, 
                    "metadata": {}
                }
            ], 
            "execution_count": 42
        }, 
        {
            "source": "", 
            "cell_type": "code", 
            "metadata": {}, 
            "outputs": [], 
            "execution_count": null
        }, 
        {
            "source": "%matplotlib inline\nimport matplotlib.pyplot as plt\nimport seaborn as sns; sns.set()  # for plot styling\nimport numpy as np", 
            "cell_type": "code", 
            "metadata": {}, 
            "outputs": [], 
            "execution_count": 34
        }, 
        {
            "source": "from sklearn.datasets.samples_generator import make_blobs\nX, y_true = make_blobs(n_samples=300, centers=4,\n                       cluster_std=0.60, random_state=0)\nplt.scatter(X[:, 0], X[:, 1], s=50);", 
            "cell_type": "code", 
            "metadata": {}, 
            "outputs": [
                {
                    "output_type": "display_data", 
                    "data": {
                        "image/png": "[encoded data removed]", 
                        "text/plain": "<matplotlib.figure.Figure at 0x2b155963fd68>"
                    }, 
                    "metadata": {}
                }
            ], 
            "execution_count": 35
        }, 
        {
            "source": "X[:5].head()", 
            "cell_type": "code", 
            "metadata": {}, 
            "outputs": [
                {
                    "output_type": "stream", 
                    "name": "stdout", 
                    "text": "> SELECT * FROM (SELECT \"ID\",\"RETAILER_SITE_KEY\",\"RETAILER_KEY\",\"GENDER_CODE\",\"RTL_CITY\",\"RTL_PROV_STATE\",\"RTL_COUNTRY_CODE\",\"RETAILER_TYPE_EN\",\"RETAILER_MONTHS\",\"ORDER_METHOD_KEY\",\"PRODUCT_KEY\",\"PROMOTION_KEY\",\"QUANTITY\",\"SALE_TOTAL\" FROM (SELECT TEMP.*, (ROWNUMBER() OVER()-1) AS RN FROM DASH5014.SLS_RETAILER_VIEW1 AS TEMP) WHERE RN  BETWEEN 0 AND 5) ORDER BY \"ID\" ASC FETCH FIRST 5 ROWS ONLY\n"
                }, 
                {
                    "output_type": "stream", 
                    "name": "stderr", 
                    "text": "/opt/conda/envs/DSX-Python35/lib/python3.5/site-packages/ibmdbpy/indexing.py:118: UserWarning: Row order is not guaranteed if no indexer was given and the dataset was not sorted\n  \" was given and the dataset was not sorted\")\n"
                }, 
                {
                    "output_type": "execute_result", 
                    "data": {
                        "text/plain": "   id  retailer_site_key  retailer_key  gender_code   rtl_city rtl_prov_state  \\\n0   1               5464          6985            1   Grenoble           None   \n1   2               5464          6985            1   Grenoble           None   \n2   3               5283          6858            1  Barcelona      Barcelona   \n3   4               5287          6858            0    Logro\u00f1o       La Rioja   \n4   5               5287          6858            0    Logro\u00f1o       La Rioja   \n\n   rtl_country_code retailer_type_en  retailer_months  order_method_key  \\\n0              6001     Sports Store              122               605   \n1              6001     Sports Store              122               605   \n2              7019    Outdoors Shop              130               602   \n3              7019    Outdoors Shop              130               602   \n4              7019    Outdoors Shop              130               602   \n\n   product_key  promotion_key  quantity  sale_total  \n0        30090           5501      2779    33737.06  \n1        30098           5501        73     5933.44  \n2        30033           5501       368    10833.92  \n3        30045           5501       105    57354.15  \n4        30047           5501       436    26923.00  ", 
                        "text/html": "<div>\n<style scoped>\n    .dataframe tbody tr th:only-of-type {\n        vertical-align: middle;\n    }\n\n    .dataframe tbody tr th {\n        vertical-align: top;\n    }\n\n    .dataframe thead th {\n        text-align: right;\n    }\n</style>\n<table border=\"1\" class=\"dataframe\">\n  <thead>\n    <tr style=\"text-align: right;\">\n      <th></th>\n      <th>id</th>\n      <th>retailer_site_key</th>\n      <th>retailer_key</th>\n      <th>gender_code</th>\n      <th>rtl_city</th>\n      <th>rtl_prov_state</th>\n      <th>rtl_country_code</th>\n      <th>retailer_type_en</th>\n      <th>retailer_months</th>\n      <th>order_method_key</th>\n      <th>product_key</th>\n      <th>promotion_key</th>\n      <th>quantity</th>\n      <th>sale_total</th>\n    </tr>\n  </thead>\n  <tbody>\n    <tr>\n      <th>0</th>\n      <td>1</td>\n      <td>5464</td>\n      <td>6985</td>\n      <td>1</td>\n      <td>Grenoble</td>\n      <td>None</td>\n      <td>6001</td>\n      <td>Sports Store</td>\n      <td>122</td>\n      <td>605</td>\n      <td>30090</td>\n      <td>5501</td>\n      <td>2779</td>\n      <td>33737.06</td>\n    </tr>\n    <tr>\n      <th>1</th>\n      <td>2</td>\n      <td>5464</td>\n      <td>6985</td>\n      <td>1</td>\n      <td>Grenoble</td>\n      <td>None</td>\n      <td>6001</td>\n      <td>Sports Store</td>\n      <td>122</td>\n      <td>605</td>\n      <td>30098</td>\n      <td>5501</td>\n      <td>73</td>\n      <td>5933.44</td>\n    </tr>\n    <tr>\n      <th>2</th>\n      <td>3</td>\n      <td>5283</td>\n      <td>6858</td>\n      <td>1</td>\n      <td>Barcelona</td>\n      <td>Barcelona</td>\n      <td>7019</td>\n      <td>Outdoors Shop</td>\n      <td>130</td>\n      <td>602</td>\n      <td>30033</td>\n      <td>5501</td>\n      <td>368</td>\n      <td>10833.92</td>\n    </tr>\n    <tr>\n      <th>3</th>\n      <td>4</td>\n      <td>5287</td>\n      <td>6858</td>\n      <td>0</td>\n      <td>Logro\u00f1o</td>\n      <td>La Rioja</td>\n      <td>7019</td>\n      <td>Outdoors Shop</td>\n      <td>130</td>\n      <td>602</td>\n      <td>30045</td>\n      <td>5501</td>\n      <td>105</td>\n      <td>57354.15</td>\n    </tr>\n    <tr>\n      <th>4</th>\n      <td>5</td>\n      <td>5287</td>\n      <td>6858</td>\n      <td>0</td>\n      <td>Logro\u00f1o</td>\n      <td>La Rioja</td>\n      <td>7019</td>\n      <td>Outdoors Shop</td>\n      <td>130</td>\n      <td>602</td>\n      <td>30047</td>\n      <td>5501</td>\n      <td>436</td>\n      <td>26923.00</td>\n    </tr>\n  </tbody>\n</table>\n</div>"
                    }, 
                    "execution_count": 53, 
                    "metadata": {}
                }
            ], 
            "execution_count": 53
        }, 
        {
            "source": "X = sales_retail_view1\nplt.scatter(X[:, 0], X[:, 1], c=y_kmeans, s=50, cmap='viridis')\n\ncenters = kmeans.cluster_centers_\nplt.scatter(centers[:, 0], centers[:, 1], c='black', s=200, alpha=0.5);", 
            "cell_type": "code", 
            "metadata": {}, 
            "outputs": [
                {
                    "output_type": "error", 
                    "evalue": "(slice(None, None, None), 0)", 
                    "traceback": [
                        "\u001b[0;31m---------------------------------------------------------------------------\u001b[0m", 
                        "\u001b[0;31mKeyError\u001b[0m                                  Traceback (most recent call last)", 
                        "\u001b[0;32m<ipython-input-45-a4dd63d08ad2>\u001b[0m in \u001b[0;36m<module>\u001b[0;34m()\u001b[0m\n\u001b[1;32m      1\u001b[0m \u001b[0mX\u001b[0m \u001b[0;34m=\u001b[0m \u001b[0msales_retail_view1\u001b[0m\u001b[0;34m\u001b[0m\u001b[0m\n\u001b[0;32m----> 2\u001b[0;31m \u001b[0mplt\u001b[0m\u001b[0;34m.\u001b[0m\u001b[0mscatter\u001b[0m\u001b[0;34m(\u001b[0m\u001b[0mX\u001b[0m\u001b[0;34m[\u001b[0m\u001b[0;34m:\u001b[0m\u001b[0;34m,\u001b[0m \u001b[0;36m0\u001b[0m\u001b[0;34m]\u001b[0m\u001b[0;34m,\u001b[0m \u001b[0mX\u001b[0m\u001b[0;34m[\u001b[0m\u001b[0;34m:\u001b[0m\u001b[0;34m,\u001b[0m \u001b[0;36m1\u001b[0m\u001b[0;34m]\u001b[0m\u001b[0;34m,\u001b[0m \u001b[0mc\u001b[0m\u001b[0;34m=\u001b[0m\u001b[0my_kmeans\u001b[0m\u001b[0;34m,\u001b[0m \u001b[0ms\u001b[0m\u001b[0;34m=\u001b[0m\u001b[0;36m50\u001b[0m\u001b[0;34m,\u001b[0m \u001b[0mcmap\u001b[0m\u001b[0;34m=\u001b[0m\u001b[0;34m'viridis'\u001b[0m\u001b[0;34m)\u001b[0m\u001b[0;34m\u001b[0m\u001b[0m\n\u001b[0m\u001b[1;32m      3\u001b[0m \u001b[0;34m\u001b[0m\u001b[0m\n\u001b[1;32m      4\u001b[0m \u001b[0mcenters\u001b[0m \u001b[0;34m=\u001b[0m \u001b[0mkmeans\u001b[0m\u001b[0;34m.\u001b[0m\u001b[0mcluster_centers_\u001b[0m\u001b[0;34m\u001b[0m\u001b[0m\n\u001b[1;32m      5\u001b[0m \u001b[0mplt\u001b[0m\u001b[0;34m.\u001b[0m\u001b[0mscatter\u001b[0m\u001b[0;34m(\u001b[0m\u001b[0mcenters\u001b[0m\u001b[0;34m[\u001b[0m\u001b[0;34m:\u001b[0m\u001b[0;34m,\u001b[0m \u001b[0;36m0\u001b[0m\u001b[0;34m]\u001b[0m\u001b[0;34m,\u001b[0m \u001b[0mcenters\u001b[0m\u001b[0;34m[\u001b[0m\u001b[0;34m:\u001b[0m\u001b[0;34m,\u001b[0m \u001b[0;36m1\u001b[0m\u001b[0;34m]\u001b[0m\u001b[0;34m,\u001b[0m \u001b[0mc\u001b[0m\u001b[0;34m=\u001b[0m\u001b[0;34m'black'\u001b[0m\u001b[0;34m,\u001b[0m \u001b[0ms\u001b[0m\u001b[0;34m=\u001b[0m\u001b[0;36m200\u001b[0m\u001b[0;34m,\u001b[0m \u001b[0malpha\u001b[0m\u001b[0;34m=\u001b[0m\u001b[0;36m0.5\u001b[0m\u001b[0;34m)\u001b[0m\u001b[0;34m;\u001b[0m\u001b[0;34m\u001b[0m\u001b[0m\n", 
                        "\u001b[0;32m/opt/conda/envs/DSX-Python35/lib/python3.5/site-packages/ibmdbpy/frame.py\u001b[0m in \u001b[0;36m__getitem__\u001b[0;34m(self, item)\u001b[0m\n\u001b[1;32m    459\u001b[0m                 \u001b[0;32mreturn\u001b[0m \u001b[0mself\u001b[0m\u001b[0;34m.\u001b[0m\u001b[0mloc\u001b[0m\u001b[0;34m[\u001b[0m\u001b[0mitem\u001b[0m\u001b[0;34m]\u001b[0m\u001b[0;34m\u001b[0m\u001b[0m\n\u001b[1;32m    460\u001b[0m             \u001b[0;32mif\u001b[0m \u001b[0;32mnot\u001b[0m \u001b[0;34m(\u001b[0m\u001b[0misinstance\u001b[0m\u001b[0;34m(\u001b[0m\u001b[0mitem\u001b[0m\u001b[0;34m,\u001b[0m\u001b[0msix\u001b[0m\u001b[0;34m.\u001b[0m\u001b[0mstring_types\u001b[0m\u001b[0;34m)\u001b[0m\u001b[0;34m|\u001b[0m\u001b[0misinstance\u001b[0m\u001b[0;34m(\u001b[0m\u001b[0mitem\u001b[0m\u001b[0;34m,\u001b[0m \u001b[0mlist\u001b[0m\u001b[0;34m)\u001b[0m\u001b[0;34m)\u001b[0m\u001b[0;34m:\u001b[0m\u001b[0;34m\u001b[0m\u001b[0m\n\u001b[0;32m--> 461\u001b[0;31m                 \u001b[0;32mraise\u001b[0m \u001b[0mKeyError\u001b[0m\u001b[0;34m(\u001b[0m\u001b[0mitem\u001b[0m\u001b[0;34m)\u001b[0m\u001b[0;34m\u001b[0m\u001b[0m\n\u001b[0m\u001b[1;32m    462\u001b[0m             \u001b[0;32mif\u001b[0m \u001b[0misinstance\u001b[0m\u001b[0;34m(\u001b[0m\u001b[0mitem\u001b[0m\u001b[0;34m,\u001b[0m \u001b[0msix\u001b[0m\u001b[0;34m.\u001b[0m\u001b[0mstring_types\u001b[0m\u001b[0;34m)\u001b[0m\u001b[0;34m:\u001b[0m\u001b[0;34m\u001b[0m\u001b[0m\n\u001b[1;32m    463\u001b[0m                 \u001b[0;31m# Case when only one column was selected\u001b[0m\u001b[0;34m\u001b[0m\u001b[0;34m\u001b[0m\u001b[0m\n", 
                        "\u001b[0;31mKeyError\u001b[0m: (slice(None, None, None), 0)"
                    ], 
                    "ename": "KeyError"
                }
            ], 
            "execution_count": 45
        }, 
        {
            "source": "Explore the loaded data by using the following Apache Spark DataFrame methods:\n-  print schema\n-  print top ten records\n-  count all records", 
            "cell_type": "markdown", 
            "metadata": {}
        }, 
        {
            "source": "df_data.printSchema()", 
            "cell_type": "code", 
            "metadata": {}, 
            "outputs": [
                {
                    "output_type": "error", 
                    "evalue": "'IdaDataFrame' object has no attribute 'printSchema'", 
                    "traceback": [
                        "\u001b[0;31m---------------------------------------------------------------------------\u001b[0m", 
                        "\u001b[0;31mAttributeError\u001b[0m                            Traceback (most recent call last)", 
                        "\u001b[0;32m<ipython-input-2-3ab782c43c13>\u001b[0m in \u001b[0;36m<module>\u001b[0;34m()\u001b[0m\n\u001b[0;32m----> 1\u001b[0;31m \u001b[0mdf_data\u001b[0m\u001b[0;34m.\u001b[0m\u001b[0mprintSchema\u001b[0m\u001b[0;34m(\u001b[0m\u001b[0;34m)\u001b[0m\u001b[0;34m\u001b[0m\u001b[0m\n\u001b[0m", 
                        "\u001b[0;31mAttributeError\u001b[0m: 'IdaDataFrame' object has no attribute 'printSchema'"
                    ], 
                    "ename": "AttributeError"
                }
            ], 
            "execution_count": 2
        }, 
        {
            "source": "As you can see, the data contains five fields. PRODUCT_LINE field is the one you would like to predict (label).", 
            "cell_type": "markdown", 
            "metadata": {}
        }, 
        {
            "source": "df_data.show()", 
            "cell_type": "code", 
            "metadata": {}, 
            "outputs": [
                {
                    "output_type": "error", 
                    "evalue": "'IdaDataFrame' object has no attribute 'show'", 
                    "traceback": [
                        "\u001b[0;31m---------------------------------------------------------------------------\u001b[0m", 
                        "\u001b[0;31mAttributeError\u001b[0m                            Traceback (most recent call last)", 
                        "\u001b[0;32m<ipython-input-3-0af8061df75b>\u001b[0m in \u001b[0;36m<module>\u001b[0;34m()\u001b[0m\n\u001b[0;32m----> 1\u001b[0;31m \u001b[0mdf_data\u001b[0m\u001b[0;34m.\u001b[0m\u001b[0mshow\u001b[0m\u001b[0;34m(\u001b[0m\u001b[0;34m)\u001b[0m\u001b[0;34m\u001b[0m\u001b[0m\n\u001b[0m", 
                        "\u001b[0;31mAttributeError\u001b[0m: 'IdaDataFrame' object has no attribute 'show'"
                    ], 
                    "ename": "AttributeError"
                }
            ], 
            "execution_count": 3
        }, 
        {
            "source": "#print(\"Number of records: \" + str(df_data.count()))\nprint(\"Number of records: \" + str(len(df_data)))", 
            "cell_type": "code", 
            "metadata": {}, 
            "outputs": [
                {
                    "output_type": "stream", 
                    "name": "stdout", 
                    "text": "> SELECT CAST(COUNT(*) AS INTEGER) FROM GOSALESDW.SLS_SALES_FACT\nNumber of records: 446023\n"
                }
            ], 
            "execution_count": 5
        }, 
        {
            "source": "As you can see, the data set contains 60252 records.", 
            "cell_type": "markdown", 
            "metadata": {}
        }, 
        {
            "source": "<a id=\"model\"></a>\n## 3. Create an Apache Spark machine learning model\n\nIn this section you will learn how to:\n\n- [3.1 Prepare data](#prep)\n- [3.2 Create an Apache Spark machine learning pipeline](#pipe)\n- [3.3 Train a model](#train)", 
            "cell_type": "markdown", 
            "metadata": {}
        }, 
        {
            "source": "### 3.1 Prepare data<a id=\"prep\"></a>\n\nIn this subsection you will split your data into: \n- train data set\n- test data set\n- predict data set", 
            "cell_type": "markdown", 
            "metadata": {}
        }, 
        {
            "source": "splitted_data = df_data.randomSplit([0.8, 0.18, 0.02], 24)\ntrain_data = splitted_data[0]\ntest_data = splitted_data[1]\npredict_data = splitted_data[2]\n\nprint(\"Number of training records: \" + str(train_data.count()))\nprint(\"Number of testing records : \" + str(test_data.count()))\nprint(\"Number of prediction records : \" + str(predict_data.count()))", 
            "cell_type": "code", 
            "metadata": {}, 
            "outputs": [
                {
                    "output_type": "error", 
                    "evalue": "'IdaDataFrame' object has no attribute 'randomSplit'", 
                    "traceback": [
                        "\u001b[0;31m---------------------------------------------------------------------------\u001b[0m", 
                        "\u001b[0;31mAttributeError\u001b[0m                            Traceback (most recent call last)", 
                        "\u001b[0;32m<ipython-input-6-52975336a5d2>\u001b[0m in \u001b[0;36m<module>\u001b[0;34m()\u001b[0m\n\u001b[0;32m----> 1\u001b[0;31m \u001b[0msplitted_data\u001b[0m \u001b[0;34m=\u001b[0m \u001b[0mdf_data\u001b[0m\u001b[0;34m.\u001b[0m\u001b[0mrandomSplit\u001b[0m\u001b[0;34m(\u001b[0m\u001b[0;34m[\u001b[0m\u001b[0;36m0.8\u001b[0m\u001b[0;34m,\u001b[0m \u001b[0;36m0.18\u001b[0m\u001b[0;34m,\u001b[0m \u001b[0;36m0.02\u001b[0m\u001b[0;34m]\u001b[0m\u001b[0;34m,\u001b[0m \u001b[0;36m24\u001b[0m\u001b[0;34m)\u001b[0m\u001b[0;34m\u001b[0m\u001b[0m\n\u001b[0m\u001b[1;32m      2\u001b[0m \u001b[0mtrain_data\u001b[0m \u001b[0;34m=\u001b[0m \u001b[0msplitted_data\u001b[0m\u001b[0;34m[\u001b[0m\u001b[0;36m0\u001b[0m\u001b[0;34m]\u001b[0m\u001b[0;34m\u001b[0m\u001b[0m\n\u001b[1;32m      3\u001b[0m \u001b[0mtest_data\u001b[0m \u001b[0;34m=\u001b[0m \u001b[0msplitted_data\u001b[0m\u001b[0;34m[\u001b[0m\u001b[0;36m1\u001b[0m\u001b[0;34m]\u001b[0m\u001b[0;34m\u001b[0m\u001b[0m\n\u001b[1;32m      4\u001b[0m \u001b[0mpredict_data\u001b[0m \u001b[0;34m=\u001b[0m \u001b[0msplitted_data\u001b[0m\u001b[0;34m[\u001b[0m\u001b[0;36m2\u001b[0m\u001b[0;34m]\u001b[0m\u001b[0;34m\u001b[0m\u001b[0m\n\u001b[1;32m      5\u001b[0m \u001b[0;34m\u001b[0m\u001b[0m\n", 
                        "\u001b[0;31mAttributeError\u001b[0m: 'IdaDataFrame' object has no attribute 'randomSplit'"
                    ], 
                    "ename": "AttributeError"
                }
            ], 
            "execution_count": 6
        }, 
        {
            "source": "As you can see your data has been successfully split into three data sets: \n\n-  The train data set, which is the largest group, is used for training.\n-  The test data set will be used for model evaluation and is used to test the assumptions of the model.\n-  The predict data set will be used for prediction.", 
            "cell_type": "markdown", 
            "metadata": {}
        }, 
        {
            "source": "### 3.2 Create the pipeline<a id=\"pipe\"></a>", 
            "cell_type": "markdown", 
            "metadata": {}
        }, 
        {
            "source": "In this section you will create an Apache Spark machine learning pipeline and then train the model.", 
            "cell_type": "markdown", 
            "metadata": {}
        }, 
        {
            "source": "In the first step you need to import the Apache Spark machine learning packages that will be needed in the subsequent steps.", 
            "cell_type": "markdown", 
            "metadata": {}
        }, 
        {
            "source": "from pyspark.ml.feature import OneHotEncoder, StringIndexer, IndexToString, VectorAssembler\nfrom pyspark.ml.classification import RandomForestClassifier\nfrom pyspark.ml.evaluation import MulticlassClassificationEvaluator\nfrom pyspark.ml import Pipeline, Model", 
            "cell_type": "code", 
            "metadata": {}, 
            "outputs": [], 
            "execution_count": 18
        }, 
        {
            "source": "In the following step, use the StringIndexer transformer to convert all the string fields to numeric ones.", 
            "cell_type": "markdown", 
            "metadata": {}
        }, 
        {
            "source": "stringIndexer_label = StringIndexer(inputCol=\"PRODUCT_LINE\", outputCol=\"label\").fit(df_data)\nstringIndexer_prof = StringIndexer(inputCol=\"PROFESSION\", outputCol=\"PROFESSION_IX\")\nstringIndexer_gend = StringIndexer(inputCol=\"GENDER\", outputCol=\"GENDER_IX\")\nstringIndexer_mar = StringIndexer(inputCol=\"MARITAL_STATUS\", outputCol=\"MARITAL_STATUS_IX\")", 
            "cell_type": "code", 
            "metadata": {}, 
            "outputs": [], 
            "execution_count": 19
        }, 
        {
            "source": "In the following step, create a feature vector by combining all features together.", 
            "cell_type": "markdown", 
            "metadata": {}
        }, 
        {
            "source": "vectorAssembler_features = VectorAssembler(inputCols=[\"GENDER_IX\", \"AGE\", \"MARITAL_STATUS_IX\", \"PROFESSION_IX\"], outputCol=\"features\")", 
            "cell_type": "code", 
            "metadata": {}, 
            "outputs": [], 
            "execution_count": 20
        }, 
        {
            "source": "Next, define estimators you want to use for classification. Random Forest is used in the following example.", 
            "cell_type": "markdown", 
            "metadata": {}
        }, 
        {
            "source": "rf = RandomForestClassifier(labelCol=\"label\", featuresCol=\"features\")", 
            "cell_type": "code", 
            "metadata": {}, 
            "outputs": [], 
            "execution_count": 21
        }, 
        {
            "source": "Finally, convert the indexed labels back to original labels.", 
            "cell_type": "markdown", 
            "metadata": {}
        }, 
        {
            "source": "labelConverter = IndexToString(inputCol=\"prediction\", outputCol=\"predictedLabel\", labels=stringIndexer_label.labels)", 
            "cell_type": "code", 
            "metadata": {}, 
            "outputs": [], 
            "execution_count": 22
        }, 
        {
            "source": "Now build the pipeline. A pipeline consists of transformers and an estimator.", 
            "cell_type": "markdown", 
            "metadata": {}
        }, 
        {
            "source": "pipeline_rf = Pipeline(stages=[stringIndexer_label, stringIndexer_prof, stringIndexer_gend, stringIndexer_mar, vectorAssembler_features, rf, labelConverter])", 
            "cell_type": "code", 
            "metadata": {}, 
            "outputs": [], 
            "execution_count": 23
        }, 
        {
            "source": "### 3.3 Train the model<a id=\"train\"></a>", 
            "cell_type": "markdown", 
            "metadata": {}
        }, 
        {
            "source": "Now, you can train your Random Forest model by using the previously defined **pipeline** and **train data**.", 
            "cell_type": "markdown", 
            "metadata": {}
        }, 
        {
            "source": "train_data.printSchema()", 
            "cell_type": "code", 
            "metadata": {}, 
            "outputs": [
                {
                    "output_type": "stream", 
                    "name": "stdout", 
                    "text": "root\n |-- PRODUCT_LINE: string (nullable = true)\n |-- GENDER: string (nullable = true)\n |-- AGE: integer (nullable = true)\n |-- MARITAL_STATUS: string (nullable = true)\n |-- PROFESSION: string (nullable = true)\n\n"
                }
            ], 
            "execution_count": 24
        }, 
        {
            "source": "model_rf = pipeline_rf.fit(train_data)", 
            "cell_type": "code", 
            "metadata": {}, 
            "outputs": [], 
            "execution_count": 25
        }, 
        {
            "source": "You can check your **model accuracy** now. Use **test data** to evaluate the model.", 
            "cell_type": "markdown", 
            "metadata": {}
        }, 
        {
            "source": "predictions = model_rf.transform(test_data)\nevaluatorRF = MulticlassClassificationEvaluator(labelCol=\"label\", predictionCol=\"prediction\", metricName=\"accuracy\")\naccuracy = evaluatorRF.evaluate(predictions)\n\nprint(\"Accuracy = %g\" % accuracy)\nprint(\"Test Error = %g\" % (1.0 - accuracy))", 
            "cell_type": "code", 
            "metadata": {}, 
            "outputs": [
                {
                    "output_type": "stream", 
                    "name": "stdout", 
                    "text": "Accuracy = 0.585359\nTest Error = 0.414641\n"
                }
            ], 
            "execution_count": 26
        }, 
        {
            "source": "You can tune your model now to achieve better accuracy. For simplicity, the tuning example is omitted in this example.", 
            "cell_type": "markdown", 
            "metadata": {
                "collapsed": true
            }
        }, 
        {
            "source": "<a id=\"persistence\"></a>\n## 4. Store the model in the WML repository", 
            "cell_type": "markdown", 
            "metadata": {
                "collapsed": true
            }
        }, 
        {
            "source": "In this section you will learn how to use Python client libraries to store your pipeline and model in WML repository.\n\n- [4.1 Import the libraries](#lib)\n- [4.2 Save pipeline and model](#save)\n- [4.3 Load the model](#load)", 
            "cell_type": "markdown", 
            "metadata": {}
        }, 
        {
            "source": "### 4.1 Import the libraries<a id=\"lib\"></a>", 
            "cell_type": "markdown", 
            "metadata": {}
        }, 
        {
            "source": "First, you must install and import the `watson-machine-learning-client` libraries.\n\n**Note**: Python 3.5 and Apache Spark 2.1 is required.", 
            "cell_type": "markdown", 
            "metadata": {
                "collapsed": true
            }
        }, 
        {
            "source": "!rm -rf $PIP_BUILD/watson-machine-learning-client", 
            "cell_type": "code", 
            "metadata": {}, 
            "outputs": [], 
            "execution_count": 27
        }, 
        {
            "source": "!pip install watson-machine-learning-client --upgrade", 
            "cell_type": "code", 
            "metadata": {}, 
            "outputs": [
                {
                    "output_type": "stream", 
                    "name": "stdout", 
                    "text": "Requirement already up-to-date: watson-machine-learning-client in /gpfs/global_fs01/sym_shared/YPProdSpark/user/s86b-18e61b28c674e4-3fbaf243aed6/.local/lib/python3.5/site-packages\nRequirement already up-to-date: tqdm in /gpfs/global_fs01/sym_shared/YPProdSpark/user/s86b-18e61b28c674e4-3fbaf243aed6/.local/lib/python3.5/site-packages (from watson-machine-learning-client)\nRequirement already up-to-date: tabulate in /gpfs/global_fs01/sym_shared/YPProdSpark/user/s86b-18e61b28c674e4-3fbaf243aed6/.local/lib/python3.5/site-packages (from watson-machine-learning-client)\nRequirement already up-to-date: urllib3 in /gpfs/global_fs01/sym_shared/YPProdSpark/user/s86b-18e61b28c674e4-3fbaf243aed6/.local/lib/python3.5/site-packages (from watson-machine-learning-client)\nRequirement already up-to-date: certifi in /gpfs/global_fs01/sym_shared/YPProdSpark/user/s86b-18e61b28c674e4-3fbaf243aed6/.local/lib/python3.5/site-packages (from watson-machine-learning-client)\nRequirement already up-to-date: pandas in /gpfs/global_fs01/sym_shared/YPProdSpark/user/s86b-18e61b28c674e4-3fbaf243aed6/.local/lib/python3.5/site-packages (from watson-machine-learning-client)\nRequirement already up-to-date: lomond in /gpfs/global_fs01/sym_shared/YPProdSpark/user/s86b-18e61b28c674e4-3fbaf243aed6/.local/lib/python3.5/site-packages (from watson-machine-learning-client)\nRequirement already up-to-date: requests in /gpfs/global_fs01/sym_shared/YPProdSpark/user/s86b-18e61b28c674e4-3fbaf243aed6/.local/lib/python3.5/site-packages (from watson-machine-learning-client)\nRequirement already up-to-date: python-dateutil>=2 in /gpfs/global_fs01/sym_shared/YPProdSpark/user/s86b-18e61b28c674e4-3fbaf243aed6/.local/lib/python3.5/site-packages (from pandas->watson-machine-learning-client)\nRequirement already up-to-date: numpy>=1.9.0 in /gpfs/global_fs01/sym_shared/YPProdSpark/user/s86b-18e61b28c674e4-3fbaf243aed6/.local/lib/python3.5/site-packages (from pandas->watson-machine-learning-client)\nRequirement already up-to-date: pytz>=2011k in /gpfs/global_fs01/sym_shared/YPProdSpark/user/s86b-18e61b28c674e4-3fbaf243aed6/.local/lib/python3.5/site-packages (from pandas->watson-machine-learning-client)\nRequirement already up-to-date: six>=1.10.0 in /gpfs/global_fs01/sym_shared/YPProdSpark/user/s86b-18e61b28c674e4-3fbaf243aed6/.local/lib/python3.5/site-packages (from lomond->watson-machine-learning-client)\nRequirement already up-to-date: chardet<3.1.0,>=3.0.2 in /gpfs/global_fs01/sym_shared/YPProdSpark/user/s86b-18e61b28c674e4-3fbaf243aed6/.local/lib/python3.5/site-packages (from requests->watson-machine-learning-client)\nRequirement already up-to-date: idna<2.7,>=2.5 in /gpfs/global_fs01/sym_shared/YPProdSpark/user/s86b-18e61b28c674e4-3fbaf243aed6/.local/lib/python3.5/site-packages (from requests->watson-machine-learning-client)\n"
                }
            ], 
            "execution_count": 28
        }, 
        {
            "source": "from watson_machine_learning_client import WatsonMachineLearningAPIClient", 
            "cell_type": "code", 
            "metadata": {}, 
            "outputs": [], 
            "execution_count": 31
        }, 
        {
            "source": "Authenticate to the Watson Machine Learning service on IBM Cloud.\n\n**Tip**: Authentication information (your credentials) can be found in the [Service Credentials](https://console.bluemix.net/docs/services/service_credentials.html#service_credentials) tab of the service instance that you created on IBM Cloud. \n\nIf you cannot see the **instance_id** field in **Service Credentials**, click **New credential (+)** to generate new authentication information. \n\n**Action**: Enter your Watson Machine Learning service instance credentials here.", 
            "cell_type": "markdown", 
            "metadata": {}
        }, 
        {
            "source": "wml_credentials={\n  \"url\": \"https://ibm-watson-ml.mybluemix.net\",\n  \"username\": \"***\",\n  \"password\": \"***\",\n  \"instance_id\": \"***\"\n}", 
            "cell_type": "code", 
            "metadata": {}, 
            "outputs": [], 
            "execution_count": 29
        }, 
        {
            "source": "# The code was removed by DSX for sharing.", 
            "cell_type": "code", 
            "metadata": {}, 
            "outputs": [], 
            "execution_count": 30
        }, 
        {
            "source": "client = WatsonMachineLearningAPIClient(wml_credentials)", 
            "cell_type": "code", 
            "metadata": {}, 
            "outputs": [], 
            "execution_count": 32
        }, 
        {
            "source": "### 4.2 Save the pipeline and model<a id=\"save\"></a>", 
            "cell_type": "markdown", 
            "metadata": {}
        }, 
        {
            "source": "In this subsection you will learn how to save pipeline and model artifacts to your Watson Machine Learning instance.", 
            "cell_type": "markdown", 
            "metadata": {}
        }, 
        {
            "source": "published_model_details = client.repository.store_model(model=model_rf, meta_props={'name':'Product line model'}, training_data=train_data, pipeline=pipeline_rf)", 
            "cell_type": "code", 
            "metadata": {}, 
            "outputs": [], 
            "execution_count": 35
        }, 
        {
            "source": "model_uid = client.repository.get_model_uid(published_model_details)\nprint(model_uid)", 
            "cell_type": "code", 
            "metadata": {}, 
            "outputs": [
                {
                    "output_type": "stream", 
                    "name": "stdout", 
                    "text": "70a8b8ad-ef04-4d9f-a1e7-679719577b62\n"
                }
            ], 
            "execution_count": 36
        }, 
        {
            "source": "Get saved model metadata from Watson Machine Learning.", 
            "cell_type": "markdown", 
            "metadata": {}
        }, 
        {
            "source": "**Tip**: Use `client.repository.ModelMetaNames.show()` to get the list of available props.", 
            "cell_type": "markdown", 
            "metadata": {}
        }, 
        {
            "source": "client.repository.ModelMetaNames.show()", 
            "cell_type": "code", 
            "metadata": {}, 
            "outputs": [
                {
                    "output_type": "stream", 
                    "name": "stdout", 
                    "text": "-----------------------  ----  --------\nMETA_PROP NAME           TYPE  REQUIRED\nNAME                     str   Y\nDESCRIPTION              str   N\nAUTHOR_NAME              str   N\nAUTHOR_EMAIL             str   N\nFRAMEWORK_NAME           str   N\nFRAMEWORK_VERSION        str   N\nFRAMEWORK_LIBRARIES      list  N\nRUNTIME_NAME             str   N\nRUNTIME_VERSION          str   N\nTRAINING_DATA_REFERENCE  dict  N\nEVALUATION_METHOD        str   N\nEVALUATION_METRICS       list  N\n-----------------------  ----  --------\n"
                }
            ], 
            "execution_count": 37
        }, 
        {
            "source": "### 4.3 Load the model<a id=\"load\"></a>", 
            "cell_type": "markdown", 
            "metadata": {}
        }, 
        {
            "source": "In this subsection you will learn how to load a saved model from a specified instance of Watson Machine Learning.", 
            "cell_type": "markdown", 
            "metadata": {}
        }, 
        {
            "source": "loaded_model = client.repository.load(model_uid)", 
            "cell_type": "code", 
            "metadata": {}, 
            "outputs": [], 
            "execution_count": 38
        }, 
        {
            "source": "You can print the model name to make sure that model has been loaded correctly.", 
            "cell_type": "markdown", 
            "metadata": {}
        }, 
        {
            "source": "print(type(loaded_model))", 
            "cell_type": "code", 
            "metadata": {}, 
            "outputs": [
                {
                    "output_type": "stream", 
                    "name": "stdout", 
                    "text": "<class 'pyspark.ml.pipeline.PipelineModel'>\n"
                }
            ], 
            "execution_count": 39
        }, 
        {
            "source": "As you can see the name is correct. ", 
            "cell_type": "markdown", 
            "metadata": {}
        }, 
        {
            "source": "<a id=\"visualization\"></a>\n## 5. Predict locally and visualize", 
            "cell_type": "markdown", 
            "metadata": {}
        }, 
        {
            "source": "In this section you will learn how to score test data using the loaded model and visualize the prediction results with the plotly package.\n\n- [5.1 Make a local prediction using previously loaded model and test data](#local)\n- [5.2 Use Plotly to visualize data](#plotly)", 
            "cell_type": "markdown", 
            "metadata": {}
        }, 
        {
            "source": "### 5.1 Make a local prediction using previously loaded model and test data<a id=\"local\"></a>", 
            "cell_type": "markdown", 
            "metadata": {}
        }, 
        {
            "source": "In this subsection you will score the *predict_data* data set.", 
            "cell_type": "markdown", 
            "metadata": {}
        }, 
        {
            "source": "predictions = loaded_model.transform(predict_data)", 
            "cell_type": "code", 
            "metadata": {}, 
            "outputs": [], 
            "execution_count": 40
        }, 
        {
            "source": "Preview the results by calling the *show()* method on the predictions DataFrame.", 
            "cell_type": "markdown", 
            "metadata": {}
        }, 
        {
            "source": "predictions.show(5)", 
            "cell_type": "code", 
            "metadata": {}, 
            "outputs": [
                {
                    "output_type": "stream", 
                    "name": "stdout", 
                    "text": "+-----------------+------+---+--------------+----------+-----+-------------+---------+-----------------+------------------+--------------------+--------------------+----------+--------------------+\n|     PRODUCT_LINE|GENDER|AGE|MARITAL_STATUS|PROFESSION|label|PROFESSION_IX|GENDER_IX|MARITAL_STATUS_IX|          features|       rawPrediction|         probability|prediction|      predictedLabel|\n+-----------------+------+---+--------------+----------+-----+-------------+---------+-----------------+------------------+--------------------+--------------------+----------+--------------------+\n|Camping Equipment|     F| 20|        Single|     Other|  0.0|          0.0|      1.0|              1.0|[1.0,20.0,1.0,0.0]|[5.40697857263576...|[0.27034892863178...|       1.0|Personal Accessories|\n|Camping Equipment|     F| 20|        Single|     Other|  0.0|          0.0|      1.0|              1.0|[1.0,20.0,1.0,0.0]|[5.40697857263576...|[0.27034892863178...|       1.0|Personal Accessories|\n|Camping Equipment|     F| 20|        Single|     Other|  0.0|          0.0|      1.0|              1.0|[1.0,20.0,1.0,0.0]|[5.40697857263576...|[0.27034892863178...|       1.0|Personal Accessories|\n|Camping Equipment|     F| 20|        Single|     Other|  0.0|          0.0|      1.0|              1.0|[1.0,20.0,1.0,0.0]|[5.40697857263576...|[0.27034892863178...|       1.0|Personal Accessories|\n|Camping Equipment|     F| 21|       Married|     Other|  0.0|          0.0|      1.0|              0.0|[1.0,21.0,0.0,0.0]|[7.86046445392534...|[0.39302322269626...|       0.0|   Camping Equipment|\n+-----------------+------+---+--------------+----------+-----+-------------+---------+-----------------+------------------+--------------------+--------------------+----------+--------------------+\nonly showing top 5 rows\n\n"
                }
            ], 
            "execution_count": 41
        }, 
        {
            "source": "By tabulating a count, you can see which product line is the most popular.", 
            "cell_type": "markdown", 
            "metadata": {}
        }, 
        {
            "source": "predictions.select(\"predictedLabel\").groupBy(\"predictedLabel\").count().show(truncate=False)", 
            "cell_type": "code", 
            "metadata": {}, 
            "outputs": [
                {
                    "output_type": "stream", 
                    "name": "stdout", 
                    "text": "+------------------------+-----+\n|predictedLabel          |count|\n+------------------------+-----+\n|Camping Equipment       |752  |\n|Golf Equipment          |67   |\n|Mountaineering Equipment|42   |\n|Personal Accessories    |355  |\n+------------------------+-----+\n\n"
                }
            ], 
            "execution_count": 42
        }, 
        {
            "source": "### 5.2 Use Plotly to visualize data <a id=\"plotly\"></a>", 
            "cell_type": "markdown", 
            "metadata": {}
        }, 
        {
            "source": "In this subsection you will use the Plotly package to explore the prediction results. Plotly is an online analytics and data visualization tool.", 
            "cell_type": "markdown", 
            "metadata": {}
        }, 
        {
            "source": "First, you need to install the required packages. You can do it by running the following code. Run it only one time.", 
            "cell_type": "markdown", 
            "metadata": {}
        }, 
        {
            "source": "!pip install plotly\n!pip install cufflinks==0.8.2", 
            "cell_type": "code", 
            "metadata": {}, 
            "outputs": [], 
            "execution_count": null
        }, 
        {
            "source": "Import Plotly and the other required packages.", 
            "cell_type": "markdown", 
            "metadata": {}
        }, 
        {
            "source": "import sys\nimport pandas\nimport plotly.plotly as py\nfrom plotly.offline import download_plotlyjs, init_notebook_mode, plot, iplot\nimport cufflinks as cf\nimport plotly.graph_objs as go\n\ninit_notebook_mode(connected=True)\nsys.path.append(\"\".join([os.environ[\"HOME\"]])) ", 
            "cell_type": "code", 
            "metadata": {}, 
            "outputs": [
                {
                    "output_type": "display_data", 
                    "data": {
                        "text/vnd.plotly.v1+html": "<script>requirejs.config({paths: { 'plotly': ['https://cdn.plot.ly/plotly-latest.min']},});if(!window.Plotly) {{require(['plotly'],function(plotly) {window.Plotly=plotly;});}}</script>", 
                        "text/html": "<script>requirejs.config({paths: { 'plotly': ['https://cdn.plot.ly/plotly-latest.min']},});if(!window.Plotly) {{require(['plotly'],function(plotly) {window.Plotly=plotly;});}}</script>"
                    }, 
                    "metadata": {}
                }
            ], 
            "execution_count": 43
        }, 
        {
            "source": "Convert the Apache Spark DataFrame to a Pandas DataFrame.", 
            "cell_type": "markdown", 
            "metadata": {}
        }, 
        {
            "source": "predictions_pdf = predictions.select(\"prediction\", \"predictedLabel\", \"GENDER\", \"AGE\", \"PROFESSION\", \"MARITAL_STATUS\").toPandas()", 
            "cell_type": "code", 
            "metadata": {}, 
            "outputs": [], 
            "execution_count": 44
        }, 
        {
            "source": "Plot a pie chart that shows the predicted product-line interest.", 
            "cell_type": "markdown", 
            "metadata": {}
        }, 
        {
            "source": "cumulative_stats = predictions_pdf.groupby(['predictedLabel']).count()\nproduct_data = [go.Pie(labels=cumulative_stats.index, values=cumulative_stats['GENDER'])]\nproduct_layout = go.Layout(title='Predicted product line client interest distribution')\n\nfig = go.Figure(data=product_data, layout=product_layout)\niplot(fig)", 
            "cell_type": "code", 
            "metadata": {}, 
            "outputs": [
                {
                    "output_type": "display_data", 
                    "data": {
                        "text/vnd.plotly.v1+html": "<div id=\"615bee7e-8e44-4bfe-bbe9-d6efe0923ea0\" style=\"height: 525px; width: 100%;\" class=\"plotly-graph-div\"></div><script type=\"text/javascript\">require([\"plotly\"], function(Plotly) { window.PLOTLYENV=window.PLOTLYENV || {};window.PLOTLYENV.BASE_URL=\"https://plot.ly\";Plotly.newPlot(\"615bee7e-8e44-4bfe-bbe9-d6efe0923ea0\", [{\"type\": \"pie\", \"values\": [752, 67, 42, 355], \"labels\": [\"Camping Equipment\", \"Golf Equipment\", \"Mountaineering Equipment\", \"Personal Accessories\"]}], {\"title\": \"Predicted product line client interest distribution\"}, {\"linkText\": \"Export to plot.ly\", \"showLink\": true})});</script>", 
                        "text/html": "<div id=\"615bee7e-8e44-4bfe-bbe9-d6efe0923ea0\" style=\"height: 525px; width: 100%;\" class=\"plotly-graph-div\"></div><script type=\"text/javascript\">require([\"plotly\"], function(Plotly) { window.PLOTLYENV=window.PLOTLYENV || {};window.PLOTLYENV.BASE_URL=\"https://plot.ly\";Plotly.newPlot(\"615bee7e-8e44-4bfe-bbe9-d6efe0923ea0\", [{\"type\": \"pie\", \"values\": [752, 67, 42, 355], \"labels\": [\"Camping Equipment\", \"Golf Equipment\", \"Mountaineering Equipment\", \"Personal Accessories\"]}], {\"title\": \"Predicted product line client interest distribution\"}, {\"linkText\": \"Export to plot.ly\", \"showLink\": true})});</script>", 
                        "application/vnd.plotly.v1+json": {
                            "layout": {
                                "title": "Predicted product line client interest distribution"
                            }, 
                            "data": [
                                {
                                    "values": [
                                        752, 
                                        67, 
                                        42, 
                                        355
                                    ], 
                                    "labels": [
                                        "Camping Equipment", 
                                        "Golf Equipment", 
                                        "Mountaineering Equipment", 
                                        "Personal Accessories"
                                    ], 
                                    "type": "pie"
                                }
                            ]
                        }
                    }, 
                    "metadata": {}
                }
            ], 
            "execution_count": 45
        }, 
        {
            "source": "With this data set, you might want to do some analysis of the mean AGE per product line by using a bar chart.", 
            "cell_type": "markdown", 
            "metadata": {}
        }, 
        {
            "source": "age_data = [go.Bar(y=predictions_pdf.groupby(['predictedLabel']).mean()[\"AGE\"], x=cumulative_stats.index)]\n\nage_layout = go.Layout(\n    title='Mean AGE per predicted product line',\n    xaxis=dict(title = \"Product Line\", showline=False),\n    yaxis=dict(title = \"Mean AGE\"))\n\nfig = go.Figure(data=age_data, layout=age_layout)\niplot(fig)", 
            "cell_type": "code", 
            "metadata": {}, 
            "outputs": [
                {
                    "output_type": "display_data", 
                    "data": {
                        "text/vnd.plotly.v1+html": "<div id=\"19a76b92-68a4-44a8-8932-76fd4416a585\" style=\"height: 525px; width: 100%;\" class=\"plotly-graph-div\"></div><script type=\"text/javascript\">require([\"plotly\"], function(Plotly) { window.PLOTLYENV=window.PLOTLYENV || {};window.PLOTLYENV.BASE_URL=\"https://plot.ly\";Plotly.newPlot(\"19a76b92-68a4-44a8-8932-76fd4416a585\", [{\"y\": [32.986702127659576, 50.985074626865675, 39.214285714285715, 32.12112676056338], \"type\": \"bar\", \"x\": [\"Camping Equipment\", \"Golf Equipment\", \"Mountaineering Equipment\", \"Personal Accessories\"]}], {\"title\": \"Mean AGE per predicted product line\", \"xaxis\": {\"title\": \"Product Line\", \"showline\": false}, \"yaxis\": {\"title\": \"Mean AGE\"}}, {\"linkText\": \"Export to plot.ly\", \"showLink\": true})});</script>", 
                        "text/html": "<div id=\"19a76b92-68a4-44a8-8932-76fd4416a585\" style=\"height: 525px; width: 100%;\" class=\"plotly-graph-div\"></div><script type=\"text/javascript\">require([\"plotly\"], function(Plotly) { window.PLOTLYENV=window.PLOTLYENV || {};window.PLOTLYENV.BASE_URL=\"https://plot.ly\";Plotly.newPlot(\"19a76b92-68a4-44a8-8932-76fd4416a585\", [{\"y\": [32.986702127659576, 50.985074626865675, 39.214285714285715, 32.12112676056338], \"type\": \"bar\", \"x\": [\"Camping Equipment\", \"Golf Equipment\", \"Mountaineering Equipment\", \"Personal Accessories\"]}], {\"title\": \"Mean AGE per predicted product line\", \"xaxis\": {\"title\": \"Product Line\", \"showline\": false}, \"yaxis\": {\"title\": \"Mean AGE\"}}, {\"linkText\": \"Export to plot.ly\", \"showLink\": true})});</script>", 
                        "application/vnd.plotly.v1+json": {
                            "layout": {
                                "yaxis": {
                                    "title": "Mean AGE"
                                }, 
                                "xaxis": {
                                    "showline": false, 
                                    "title": "Product Line"
                                }, 
                                "title": "Mean AGE per predicted product line"
                            }, 
                            "data": [
                                {
                                    "y": [
                                        32.986702127659576, 
                                        50.985074626865675, 
                                        39.214285714285715, 
                                        32.12112676056338
                                    ], 
                                    "x": [
                                        "Camping Equipment", 
                                        "Golf Equipment", 
                                        "Mountaineering Equipment", 
                                        "Personal Accessories"
                                    ], 
                                    "type": "bar"
                                }
                            ]
                        }
                    }, 
                    "metadata": {}
                }
            ], 
            "execution_count": 46
        }, 
        {
            "source": "Based on the bar plot you created, you might make the following conclusion: The mean age for clients that are interested in golf equipment is predicted to be over 50 years old.", 
            "cell_type": "markdown", 
            "metadata": {}
        }, 
        {
            "source": "<a id=\"scoring\"></a>\n## 6. Deploy and score in a Cloud", 
            "cell_type": "markdown", 
            "metadata": {}
        }, 
        {
            "source": "In this section you will learn how to create online scoring and to score a new data record using the `watson-machine-learning-client`.", 
            "cell_type": "markdown", 
            "metadata": {}
        }, 
        {
            "source": "**Note:** You can also use the REST API to deploy and score.\nFor more information about REST APIs, see the [Swagger Documentation](http://watson-ml-api.mybluemix.net/).", 
            "cell_type": "markdown", 
            "metadata": {}
        }, 
        {
            "source": "#### Create online deployment for published model.", 
            "cell_type": "markdown", 
            "metadata": {}
        }, 
        {
            "source": "deployment_details = client.deployments.create(model_uid=model_uid, name='Product line model deployment')", 
            "cell_type": "code", 
            "metadata": {}, 
            "outputs": [
                {
                    "output_type": "stream", 
                    "name": "stdout", 
                    "text": "\n\n#######################################################################################\n\nSynchronous deployment creation for uid: '3112f5b0-4c72-4e78-ac33-325b2dc38bbe' started\n\n#######################################################################################\n\n\nINITIALIZING\nDEPLOY_SUCCESS\n\n\n------------------------------------------------------------------------------------------------\nSuccessfully finished deployment creation, deployment_uid='3112f5b0-4c72-4e78-ac33-325b2dc38bbe'\n------------------------------------------------------------------------------------------------\n\n\n"
                }
            ], 
            "execution_count": 48
        }, 
        {
            "source": "#### Create an online scoring endpoint. ", 
            "cell_type": "markdown", 
            "metadata": {}
        }, 
        {
            "source": "scoring_url = client.deployments.get_scoring_url(deployment_details)\nprint(scoring_url)", 
            "cell_type": "code", 
            "metadata": {}, 
            "outputs": [
                {
                    "output_type": "stream", 
                    "name": "stdout", 
                    "text": "https://ibm-watson-ml.mybluemix.net/v3/wml_instances/3f6e5c2b-4880-46aa-9d79-62e90ccc9d56/published_models/70a8b8ad-ef04-4d9f-a1e7-679719577b62/deployments/3112f5b0-4c72-4e78-ac33-325b2dc38bbe/online\n"
                }
            ], 
            "execution_count": 49
        }, 
        {
            "source": "Now, you can send new scoring records (new data) for which you would like to get predictions. To do that, run the following sample code: ", 
            "cell_type": "markdown", 
            "metadata": {}
        }, 
        {
            "source": "payload_scoring = {\"fields\": [\"GENDER\",\"AGE\",\"MARITAL_STATUS\",\"PROFESSION\"],\"values\": [[\"M\",23,\"Single\",\"Student\"],[\"M\",55,\"Single\",\"Executive\"]]}\n\nclient.deployments.score(scoring_url, payload_scoring)", 
            "cell_type": "code", 
            "metadata": {}, 
            "outputs": [
                {
                    "execution_count": 50, 
                    "output_type": "execute_result", 
                    "data": {
                        "text/plain": "{'fields': ['GENDER',\n  'AGE',\n  'MARITAL_STATUS',\n  'PROFESSION',\n  'PRODUCT_LINE',\n  'label',\n  'PROFESSION_IX',\n  'GENDER_IX',\n  'MARITAL_STATUS_IX',\n  'features',\n  'rawPrediction',\n  'probability',\n  'prediction',\n  'predictedLabel'],\n 'values': [['M',\n   23,\n   'Single',\n   'Student',\n   'Camping Equipment',\n   0.0,\n   6.0,\n   0.0,\n   1.0,\n   [0.0, 23.0, 1.0, 6.0],\n   [5.258712981131878,\n    6.723421733525897,\n    6.0132018750333724,\n    0.218060296213069,\n    1.7866031140957863],\n   [0.26293564905659383,\n    0.3361710866762948,\n    0.3006600937516686,\n    0.010903014810653448,\n    0.0893301557047893],\n   1.0,\n   'Personal Accessories'],\n  ['M',\n   55,\n   'Single',\n   'Executive',\n   'Camping Equipment',\n   0.0,\n   3.0,\n   0.0,\n   1.0,\n   [0.0, 55.0, 1.0, 3.0],\n   [3.6000096318286547,\n    4.060237825988732,\n    3.8628119611335734,\n    8.339956386992652,\n    0.13698419405638748],\n   [0.18000048159143273,\n    0.20301189129943661,\n    0.19314059805667866,\n    0.4169978193496326,\n    0.006849209702819374],\n   3.0,\n   'Golf Equipment']]}"
                    }, 
                    "metadata": {}
                }
            ], 
            "execution_count": 50
        }, 
        {
            "source": "As you can see we predict that a 23-year-old male student is interested in personal accessories (predictedLabel: Personal Accessories, prediction: 1.0). You can also see that single, 55 years old man is interested in golf equipment.", 
            "cell_type": "markdown", 
            "metadata": {}
        }, 
        {
            "source": "<a id=\"summary\"></a>\n## 7. Summary and next steps     ", 
            "cell_type": "markdown", 
            "metadata": {
                "collapsed": true
            }
        }, 
        {
            "source": "You successfully completed this notebook! \n \nYou learned how to use Apache Spark machine learning as well as Watson Machine Learning for model creation and deployment. \n \nCheck out our [Online Documentation](https://dataplatform.ibm.com/docs/content/analyze-data/wml-setup.html) for more samples, tutorials, documentation, how-tos, and blog posts. ", 
            "cell_type": "markdown", 
            "metadata": {
                "collapsed": true
            }
        }, 
        {
            "source": "### Authors\n\n**Lukasz Cmielowski**, PhD, is an Automation Architect and Data Scientist at IBM with a track record of developing enterprise-level applications that substantially increases clients' ability to turn data into actionable knowledge.", 
            "cell_type": "markdown", 
            "metadata": {}
        }, 
        {
            "source": "Copyright \u00a9 2017, 2018 IBM. This notebook and its source code are released under the terms of the MIT License.", 
            "cell_type": "markdown", 
            "metadata": {}
        }, 
        {
            "source": "<div style=\"background:#F5F7FA; height:110px; padding: 2em; font-size:14px;\">\n<span style=\"font-size:18px;color:#152935;\">Love this notebook? </span>\n<span style=\"font-size:15px;color:#152935;float:right;margin-right:40px;\">Don't have an account yet?</span><br>\n<span style=\"color:#5A6872;\">Share it with your colleagues and help them discover the power of Watson Studio!</span>\n<span style=\"border: 1px solid #3d70b2;padding:8px;float:right;margin-right:40px; color:#3d70b2;\"><a href=\"https://ibm.co/wsnotebooks\" target=\"_blank\" style=\"color: #3d70b2;text-decoration: none;\">Sign Up</a></span><br>\n</div>", 
            "cell_type": "markdown", 
            "metadata": {}
        }
    ], 
    "metadata": {
        "kernelspec": {
            "display_name": "Python 3.5", 
            "name": "python3", 
            "language": "python"
        }, 
        "language_info": {
            "mimetype": "text/x-python", 
            "nbconvert_exporter": "python", 
            "version": "3.5.4", 
            "name": "python", 
            "pygments_lexer": "ipython3", 
            "file_extension": ".py", 
            "codemirror_mode": {
                "version": 3, 
                "name": "ipython"
            }
        }
    }, 
    "nbformat": 4
}