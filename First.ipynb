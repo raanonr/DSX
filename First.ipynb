{
    "nbformat_minor": 0, 
    "cells": [
        {
            "execution_count": 1, 
            "cell_type": "code", 
            "metadata": {
                "collapsed": true
            }, 
            "outputs": [], 
            "source": "from bokeh.charts      import Scatter, output_file, show"
        }, 
        {
            "execution_count": 2, 
            "cell_type": "code", 
            "metadata": {
                "collapsed": true
            }, 
            "outputs": [], 
            "source": "from bokeh.plotting    import show, ColumnDataSource\nfrom bokeh.charts      import Scatter\n#from bokeh.models      import LabelSet\nfrom pandas.core.frame import DataFrame\nfrom collections import OrderedDict\n\nfrom collections import defaultdict\n\nfrom datetime import *\nimport matplotlib.pyplot as plt\n%matplotlib inline\nfrom io import BytesIO  \nimport requests  \nimport json  \nimport pandas as pd"
        }, 
        {
            "execution_count": null, 
            "cell_type": "code", 
            "metadata": {
                "collapsed": true
            }, 
            "outputs": [], 
            "source": ""
        }
    ], 
    "metadata": {
        "kernelspec": {
            "display_name": "Python 2 with Spark 1.6", 
            "name": "python2", 
            "language": "python"
        }, 
        "language_info": {
            "mimetype": "text/x-python", 
            "nbconvert_exporter": "python", 
            "version": "2.7.11", 
            "name": "python", 
            "file_extension": ".py", 
            "pygments_lexer": "ipython2", 
            "codemirror_mode": {
                "version": 2, 
                "name": "ipython"
            }
        }
    }, 
    "nbformat": 4
}