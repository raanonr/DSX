{
    "cells": [
        {
            "cell_type": "code", 
            "source": "import ibm_boto3\nimport json\nimport requests\nimport random\nfrom ibm_botocore.client import Config\nfrom pprint import pprint", 
            "metadata": {}, 
            "execution_count": 6, 
            "outputs": []
        }, 
        {
            "cell_type": "code", 
            "source": "def cos_client(credentials):\n\n    print(\"Connecting to COS...\")\n\n    # Rquest detailed enpoint list\n    endpoints = requests.get(credentials.get('endpoints')).json()\n    #import pdb; pdb.set_trace()\n\n    # Obtain iam and cos host from the the detailed endpoints\n    iam_host = (endpoints['identity-endpoints']['iam-token'])\n    cos_host = (endpoints['service-endpoints']['cross-region']['us']['public']['us-geo'])\n\n#    default_iam_url = 'https://iam.ng.bluemix.net/oidc/token'\n#    default_endpoint = 'https://s3-api.us-geo.objectstorage.service.networklayer.com'\n#    api_key = cred.get('apikey', cred.get('api_key', cred.get('IBM_API_KEY_ID')))\n#    iam_url = cred.get('iam_url', cred.get('IBM_AUTH_ENDPOINT', default_iam_url))\n#    endpoint = cred.get('url', cred.get('ENDPOINT', default_endpoint))\n\n    api_key = credentials.get('apikey')\n    service_instance_id = credentials.get('resource_instance_id')\n\n    # Constrict auth and cos endpoint\n    auth_endpoint = \"https://\" + iam_host + \"/oidc/token\"\n    service_endpoint = \"https://\" + cos_host\n\n    print(\"Creating client...\")\n    cos = ibm_boto3.client('s3',\n                    ibm_api_key_id=api_key,\n                    ibm_service_instance_id=service_instance_id,\n                    ibm_auth_endpoint=auth_endpoint,\n                    config=Config(signature_version='oauth'),\n                    endpoint_url=service_endpoint)\n    return cos", 
            "metadata": {}, 
            "execution_count": 7, 
            "outputs": []
        }, 
        {
            "cell_type": "code", 
            "source": "def copy_objects(cos_source, source_bucket, cos_target, target_bucket, prefix=\"\", maxKeys=10000):\n    from datetime import datetime, timedelta\n    response = None\n    n=0\n    cnt=0\n    size=0\n    nextMarker=''\n    start_time = datetime.now()\n    while response == None or response.get('IsTruncated',False):\n        n += 1\n        response = cos_source.list_objects(Bucket = source_bucket, MaxKeys = maxKeys, Prefix = prefix, Marker=nextMarker)\n\n        if response and len(response['Contents']) > 0:\n\n            objects = [object['Key'] for object in response['Contents']]\n            cnt += len(response['Contents'])\n            size += sum(int(c['Size']) for c in response['Contents'])\n            nextMarker = response.get('NextMarker')\n            \n            for i, obj_name in enumerate(objects):\n                cos_target.upload_fileobj(          Bucket = target_bucket, Key=obj_name, \n                    Fileobj = cos_source.get_object(Bucket = source_bucket, Key=obj_name)['Body']\n                )\n                if ((i+1) % 1000) == 0:\n                    print(datetime.now() - start_time, i+1)\n\n    print(\"Final Iterations:\", n, \"*\" * 20)\n    print(\"Number of objects:\", cnt)\n    print(\"Size of all objects:\", size)\n    print(\"Elapsed time:\", datetime.now() - start_time)", 
            "metadata": {}, 
            "execution_count": 42, 
            "outputs": []
        }, 
        {
            "cell_type": "code", 
            "source": "source_credentials = {\n  \"apikey\": \"2SozF9MkHGQULJZHZTiZOnidaLSc3zIqr3SkDUC0YD0t\",\n  \"endpoints\": \"https://cos-service.bluemix.net/endpoints\",\n  \"iam_apikey_description\": \"Auto generated apikey during resource-key operation for Instance - crn:v1:bluemix:public:cloud-object-storage:global:a/db0d062d2b4c0836e18618a5222d8068:22e3b946-6154-4032-8e8f-7cfb0b429602::\",\n  \"iam_apikey_name\": \"auto-generated-apikey-d7f66b84-8aee-41fa-afbf-b74e33124126\",\n  \"iam_role_crn\": \"crn:v1:bluemix:public:iam::::serviceRole:Manager\",\n  \"iam_serviceid_crn\": \"crn:v1:bluemix:public:iam-identity::a/db0d062d2b4c0836e18618a5222d8068::serviceid:ServiceId-4a452452-14c8-428a-b1c2-aa910d8f9244\",\n  \"resource_instance_id\": \"crn:v1:bluemix:public:cloud-object-storage:global:a/db0d062d2b4c0836e18618a5222d8068:22e3b946-6154-4032-8e8f-7cfb0b429602::\"\n}\ntarget_credentials = {\n \"apikey\": \"rQUuIlpxEbMVzrtkvTJecWmmQex9pCqel2wbTyvFHzZV\",\n \"endpoints\": \"https://cos-service.bluemix.net/endpoints\",\n \"iam_apikey_description\": \"Auto generated apikey during resource-key operation for Instance - crn:v1:bluemix:public:cloud-object-storage:global:a/03f1fc5804a2a6567416b6c17ca5b4d9:e7cbda72-e6e1-47c6-aee6-f7b661bcc9f3::\",\n \"iam_apikey_name\": \"auto-generated-apikey-8ab30dfe-41f6-42e8-8ac9-da8b58a3770d\",\n \"iam_role_crn\": \"crn:v1:bluemix:public:iam::::serviceRole:Writer\",\n \"iam_serviceid_crn\": \"crn:v1:bluemix:public:iam-identity::a/03f1fc5804a2a6567416b6c17ca5b4d9::serviceid:ServiceId-f484b35f-05d5-4e6f-9225-f490498fea97\",\n \"resource_instance_id\": \"crn:v1:bluemix:public:cloud-object-storage:global:a/03f1fc5804a2a6567416b6c17ca5b4d9:e7cbda72-e6e1-47c6-aee6-f7b661bcc9f3::\"\n}", 
            "metadata": {}, 
            "execution_count": null, 
            "outputs": []
        }, 
        {
            "cell_type": "code", 
            "source": "cos_source = cos_client(source_credentials)\ncos_target = cos_client(target_credentials)", 
            "metadata": {}, 
            "execution_count": null, 
            "outputs": []
        }, 
        {
            "cell_type": "code", 
            "source": "copy_objects(cos_source, 'click', cos_target, 'raanon-demo-bucket', 'CLICKALL', 10000)", 
            "metadata": {}, 
            "execution_count": null, 
            "outputs": []
        }
    ], 
    "nbformat_minor": 1, 
    "metadata": {
        "kernelspec": {
            "language": "python", 
            "name": "python3-spark21", 
            "display_name": "Python 3.5 (Experimental) with Spark 2.1"
        }, 
        "language_info": {
            "pygments_lexer": "ipython3", 
            "nbconvert_exporter": "python", 
            "mimetype": "text/x-python", 
            "name": "python", 
            "version": "3.5.2", 
            "file_extension": ".py", 
            "codemirror_mode": {
                "version": 3, 
                "name": "ipython"
            }
        }
    }, 
    "nbformat": 4
}