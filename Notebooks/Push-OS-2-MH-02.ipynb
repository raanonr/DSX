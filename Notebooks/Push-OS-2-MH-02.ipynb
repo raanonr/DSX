{
    "nbformat_minor": 1, 
    "cells": [
        {
            "source": "!rm -f watson_streaming_pipelines.py*\n!wget https://raw.githubusercontent.com/Yura32000/practicals/master/watson_streaming_pipelines.py", 
            "cell_type": "code", 
            "metadata": {}, 
            "outputs": [
                {
                    "output_type": "stream", 
                    "name": "stdout", 
                    "text": "--2017-11-19 10:06:43--  https://raw.githubusercontent.com/Yura32000/practicals/master/watson_streaming_pipelines.py\nResolving raw.githubusercontent.com (raw.githubusercontent.com)... 151.101.48.133\nConnecting to raw.githubusercontent.com (raw.githubusercontent.com)|151.101.48.133|:443... connected.\nHTTP request sent, awaiting response... 200 OK\nLength: 8016 (7.8K) [text/plain]\nSaving to: \u2018watson_streaming_pipelines.py\u2019\n\n100%[======================================>] 8,016       --.-K/s   in 0s      \n\n2017-11-19 10:06:44 (23.7 MB/s) - \u2018watson_streaming_pipelines.py\u2019 saved [8016/8016]\n\n"
                }
            ], 
            "execution_count": 53
        }, 
        {
            "source": "# @hidden_cell\ncredentials = {\n  'iam_url':'https://iam.stage1.ng.bluemix.net/oidc/token',\n  'api_key':'xhjheSC7AhSLtvapSDnbyFn17uWUqW5ccAOuHhQxnnEY',\n  'resource_instance_id':'crn:v1:staging:public:cloud-object-storage:global:a/68a66698d275aeb48097f868957ab2ed:bbb5aa36-5525-4000-b129-bcb780195098::',\n  'url':'https://s3-api.us-geo.objectstorage.uat.service.networklayer.com',\n    'endpoint':'https://s3.us-west.objectstorage.uat.softlayer.net'\n}", 
            "cell_type": "code", 
            "metadata": {
                "collapsed": true
            }, 
            "outputs": [], 
            "execution_count": 54
        }, 
        {
            "source": "import watson_streaming_pipelines as stp\n\nbucket_name = 'pyml'\nobject_name = 'yelp_academic_dataset_review_first1k_training.json'\n\n#object_name = 'test.txt'\n#data_in = 'this is a test'\n#resp = stp.put_to_cloud_object_storage(\n#            api_key = credentials['api_key'],\n#            full_object_path = bucket_name + '/' + object_name, \n#            my_data = data_in,\n#            auth_endpoint = credentials['iam_url'],\n#            service_endpoint = credentials['endpoint']\n#)\n#print(\"resp = \", resp)\n\ndata = stp.get_from_cloud_object_storage( \n            api_key = credentials['api_key'],\n            full_object_path = bucket_name + '/' + object_name, \n            auth_endpoint = credentials['iam_url'],\n            service_endpoint = credentials['endpoint']\n) \nprint(len(data))", 
            "cell_type": "code", 
            "metadata": {}, 
            "outputs": [
                {
                    "output_type": "stream", 
                    "name": "stdout", 
                    "text": "919737\n"
                }
            ], 
            "execution_count": 55
        }, 
        {
            "source": "from io import StringIO\nimport json\n\nyelp = []\nfor line in StringIO(data.decode(\"utf-8\")):\n    yelp.append( json.loads(line))\nprint(yelp[0]['text'])", 
            "cell_type": "code", 
            "metadata": {}, 
            "outputs": [
                {
                    "output_type": "stream", 
                    "name": "stdout", 
                    "text": "dr. goldberg offers everything i look for in a general practitioner.  he's nice and easy to talk to without being patronizing; he's always on time in seeing his patients; he's affiliated with a top-notch hospital (nyu) which my parents have explained to me is very important in case something happens and you need surgery; and you can get referrals to see specialists without having to see him first.  really, what more do you need?  i'm sitting here trying to think of any complaints i have about him, but i'm really drawing a blank.\n"
                }
            ], 
            "execution_count": 56
        }, 
        {
            "source": "#stage 1\nproducer = stp.create_messagehub_producer( username = \"CBa3cYnfW1iWM25L\", password = \"NewJVZaxEP1qjKlThEeqz2Zrnkzu7VXd\", kafka_brokers_sasl= [\n    \"kafka02-stage1.messagehub.services.us-south.bluemix.net:9093\",\n    \"kafka01-stage1.messagehub.services.us-south.bluemix.net:9093\",\n    \"kafka05-stage1.messagehub.services.us-south.bluemix.net:9093\",\n    \"kafka04-stage1.messagehub.services.us-south.bluemix.net:9093\",\n    \"kafka03-stage1.messagehub.services.us-south.bluemix.net:9093\"\n  ] )", 
            "cell_type": "code", 
            "metadata": {
                "collapsed": true
            }, 
            "outputs": [], 
            "execution_count": 57
        }, 
        {
            "source": "import time\nprint(len(yelp))\n#print(yelp[0]['stars'])\nfor msg in yelp: #[:10]:\n#    print(msg['stars'])\n    #time.sleep(1)\n    producer.send('testTopic1', { 'stars': msg['stars'], 'text': msg['text']})\n    print('.', end=\"\")", 
            "cell_type": "code", 
            "metadata": {}, 
            "outputs": [], 
            "execution_count": null
        }, 
        {
            "source": "", 
            "cell_type": "code", 
            "metadata": {
                "collapsed": true
            }, 
            "outputs": [], 
            "execution_count": null
        }
    ], 
    "metadata": {
        "kernelspec": {
            "display_name": "Python 3.5 (Experimental) with Spark 2.1", 
            "name": "python3-spark21", 
            "language": "python"
        }, 
        "language_info": {
            "mimetype": "text/x-python", 
            "nbconvert_exporter": "python", 
            "version": "3.5.2", 
            "name": "python", 
            "pygments_lexer": "ipython3", 
            "file_extension": ".py", 
            "codemirror_mode": {
                "version": 3, 
                "name": "ipython"
            }
        }
    }, 
    "nbformat": 4
}