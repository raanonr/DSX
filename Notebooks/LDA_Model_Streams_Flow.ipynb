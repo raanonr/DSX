{
 "cells": [
  {
   "cell_type": "markdown",
   "metadata": {},
   "source": [
    "# Use Streams Designer to predict newsgroup topics with an LDA model"
   ]
  },
  {
   "cell_type": "markdown",
   "metadata": {},
   "source": [
    "## Create a Streams Flow using DSX Streams Designer\n",
    "* Download this sample Streams Flow __[LDA_Topic_Classification.stp](https://raw.githubusercontent.com/raanonr/DSX/master/pyML/LDA_Topic_Classification.stp)__.\n",
    "* Go to your *Data Science Experience* project.  \n",
    "* Choose the `Assets` tab and select &oplus;__New streams flow__, located on the right of *Streams flows*.  \n",
    "* Before filling any field, select the `From file` tab.  \n",
    "* In the bottom portion of the page, browse to (or drop) the Streams Flow which you downloaded.  \n",
    "* Make sure that your __Streams Analytics service__ is selected and then select __Create__.   "
   ]
  },
  {
   "cell_type": "markdown",
   "metadata": {},
   "source": [
    "This will open the flow pictured here \n",
    "![LDA_Topic_Classification](https://github.com/raanonr/DSX/blob/master/pyML/LDA_Topic_Classification_1.jpg?raw=true \"LDA_Topic_Classification\")"
   ]
  },
  {
   "cell_type": "markdown",
   "metadata": {},
   "source": [
    "This will open the flow pictured here  \n",
    "!  [LDA_Topic_Classification_1.jpg](attachment:LDA_Topic_Classification_1.jpg)"
   ]
  },
  {
   "cell_type": "markdown",
   "metadata": {},
   "source": [
    "You will notice the red mark on the Notifications (bell) icon on the right, since you have to adapt the flow for your credentials (etc).  \n",
    "* Select the *Edit the streams flow* (pencil) icon on the right."
   ]
  },
  {
   "cell_type": "markdown",
   "metadata": {},
   "source": [
    "# Stream the dataset texts to Message Hub"
   ]
  },
  {
   "cell_type": "markdown",
   "metadata": {},
   "source": [
    "### Create the Message Hub producer"
   ]
  },
  {
   "cell_type": "code",
   "execution_count": null,
   "metadata": {
    "collapsed": true
   },
   "outputs": [],
   "source": [
    "producer = wstp.create_messagehub_producer( username = mh_credentials['username'], password = mh_credentials['password'], kafka_brokers_sasl = mh_credentials['brokers'].split(','))"
   ]
  },
  {
   "cell_type": "markdown",
   "metadata": {},
   "source": [
    "### Send all of the text data to the MH topic"
   ]
  },
  {
   "cell_type": "code",
   "execution_count": null,
   "metadata": {
    "collapsed": true
   },
   "outputs": [],
   "source": [
    "import time\n",
    "\n",
    "data = read_dataset(dataset + \".gz\")\n",
    "for i, entry in enumerate(data):\n",
    "    producer.send( mh_topic, { 'text': entry } )\n",
    "    if ((i+1) % 1000) == 0:\n",
    "        print(i+1, end=\" \")\n",
    "        time.sleep(1) # Slow things down during demo"
   ]
  },
  {
   "cell_type": "code",
   "execution_count": null,
   "metadata": {
    "collapsed": true
   },
   "outputs": [],
   "source": []
  }
 ],
 "metadata": {
  "anaconda-cloud": {},
  "kernelspec": {
   "display_name": "Python 3",
   "language": "python",
   "name": "python3"
  },
  "language_info": {
   "codemirror_mode": {
    "name": "ipython",
    "version": 3
   },
   "file_extension": ".py",
   "mimetype": "text/x-python",
   "name": "python",
   "nbconvert_exporter": "python",
   "pygments_lexer": "ipython3",
   "version": "3.5.2"
  }
 },
 "nbformat": 4,
 "nbformat_minor": 1
}
