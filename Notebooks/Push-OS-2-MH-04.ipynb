{
    "nbformat": 4, 
    "cells": [
        {
            "execution_count": null, 
            "cell_type": "code", 
            "source": "!rm -f watson_streaming_pipelines.py*\n!wget https://raw.githubusercontent.com/raanonr/DSX/master/watson_streaming_pipelines.py", 
            "metadata": {}, 
            "outputs": []
        }, 
        {
            "execution_count": null, 
            "cell_type": "code", 
            "source": "# @hidden_cell\n# The Object Storage credentials should NOT come from the 'Service credentials' page.\n# Get them from the option in DSX Notebook to 'insert to code' from the Data -> Connections.\n# Then add an entry for the service's PUBLIC endpoint.\n\ncos_credentials_stage1_wd = {\n  'iam_url':'https://iam.stage1.ng.bluemix.net/oidc/token',\n  'api_key':'xhjheSC7AhSLtvapSDnbyFn17uWUqW5ccAOuHhQxnnEY',\n  'resource_instance_id':'crn:v1:staging:public:cloud-object-storage:global:a/68a66698d275aeb48097f868957ab2ed:bbb5aa36-5525-4000-b129-bcb780195098::',\n  'url':'https://s3-api.us-geo.objectstorage.uat.service.networklayer.com',\n    'endpoint':'https://s3.us-west.objectstorage.uat.softlayer.net'\n}\ncos_credentials_prod_ki = {\n  'iam_url':'https://iam.ng.bluemix.net/oidc/token',\n  'api_key':'0s-JWmaDBwiSd_yWJqenoKRBfTVU5Rgkz31CDT5WgoWQ',\n  'resource_instance_id':'crn:v1:bluemix:public:cloud-object-storage:global:a/db0d062d2b4c0836e18618a5222d8068:22e3b946-6154-4032-8e8f-7cfb0b429602::',\n  'url':'https://s3-api.us-geo.objectstorage.service.networklayer.com',\n      \"endpoint\":\"https://s3-api.us-geo.objectstorage.softlayer.net\",\n}\n\n# The Message Hub credentials should come from the 'Service credentials' page.\n\nmh_credentials_stage1_1z = {\n  \"instance_id\": \"86ce5bfa-268e-4786-a7e9-91f8427f2e17\",\n  \"mqlight_lookup_url\": \"https://mqlight-lookup-stage1.messagehub.services.us-south.bluemix.net/Lookup?serviceId=86ce5bfa-268e-4786-a7e9-91f8427f2e17\",\n  \"api_key\": \"CBa3cYnfW1iWM25LNewJVZaxEP1qjKlThEeqz2Zrnkzu7VXd\",\n  \"kafka_admin_url\": \"https://kafka-admin-stage1.messagehub.services.us-south.bluemix.net:443\",\n  \"kafka_rest_url\": \"https://kafka-rest-stage1.messagehub.services.us-south.bluemix.net:443\",\n  \"kafka_brokers_sasl\": [\n    \"kafka02-stage1.messagehub.services.us-south.bluemix.net:9093\",\n    \"kafka04-stage1.messagehub.services.us-south.bluemix.net:9093\",\n    \"kafka01-stage1.messagehub.services.us-south.bluemix.net:9093\",\n    \"kafka03-stage1.messagehub.services.us-south.bluemix.net:9093\",\n    \"kafka05-stage1.messagehub.services.us-south.bluemix.net:9093\"\n  ],\n  \"user\": \"CBa3cYnfW1iWM25L\",\n  \"password\": \"NewJVZaxEP1qjKlThEeqz2Zrnkzu7VXd\"\n}\nmh_credentials_stage1_2s = {\n  \"instance_id\": \"81b7462e-7707-44c1-8bfa-8c9490ac8111\",\n  \"mqlight_lookup_url\": \"https://mqlight-lookup-stage1.messagehub.services.us-south.bluemix.net/Lookup?serviceId=81b7462e-7707-44c1-8bfa-8c9490ac8111\",\n  \"api_key\": \"phXq2H0NSDQNSCdKGJrEFTSnVHjgH8ugpChw1LgNbL3Sr23g\",\n  \"kafka_admin_url\": \"https://kafka-admin-stage1.messagehub.services.us-south.bluemix.net:443\",\n  \"kafka_rest_url\": \"https://kafka-rest-stage1.messagehub.services.us-south.bluemix.net:443\",\n  \"kafka_brokers_sasl\": [\n    \"kafka04-stage1.messagehub.services.us-south.bluemix.net:9093\",\n    \"kafka05-stage1.messagehub.services.us-south.bluemix.net:9093\",\n    \"kafka03-stage1.messagehub.services.us-south.bluemix.net:9093\",\n    \"kafka01-stage1.messagehub.services.us-south.bluemix.net:9093\",\n    \"kafka02-stage1.messagehub.services.us-south.bluemix.net:9093\"\n  ],\n  \"user\": \"phXq2H0NSDQNSCdK\",\n  \"password\": \"GJrEFTSnVHjgH8ugpChw1LgNbL3Sr23g\"\n}\nmh_credentials_prod_8x = {\n  \"instance_id\": \"3ba03d3f-158f-4016-9355-9447feb29a06\",\n  \"mqlight_lookup_url\": \"https://mqlight-lookup-prod01.messagehub.services.us-south.bluemix.net/Lookup?serviceId=3ba03d3f-158f-4016-9355-9447feb29a06\",\n  \"api_key\": \"Azrmak5KqB5aQ9YghzWI1bhxfxqB0ki7qXID3OlXOHPm54NX\",\n  \"kafka_admin_url\": \"https://kafka-admin-prod01.messagehub.services.us-south.bluemix.net:443\",\n  \"kafka_rest_url\": \"https://kafka-rest-prod01.messagehub.services.us-south.bluemix.net:443\",\n  \"kafka_brokers_sasl\": [\n    \"kafka01-prod01.messagehub.services.us-south.bluemix.net:9093\",\n    \"kafka05-prod01.messagehub.services.us-south.bluemix.net:9093\",\n    \"kafka03-prod01.messagehub.services.us-south.bluemix.net:9093\",\n    \"kafka02-prod01.messagehub.services.us-south.bluemix.net:9093\",\n    \"kafka04-prod01.messagehub.services.us-south.bluemix.net:9093\"\n  ],\n  \"user\": \"Azrmak5KqB5aQ9Yg\",\n  \"password\": \"hzWI1bhxfxqB0ki7qXID3OlXOHPm54NX\"\n}", 
            "metadata": {
                "collapsed": true
            }, 
            "outputs": []
        }, 
        {
            "execution_count": null, 
            "cell_type": "code", 
            "source": "# Choose the credentials to use.\n\n#cos_credentials = cos_credentials_stage1_wd\ncos_credentials = cos_credentials_prod_ki\n\n#mh_credentials = mh_credentials_stage1_1z\nmh_credentials = mh_credentials_stage1_2s\n#mh_credentials = mh_credentials_prod_8x", 
            "metadata": {
                "collapsed": true
            }, 
            "outputs": []
        }, 
        {
            "execution_count": null, 
            "cell_type": "code", 
            "source": "# Load the yelp data\n\nimport watson_streaming_pipelines as stp\n\nbucket_name = 'pyml'\nobject_name = 'yelp_academic_dataset_review_first200k.json'\n#object_name = 'yelp_academic_dataset_review_first1k_training.json'\n\n# TEST TEST access\n#object_name = 'test.txt'\n#data_in = 'this is a test'\n#resp = stp.put_to_cloud_object_storage(\n#            api_key = cos_credentials['api_key'],\n#            full_object_path = bucket_name + '/' + object_name, \n#            my_data = data_in,\n#            auth_endpoint = cos_credentials['iam_url'],\n#            service_endpoint = cos_credentials['endpoint']\n#)\n#print(\"resp = \", resp)\n\ndata = stp.get_from_cloud_object_storage( \n            api_key = cos_credentials['api_key'],\n            full_object_path = bucket_name + '/' + object_name, \n            auth_endpoint = cos_credentials['iam_url'],\n            service_endpoint = cos_credentials['endpoint']\n) \n\n# Verify\nprint(len(data))", 
            "metadata": {}, 
            "outputs": []
        }, 
        {
            "execution_count": null, 
            "cell_type": "code", 
            "source": "# Convert and decode the binary data and load the yelp List with the JSON objects\n\nfrom io import StringIO\nimport json\n\nyelp = []\nfor line in StringIO(data.decode(\"utf-8\")):\n    yelp.append( json.loads(line))\n\n# Verify\nprint(yelp[0]['text'])", 
            "metadata": {}, 
            "outputs": []
        }, 
        {
            "execution_count": null, 
            "cell_type": "code", 
            "source": "# Create the Message Hub producer\nproducer = stp.create_messagehub_producer( username = mh_credentials['user'], password = mh_credentials['password'], kafka_brokers_sasl = mh_credentials['kafka_brokers_sasl'])\n\n# Enter your topic (<REPLACE>)\nmh_topic = 'testTopic1'\n#mh_topic = 'myTopic1'", 
            "metadata": {
                "collapsed": true
            }, 
            "outputs": []
        }, 
        {
            "execution_count": null, 
            "cell_type": "code", 
            "source": "# Send selected yelp fields to the MH topic\n\nimport time\nprint(len(yelp))\n#print(yelp[0]['stars'])\nn=0\nfor msg in yelp: #[:1000]:\n#    print(msg['stars'])\n    producer.send( mh_topic, { 'stars': msg['stars'], 'text': msg['text']})\n    n += 1\n    if (n % 1000) == 0:\n        time.sleep(1)\n        print(n, \"\", end=\"\")", 
            "metadata": {}, 
            "outputs": []
        }, 
        {
            "execution_count": null, 
            "cell_type": "code", 
            "source": "", 
            "metadata": {
                "collapsed": true
            }, 
            "outputs": []
        }
    ], 
    "metadata": {
        "language_info": {
            "codemirror_mode": {
                "version": 3, 
                "name": "ipython"
            }, 
            "file_extension": ".py", 
            "version": "3.5.2", 
            "nbconvert_exporter": "python", 
            "pygments_lexer": "ipython3", 
            "mimetype": "text/x-python", 
            "name": "python"
        }, 
        "kernelspec": {
            "language": "python", 
            "display_name": "Python 3.5 (Experimental) with Spark 2.1", 
            "name": "python3-spark21"
        }
    }, 
    "nbformat_minor": 1
}