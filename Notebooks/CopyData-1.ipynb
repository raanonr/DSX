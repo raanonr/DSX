{
    "metadata": {
        "kernelspec": {
            "language": "python", 
            "display_name": "Python 3.5 (Experimental) with Spark 2.1", 
            "name": "python3-spark21"
        }, 
        "language_info": {
            "version": "3.5.2", 
            "file_extension": ".py", 
            "mimetype": "text/x-python", 
            "nbconvert_exporter": "python", 
            "name": "python", 
            "pygments_lexer": "ipython3", 
            "codemirror_mode": {
                "version": 3, 
                "name": "ipython"
            }
        }
    }, 
    "cells": [
        {
            "execution_count": null, 
            "cell_type": "code", 
            "metadata": {
                "collapsed": true
            }, 
            "outputs": [], 
            "source": "def save_to_cos( cred, bucket_name, object_name, data):\n    import requests\n\n    default_iam_url = 'https://iam.ng.bluemix.net/oidc/token'\n    default_endpoint = 'https://s3-api.us-geo.objectstorage.service.networklayer.com'\n    \n    api_key = cred.get('apikey', cred.get('api_key', cred.get('IBM_API_KEY_ID')))\n    iam_url = cred.get('iam_url', cred.get('IBM_AUTH_ENDPOINT', default_iam_url))\n    endpoint = cred.get('url', cred.get('ENDPOINT', default_endpoint))\n\n    if not api_key:\n        print(\"ERROR: Missing api key\")\n        return\n\n    full_object_path = bucket_name + \"/\" + object_name\n    print(\"Saving\", full_object_path, \"(\", str(len(data)), \"bytes)\")\n\n    response = requests.post(\n                url = iam_url,\n                headers = {\"Content-Type\": \"application/x-www-form-urlencoded\"},\n                params = {\"grant_type\":\"urn:ibm:params:oauth:grant-type:apikey\",\"apikey\":api_key},\n                verify = True)\n    if response.status_code != 200:\n        print( \"ERROR: POST Response =\", response.status_code, response.reason, response.text)\n        return\n    bearer_token = response.json()[\"access_token\"]\n    \n    response = requests.put(\n                url = endpoint + \"/\" + full_object_path,\n                headers = {\"Authorization\": \"bearer \" + bearer_token},\n                data = data)    \n    if response.status_code != 200:\n        print( \"ERROR: PUT Response =\", response.status_code, response.reason, response.text)"
        }, 
        {
            "execution_count": null, 
            "cell_type": "code", 
            "metadata": {}, 
            "outputs": [], 
            "source": "def read_from_cos(cred, bucket_name, object_name):\n    \"\"\"\n    'cred' may have various key-values, depending on where the credentials where copied from.\n    \"\"\"\n    import requests\n\n    default_iam_url = 'https://iam.ng.bluemix.net/oidc/token'\n    default_endpoint = 'https://s3-api.us-geo.objectstorage.service.networklayer.com'\n\n    # Check for credentials or arguments. Any StopIteration error means that no key/value was defined.\n    api_key = cred.get('apikey', cred.get('api_key', cred.get('IBM_API_KEY_ID')))\n    iam_url = cred.get('iam_url', cred.get('IBM_AUTH_ENDPOINT', default_iam_url))\n    endpoint = cred.get('url', cred.get('ENDPOINT', default_endpoint))\n\n    full_object_path = bucket_name + \"/\" + object_name\n    print(\"Reading\", full_object_path)\n\n    response = requests.post(\n                url = iam_url,\n                headers = {\"Content-Type\": \"application/x-www-form-urlencoded\"},\n                params = {\"grant_type\":\"urn:ibm:params:oauth:grant-type:apikey\",\"apikey\":api_key},\n                verify = True)\n    if str(response) != \"<Response [200]>\":\n        print( \"ERROR: POST Response =\", response)\n        return\n    bearer_token = response.json()[\"access_token\"]\n\n    response=requests.get(\n                url = endpoint + \"/\" + full_object_path,\n                headers = {\"Authorization\": \"bearer \" + bearer_token},\n                params=None,\n                verify=True)\n    if str(response) != \"<Response [200]>\":\n        print( \"ERROR: PUT Response =\", response)\n \n    return response.content"
        }, 
        {
            "execution_count": null, 
            "cell_type": "code", 
            "metadata": {}, 
            "outputs": [], 
            "source": ""
        }, 
        {
            "metadata": {}, 
            "cell_type": "markdown", 
            "source": "# Start HERE"
        }, 
        {
            "execution_count": 6, 
            "cell_type": "code", 
            "metadata": {}, 
            "outputs": [], 
            "source": "import ibm_boto3\nimport json\nimport requests\nimport random\nfrom ibm_botocore.client import Config\nfrom pprint import pprint"
        }, 
        {
            "execution_count": 7, 
            "cell_type": "code", 
            "metadata": {}, 
            "outputs": [], 
            "source": "def cos_client(credentials):\n\n    print(\"Connecting to COS...\")\n\n    # Rquest detailed enpoint list\n    endpoints = requests.get(credentials.get('endpoints')).json()\n    #import pdb; pdb.set_trace()\n\n    # Obtain iam and cos host from the the detailed endpoints\n    iam_host = (endpoints['identity-endpoints']['iam-token'])\n    cos_host = (endpoints['service-endpoints']['cross-region']['us']['public']['us-geo'])\n\n#    default_iam_url = 'https://iam.ng.bluemix.net/oidc/token'\n#    default_endpoint = 'https://s3-api.us-geo.objectstorage.service.networklayer.com'\n#    api_key = cred.get('apikey', cred.get('api_key', cred.get('IBM_API_KEY_ID')))\n#    iam_url = cred.get('iam_url', cred.get('IBM_AUTH_ENDPOINT', default_iam_url))\n#    endpoint = cred.get('url', cred.get('ENDPOINT', default_endpoint))\n\n    api_key = credentials.get('apikey')\n    service_instance_id = credentials.get('resource_instance_id')\n\n    # Constrict auth and cos endpoint\n    auth_endpoint = \"https://\" + iam_host + \"/oidc/token\"\n    service_endpoint = \"https://\" + cos_host\n\n    print(\"Creating client...\")\n    cos = ibm_boto3.client('s3',\n                    ibm_api_key_id=api_key,\n                    ibm_service_instance_id=service_instance_id,\n                    ibm_auth_endpoint=auth_endpoint,\n                    config=Config(signature_version='oauth'),\n                    endpoint_url=service_endpoint)\n    return cos"
        }, 
        {
            "execution_count": 2, 
            "cell_type": "code", 
            "metadata": {}, 
            "outputs": [], 
            "source": "source_credentials = {\n  \"apikey\": \"2SozF9MkHGQULJZHZTiZOnidaLSc3zIqr3SkDUC0YD0t\",\n  \"endpoints\": \"https://cos-service.bluemix.net/endpoints\",\n  \"iam_apikey_description\": \"Auto generated apikey during resource-key operation for Instance - crn:v1:bluemix:public:cloud-object-storage:global:a/db0d062d2b4c0836e18618a5222d8068:22e3b946-6154-4032-8e8f-7cfb0b429602::\",\n  \"iam_apikey_name\": \"auto-generated-apikey-d7f66b84-8aee-41fa-afbf-b74e33124126\",\n  \"iam_role_crn\": \"crn:v1:bluemix:public:iam::::serviceRole:Manager\",\n  \"iam_serviceid_crn\": \"crn:v1:bluemix:public:iam-identity::a/db0d062d2b4c0836e18618a5222d8068::serviceid:ServiceId-4a452452-14c8-428a-b1c2-aa910d8f9244\",\n  \"resource_instance_id\": \"crn:v1:bluemix:public:cloud-object-storage:global:a/db0d062d2b4c0836e18618a5222d8068:22e3b946-6154-4032-8e8f-7cfb0b429602::\"\n}\ntarget_credentials = {\n \"apikey\": \"rQUuIlpxEbMVzrtkvTJecWmmQex9pCqel2wbTyvFHzZV\",\n \"endpoints\": \"https://cos-service.bluemix.net/endpoints\",\n \"iam_apikey_description\": \"Auto generated apikey during resource-key operation for Instance - crn:v1:bluemix:public:cloud-object-storage:global:a/03f1fc5804a2a6567416b6c17ca5b4d9:e7cbda72-e6e1-47c6-aee6-f7b661bcc9f3::\",\n \"iam_apikey_name\": \"auto-generated-apikey-8ab30dfe-41f6-42e8-8ac9-da8b58a3770d\",\n \"iam_role_crn\": \"crn:v1:bluemix:public:iam::::serviceRole:Writer\",\n \"iam_serviceid_crn\": \"crn:v1:bluemix:public:iam-identity::a/03f1fc5804a2a6567416b6c17ca5b4d9::serviceid:ServiceId-f484b35f-05d5-4e6f-9225-f490498fea97\",\n \"resource_instance_id\": \"crn:v1:bluemix:public:cloud-object-storage:global:a/03f1fc5804a2a6567416b6c17ca5b4d9:e7cbda72-e6e1-47c6-aee6-f7b661bcc9f3::\"\n}"
        }, 
        {
            "execution_count": 8, 
            "cell_type": "code", 
            "metadata": {}, 
            "outputs": [
                {
                    "output_type": "stream", 
                    "text": "Connecting to COS...\nCreating client...\n", 
                    "name": "stdout"
                }
            ], 
            "source": "cos_source = cos_client(source_credentials)"
        }, 
        {
            "metadata": {}, 
            "cell_type": "markdown", 
            "source": "\n#Call COS to list current buckets\nresponse = cos_source.list_buckets()\n\n#Get a list of all bucket names from the response\nbuckets = [bucket['Name'] for bucket in response['Buckets']]\n\n#Print out the bucket list\nprint(\"Current Bucket List:\")\nprint(json.dumps(buckets, indent=2))\nprint(\"---\")\n#result = [bucket for bucket in buckets if 'cos-bucket-sample-' in bucket]\n\nCurrent Bucket List:\n[\n  \"click\",\n  \"data-prod\",\n  \"output-prod\",\n  \"pyml\",\n  \"pyml-output\",\n  \"streams71aa690a314849ce9b242fd1022a028e\",\n  \"streamsqaf9d8b40caeeb448fae73b536e83caac5\",\n  \"test04\",\n  \"testproject29e5abba386c7401aa6835178d3214c4b\",\n  \"testproject3cbc0aba6c1904cc1a0e24cc5e6794c29\",\n  \"testprojecteea700399cb0499997fbfd59da83aeb2\"\n]\n---"
        }, 
        {
            "execution_count": 42, 
            "cell_type": "code", 
            "metadata": {}, 
            "outputs": [], 
            "source": "def get_object_names(cos_client, bucket_name, prefix=\"\", max=10000):\n    all_objects = []\n    response = None\n    n=0\n    cnt=0\n    size=0\n    nextMarker=''\n    while response == None or response.get('IsTruncated',False):\n        n += 1\n        #%time \n        response = cos_client.list_objects(Bucket=bucket_name, MaxKeys=10000, Prefix=\"CLICKAGGPROD\", Marker=nextMarker)\n        if response and len(response['Contents']) > 0:\n            objects = [object['Key'] for object in response['Contents']]\n            all_objects.extend(objects)\n            cnt += len(response['Contents'])\n            size += sum(int(c['Size']) for c in response['Contents'])\n            nextMarker = response.get('NextMarker')\n            #print(\"Iteration:\", n, \"=\" * 20)\n            #print(\"Number of objects:\", cnt)\n            #print(\"Size of all objects:\", size)\n            #print(\"First object:\", objects[0])\n            #print(\"Last object:\", nextMarker)\n            if n == 200: break\n\n    print(\"Final Iterations:\", n, \"*\" * 20)\n    if len(all_objects) > 0:\n        print(\"Number of objects:\", cnt, len(all_objects))\n        print(\"Size of all objects:\", size)\n        print(\"First object:\", all_objects[0])\n        print(\"Last object:\", all_objects[-1])\n        \n    return all_objects"
        }, 
        {
            "metadata": {}, 
            "cell_type": "markdown", 
            "source": "print(\"Number of objects:\", cnt, len(all_objects))\nprint(\"Size of all objects:\", size)\nprint(\"First object:\", all_objects[0])\nprint(\"Last object:\", all_objects[-1])\nNumber of objects: 25361 25361\nSize of all objects: 37175599\nFirst object: CLICKAGGPROD/YEAR=2018/MONTH=01/DAY=14/HOUR=05/prod-20180117_170223.parq\nLast object: CLICKAGGPROD/YEAR=2018/MONTH=1/DAY=18/HOUR=9/prod-20180118_114304.parq"
        }, 
        {
            "metadata": {}, 
            "cell_type": "markdown", 
            "source": "ob1 = cos_source.get_object(Bucket='click', Key='CLICKAGGPROD/YEAR=2018/MONTH=01/DAY=14/HOUR=05/prod-20180117_170223.parq')\n{'AcceptRanges': 'bytes',\n 'Body': <ibm_botocore.response.StreamingBody at 0x7fea6031e828>,\n 'ContentLength': 1311,\n 'ContentType': 'application/octet-stream',\n 'ETag': '\"c9fbbbaf477a9e8105f5dc78adbd3c1a\"',\n 'LastModified': datetime.datetime(2018, 1, 17, 17, 3, 5, tzinfo=tzutc()),\n 'Metadata': {},\n 'ResponseMetadata': {'HTTPHeaders': {'accept-ranges': 'bytes',\n   'content-length': '1311',\n   'content-type': 'application/octet-stream',\n   'date': 'Fri, 19 Jan 2018 01:28:54 GMT',\n   'etag': '\"c9fbbbaf477a9e8105f5dc78adbd3c1a\"',\n   'last-modified': 'Wed, 17 Jan 2018 17:03:05 GMT',\n   'server': 'Cleversafe/3.12.1.28',\n   'x-amz-request-id': 'ce1b3e1b-d24b-42e7-be97-a142d0636a7d',\n   'x-clv-request-id': 'ce1b3e1b-d24b-42e7-be97-a142d0636a7d',\n   'x-clv-s3-version': '2.5'},\n  'HTTPStatusCode': 200,\n  'HostId': '',\n  'RequestId': 'ce1b3e1b-d24b-42e7-be97-a142d0636a7d',\n  'RetryAttempts': 1}}"
        }, 
        {
            "metadata": {}, 
            "cell_type": "markdown", 
            "source": "#ret = cos_source.put_object(Bucket='test04', Key='CLICKAGGPROD/YEAR=2018/MONTH=01/DAY=14/HOUR=05/prod-20180117_170223-COPY.parq', Body=ob1['Body'])\nret = cos_source.upload_fileobj(Bucket='test04', Key='CLICKAGGPROD/YEAR=2018/MONTH=01/DAY=14/HOUR=05/prod-20180117_170223-COPY.parq', Fileobj=ob1['Body'])"
        }, 
        {
            "execution_count": 52, 
            "cell_type": "code", 
            "metadata": {}, 
            "outputs": [
                {
                    "output_type": "stream", 
                    "text": "Connecting to COS...\nCreating client...\n", 
                    "name": "stdout"
                }
            ], 
            "source": "cos_target = cos_client(target_credentials)"
        }, 
        {
            "execution_count": null, 
            "cell_type": "code", 
            "metadata": {}, 
            "outputs": [], 
            "source": "all_objects = get_object_names(cos_client, bucket_name, prefix=\"\", max=10000):"
        }, 
        {
            "execution_count": 55, 
            "cell_type": "code", 
            "metadata": {}, 
            "outputs": [
                {
                    "output_type": "stream", 
                    "text": "........................................................................................................................................................................................................................................................................................................................................................................................................................................................................................................................................................................................................................................................................................................................................................................................................................................................................................................................................................................................................................................1000 2000 3000 4000 5000 6000 7000 8000 9000 10000 11000 12000 13000 14000 15000 16000 17000 18000 19000 20000 21000 22000 23000 24000 25000 ", 
                    "name": "stdout"
                }
            ], 
            "source": "for n, obj_name in enumerate(all_objects):\n    if n < 1000: print('.', end=\"\")\n    cos_target.upload_fileobj(Bucket='raanon-demo-bucket', Key=obj_name, \n             Fileobj=cos_source.get_object(Bucket='click', Key=obj_name)['Body']\n                             )\n    if ((n+1) % 1000) == 0: print(n+1, end=\" \")"
        }, 
        {
            "execution_count": 56, 
            "cell_type": "code", 
            "metadata": {}, 
            "outputs": [
                {
                    "output_type": "stream", 
                    "text": "25360\n", 
                    "name": "stdout"
                }
            ], 
            "source": "print(n)"
        }, 
        {
            "execution_count": null, 
            "cell_type": "code", 
            "metadata": {}, 
            "outputs": [], 
            "source": ""
        }, 
        {
            "execution_count": 42, 
            "cell_type": "code", 
            "metadata": {}, 
            "outputs": [], 
            "source": "def copy_objects(cos_source, source_bucket, cos_target, target_bucket, prefix=\"\", max=10000):\n    response = None\n    n=0\n    cnt=0\n    size=0\n    nextMarker=''\n    while response == None or response.get('IsTruncated',False):\n        n += 1\n        response = cos_client.list_objects(Bucket=bucket_name, MaxKeys=10000, Prefix=\"CLICKAGGPROD\", Marker=nextMarker)\n        if response and len(response['Contents']) > 0:\n            objects = [object['Key'] for object in response['Contents']]\n            cnt += len(response['Contents'])\n            size += sum(int(c['Size']) for c in response['Contents'])\n            nextMarker = response.get('NextMarker')\n            #print(\"Iteration:\", n, \"=\" * 20)\n            #print(\"Number of objects:\", cnt)\n            #print(\"Size of all objects:\", size)\n            #print(\"First object:\", objects[0])\n            #print(\"Last object:\", nextMarker)\n\n    print(\"Final Iterations:\", n, \"*\" * 20)\n    if len(all_objects) > 0:\n        print(\"Number of objects:\", cnt, len(all_objects))\n        print(\"Size of all objects:\", size)\n        print(\"First object:\", all_objects[0])\n        print(\"Last object:\", all_objects[-1])\n        \n    return all_objects"
        }
    ], 
    "nbformat": 4, 
    "nbformat_minor": 1
}