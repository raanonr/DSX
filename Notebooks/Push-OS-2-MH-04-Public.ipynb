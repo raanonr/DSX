{
    "nbformat": 4, 
    "cells": [
        {
            "execution_count": null, 
            "cell_type": "code", 
            "source": "!rm -f watson_streaming_pipelines.py*\n!wget https://raw.githubusercontent.com/raanonr/DSX/master/Notebooks/watson_streaming_pipelines.py\n# You may need this:\n#!pip install kafka", 
            "metadata": {}, 
            "outputs": []
        }, 
        {
            "execution_count": null, 
            "cell_type": "code", 
            "source": "# @hidden_cell\n\n# The Object Storage credentials should NOT come from the 'Service credentials' page.\n# Get them from the option in DSX Notebook to 'insert to code' from the Data -> Connections.\n# Then ADD an entry for the service's PUBLIC endpoint.\n\ncos_credentials = {\n  'iam_url':'<REPLACE>',\n  'api_key':'<REPLACE>',\n  'resource_instance_id':'<REPLACE>',\n  'url':'<REPLACE>',\n      'endpoint':'<REPLACE>'\n}\n\n# The Message Hub credentials should come from the 'Service credentials' page.\n\nmh_credentials = {\n  \"kafka_brokers_sasl\": [\n      \"<REPLACE>\"\n  ],\n  \"user\": \"<REPLACE>\",\n  \"password\": \"<REPLACE>\"\n}\n\n# Enter your topic\nmh_topic = '<REPLACE>'", 
            "metadata": {
                "collapsed": true
            }, 
            "outputs": []
        }, 
        {
            "execution_count": null, 
            "cell_type": "code", 
            "source": "# Load the yelp data\n\nimport watson_streaming_pipelines as stp\n\nbucket_name = 'pyml'\nobject_name = 'yelp_academic_dataset_review_first200k.json'\n\ndata = stp.get_from_cloud_object_storage( \n            api_key = cos_credentials['api_key'],\n            full_object_path = bucket_name + '/' + object_name, \n            auth_endpoint = cos_credentials['iam_url'],\n            service_endpoint = cos_credentials['endpoint']\n) \n\n# Verify\nprint(len(data))", 
            "metadata": {}, 
            "outputs": []
        }, 
        {
            "execution_count": null, 
            "cell_type": "code", 
            "source": "# Convert and decode the binary data and load the yelp List with the JSON objects\n\nfrom io import StringIO\nimport json\n\nyelp = []\nfor line in StringIO(data.decode(\"utf-8\")):\n    yelp.append( json.loads(line))\n\n# Verify\nprint(yelp[0]['text'])", 
            "metadata": {}, 
            "outputs": []
        }, 
        {
            "execution_count": null, 
            "cell_type": "code", 
            "source": "# Create the Message Hub producer\nproducer = stp.create_messagehub_producer( username = mh_credentials['user'], password = mh_credentials['password'], kafka_brokers_sasl = mh_credentials['kafka_brokers_sasl'])", 
            "metadata": {
                "collapsed": true
            }, 
            "outputs": []
        }, 
        {
            "execution_count": null, 
            "cell_type": "code", 
            "source": "# Send selected yelp fields to the MH topic\n\nimport time\nprint(len(yelp))\n#print(yelp[0]['stars'])\nn=0\nfor msg in yelp: #[:1000]:\n#    print(msg['stars'])\n    producer.send( mh_topic, { 'stars': msg['stars'], 'text': msg['text']})\n    n += 1\n    if (n % 1000) == 0:\n        time.sleep(1)\n        print(n, \"\", end=\"\")", 
            "metadata": {}, 
            "outputs": []
        }, 
        {
            "execution_count": null, 
            "cell_type": "code", 
            "source": "", 
            "metadata": {
                "collapsed": true
            }, 
            "outputs": []
        }
    ], 
    "metadata": {
        "language_info": {
            "codemirror_mode": {
                "version": 3, 
                "name": "ipython"
            }, 
            "file_extension": ".py", 
            "version": "3.5.2", 
            "nbconvert_exporter": "python", 
            "pygments_lexer": "ipython3", 
            "mimetype": "text/x-python", 
            "name": "python"
        }, 
        "kernelspec": {
            "language": "python", 
            "display_name": "Python 3.5 (Experimental) with Spark 2.1", 
            "name": "python3-spark21"
        }
    }, 
    "nbformat_minor": 1
}
