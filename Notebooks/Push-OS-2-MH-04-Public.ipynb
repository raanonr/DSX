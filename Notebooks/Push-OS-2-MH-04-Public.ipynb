{
    "nbformat": 4, 
    "cells": [
        {
            "source": "!rm -f watson_streaming_pipelines.py*\n!wget https://raw.githubusercontent.com/raanonr/DSX/master/watson_streaming_pipelines.py", 
            "cell_type": "code", 
            "metadata": {}, 
            "execution_count": null, 
            "outputs": []
        }, 
        {
            "source": "# @hidden_cell\n# The Object Storage credentials should NOT come from the 'Service credentials' page.\n# Get them from the option in DSX Notebook to 'insert to code' from the Data -> Connections.\n# Then add an entry for the service's PUBLIC endpoint.\n\ncos_credentials_stage1 = {\n  'iam_url':'https://iam.stage1.ng.bluemix.net/oidc/token',\n  'api_key':'<REPLACE>',\n  'resource_instance_id':'crn:v1:staging:public:cloud-object-storage:   <REPLACE>',\n  'url':'https://s3-api.us-geo.objectstorage.uat.service.networklayer.com',\n    'endpoint':'https://s3.us-west.objectstorage.uat.softlayer.net'\n}\ncos_credentials_prod = {\n  'iam_url':'https://iam.ng.bluemix.net/oidc/token',\n  'api_key':'<REPLACE>',\n  'resource_instance_id':'crn:v1:bluemix:public:cloud-object-storage:   <REPLACE>',\n  'url':'https://s3-api.us-geo.objectstorage.service.networklayer.com',\n      \"endpoint\":\"https://s3-api.us-geo.objectstorage.softlayer.net\",\n}\n\n# The Message Hub credentials should come from the 'Service credentials' page.\n\nmh_credentials_stage1 = {\n  \"kafka_brokers_sasl\": [\n    \"kafka02-stage1.messagehub.services.us-south.bluemix.net:9093\",\n    \"kafka04-stage1.messagehub.services.us-south.bluemix.net:9093\",\n    \"kafka01-stage1.messagehub.services.us-south.bluemix.net:9093\",\n    \"kafka03-stage1.messagehub.services.us-south.bluemix.net:9093\",\n    \"kafka05-stage1.messagehub.services.us-south.bluemix.net:9093\"\n  ],\n  \"user\": \"<REPLACE>\",\n  \"password\": \"<REPLACE>\"\n}\nmh_credentials_prod = {\n  \"kafka_brokers_sasl\": [\n    \"kafka01-prod01.messagehub.services.us-south.bluemix.net:9093\",\n    \"kafka05-prod01.messagehub.services.us-south.bluemix.net:9093\",\n    \"kafka03-prod01.messagehub.services.us-south.bluemix.net:9093\",\n    \"kafka02-prod01.messagehub.services.us-south.bluemix.net:9093\",\n    \"kafka04-prod01.messagehub.services.us-south.bluemix.net:9093\"\n  ],\n  \"user\": \"<REPLACE>\",\n  \"password\": \"<REPLACE>\"\n}", 
            "cell_type": "code", 
            "metadata": {
                "collapsed": true
            }, 
            "execution_count": null, 
            "outputs": []
        }, 
        {
            "source": "# Choose the credentials to use.\n\n#cos_credentials = cos_credentials_stage1\ncos_credentials = cos_credentials_prod\n\nmh_credentials = mh_credentials_stage1\n#mh_credentials = mh_credentials_prod", 
            "cell_type": "code", 
            "metadata": {
                "collapsed": true
            }, 
            "execution_count": null, 
            "outputs": []
        }, 
        {
            "source": "# Load the yelp data\n\nimport watson_streaming_pipelines as stp\n\nbucket_name = 'pyml'\nobject_name = 'yelp_academic_dataset_review_first200k.json'\n\ndata = stp.get_from_cloud_object_storage( \n            api_key = cos_credentials['api_key'],\n            full_object_path = bucket_name + '/' + object_name, \n            auth_endpoint = cos_credentials['iam_url'],\n            service_endpoint = cos_credentials['endpoint']\n) \n\n# Verify\nprint(len(data))", 
            "cell_type": "code", 
            "metadata": {}, 
            "execution_count": null, 
            "outputs": []
        }, 
        {
            "source": "# Convert and decode the binary data and load the yelp List with the JSON objects\n\nfrom io import StringIO\nimport json\n\nyelp = []\nfor line in StringIO(data.decode(\"utf-8\")):\n    yelp.append( json.loads(line))\n\n# Verify\nprint(yelp[0]['text'])", 
            "cell_type": "code", 
            "metadata": {}, 
            "execution_count": null, 
            "outputs": []
        }, 
        {
            "source": "# Create the Message Hub producer\nproducer = stp.create_messagehub_producer( username = mh_credentials['user'], password = mh_credentials['password'], kafka_brokers_sasl = mh_credentials['kafka_brokers_sasl'])\n\n# Enter your topic (<REPLACE>)\nmh_topic = 'testTopic1'", 
            "cell_type": "code", 
            "metadata": {
                "collapsed": true
            }, 
            "execution_count": null, 
            "outputs": []
        }, 
        {
            "source": "# Send selected yelp fields to the MH topic\n\nimport time\nprint(len(yelp))\n#print(yelp[0]['stars'])\nn=0\nfor msg in yelp: #[:1000]:\n#    print(msg['stars'])\n    producer.send( mh_topic, { 'stars': msg['stars'], 'text': msg['text']})\n    n += 1\n    if (n % 1000) == 0:\n        time.sleep(1)\n        print(n, \"\", end=\"\")", 
            "cell_type": "code", 
            "metadata": {}, 
            "execution_count": null, 
            "outputs": []
        }, 
        {
            "source": "", 
            "cell_type": "code", 
            "metadata": {
                "collapsed": true
            }, 
            "execution_count": null, 
            "outputs": []
        }
    ], 
    "metadata": {
        "language_info": {
            "pygments_lexer": "ipython3", 
            "codemirror_mode": {
                "version": 3, 
                "name": "ipython"
            }, 
            "mimetype": "text/x-python", 
            "name": "python", 
            "file_extension": ".py", 
            "version": "3.5.2", 
            "nbconvert_exporter": "python"
        }, 
        "kernelspec": {
            "language": "python", 
            "display_name": "Python 3.5 (Experimental) with Spark 2.1", 
            "name": "python3-spark21"
        }
    }, 
    "nbformat_minor": 1
}