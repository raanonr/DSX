{
    "cells": [
        {
            "cell_type": "code", 
            "outputs": [
                {
                    "text": "Collecting ibm-cos-sdk\n  Downloading ibm-cos-sdk-1.0.2.tar.gz (45kB)\n\u001b[K    100% |\u2588\u2588\u2588\u2588\u2588\u2588\u2588\u2588\u2588\u2588\u2588\u2588\u2588\u2588\u2588\u2588\u2588\u2588\u2588\u2588\u2588\u2588\u2588\u2588\u2588\u2588\u2588\u2588\u2588\u2588\u2588\u2588| 51kB 7.1MB/s eta 0:00:01\n\u001b[?25hCollecting ibm-cos-sdk-core==1.0.*,>=1.0.0 (from ibm-cos-sdk)\n  Downloading ibm-cos-sdk-core-1.0.2.tar.gz (965kB)\n\u001b[K    100% |\u2588\u2588\u2588\u2588\u2588\u2588\u2588\u2588\u2588\u2588\u2588\u2588\u2588\u2588\u2588\u2588\u2588\u2588\u2588\u2588\u2588\u2588\u2588\u2588\u2588\u2588\u2588\u2588\u2588\u2588\u2588\u2588| 972kB 860kB/s eta 0:00:01\n\u001b[?25hCollecting ibm-cos-sdk-s3transfer==1.0.*,>=1.0.0 (from ibm-cos-sdk)\n  Downloading ibm_cos_sdk_s3transfer-1.0.1-py2.py3-none-any.whl (54kB)\n\u001b[K    100% |\u2588\u2588\u2588\u2588\u2588\u2588\u2588\u2588\u2588\u2588\u2588\u2588\u2588\u2588\u2588\u2588\u2588\u2588\u2588\u2588\u2588\u2588\u2588\u2588\u2588\u2588\u2588\u2588\u2588\u2588\u2588\u2588| 61kB 8.1MB/s eta 0:00:01\n\u001b[?25hRequirement already satisfied (use --upgrade to upgrade): jmespath<1.0.0,>=0.7.1 in /usr/local/src/conda3_runtime.v21/4.1.1/lib/python3.5/site-packages (from ibm-cos-sdk-core==1.0.*,>=1.0.0->ibm-cos-sdk)\nRequirement already satisfied (use --upgrade to upgrade): python-dateutil<3.0.0,>=2.1 in /usr/local/src/conda3_runtime.v21/4.1.1/lib/python3.5/site-packages (from ibm-cos-sdk-core==1.0.*,>=1.0.0->ibm-cos-sdk)\nRequirement already satisfied (use --upgrade to upgrade): docutils>=0.10 in /usr/local/src/conda3_runtime.v21/4.1.1/lib/python3.5/site-packages (from ibm-cos-sdk-core==1.0.*,>=1.0.0->ibm-cos-sdk)\nRequirement already satisfied (use --upgrade to upgrade): requests<=2.18.4,>=2.12.0 in /usr/local/src/conda3_runtime.v21/4.1.1/lib/python3.5/site-packages (from ibm-cos-sdk-core==1.0.*,>=1.0.0->ibm-cos-sdk)\nRequirement already satisfied (use --upgrade to upgrade): six>=1.5 in /usr/local/src/conda3_runtime.v21/4.1.1/lib/python3.5/site-packages (from python-dateutil<3.0.0,>=2.1->ibm-cos-sdk-core==1.0.*,>=1.0.0->ibm-cos-sdk)\nBuilding wheels for collected packages: ibm-cos-sdk, ibm-cos-sdk-core\n  Running setup.py bdist_wheel for ibm-cos-sdk ... \u001b[?25ldone\n\u001b[?25h  Stored in directory: /gpfs/fs01/user/sca9-7277eb31bca08b-bc196c953de3/.cache/pip/wheels/5a/66/38/325cdc3e6a46a409f3a95f89855d1c56e944b7cfa82836f2f2\n  Running setup.py bdist_wheel for ibm-cos-sdk-core ... \u001b[?25ldone\n\u001b[?25h  Stored in directory: /gpfs/fs01/user/sca9-7277eb31bca08b-bc196c953de3/.cache/pip/wheels/21/a8/30/72f8035afef96e79bd36919ce8af00045b8bea861d3692c858\nSuccessfully built ibm-cos-sdk ibm-cos-sdk-core\nInstalling collected packages: ibm-cos-sdk-core, ibm-cos-sdk-s3transfer, ibm-cos-sdk\nSuccessfully installed ibm-cos-sdk-1.0.2 ibm-cos-sdk-core-1.0.2 ibm-cos-sdk-s3transfer-1.0.1\n", 
                    "output_type": "stream", 
                    "name": "stdout"
                }
            ], 
            "metadata": {}, 
            "source": "#https://console.bluemix.net/docs/services/cloud-object-storage/libraries/python.html#python\n!pip install ibm-cos-sdk", 
            "execution_count": 2
        }, 
        {
            "cell_type": "code", 
            "outputs": [], 
            "metadata": {
                "collapsed": true
            }, 
            "source": "import boto3\nimport json\nimport requests\nimport random\nfrom botocore.client import Config\nfrom pprint import pprint", 
            "execution_count": 3
        }, 
        {
            "cell_type": "code", 
            "outputs": [], 
            "metadata": {
                "collapsed": true
            }, 
            "source": "credentials = json.loads('{\"apikey\": \"2SozF9MkHGQULJZHZTiZOnidaLSc3zIqr3SkDUC0YD0t\", \"endpoints\": \"https://cos-service.bluemix.net/endpoints\", \"resource_instance_id\": \"crn:v1:bluemix:public:cloud-object-storage:global:a/db0d062d2b4c0836e18618a5222d8068:22e3b946-6154-4032-8e8f-7cfb0b429602::\"}')", 
            "execution_count": 5
        }, 
        {
            "cell_type": "code", 
            "outputs": [
                {
                    "text": "{\n  \"identity-endpoints\": {\n    \"iam-token\": \"iam.bluemix.net\",\n    \"iam-policy\": \"iampap.bluemix.net\"\n  },\n  \"service-endpoints\": {\n    \"regional\": {\n      \"us-south\": {\n        \"public\": {\n          \"us-south\": \"s3.us-south.objectstorage.softlayer.net\"\n        },\n        \"private\": {\n          \"us-south\": \"s3.us-south.objectstorage.service.networklayer.com\"\n        }\n      },\n      \"us-east\": {\n        \"public\": {\n          \"us-east\": \"s3.us-east.objectstorage.softlayer.net\"\n        },\n        \"private\": {\n          \"us-east\": \"s3.us-east.objectstorage.service.networklayer.com\"\n        }\n      }\n    },\n    \"cross-region\": {\n      \"eu\": {\n        \"public\": {\n          \"eu-geo\": \"s3.eu-geo.objectstorage.softlayer.net\",\n          \"Milan\": \"s3.mil-eu-geo.objectstorage.softlayer.net\",\n          \"Amsterdam\": \"s3.ams-eu-geo.objectstorage.softlayer.net\",\n          \"Frankfurt\": \"s3.fra-eu-geo.objectstorage.softlayer.net\"\n        },\n        \"private\": {\n          \"eu-geo\": \" s3.eu-geo.objectstorage.service.networklayer.com\",\n          \"Milan\": \"s3.mil-eu-geo.objectstorage.service.networklayer.com\",\n          \"Amsterdam\": \"s3.ams-eu-geo.objectstorage.service.networklayer.com\",\n          \"Frankfurt\": \"s3.fra-eu-geo.objectstorage.service.networklayer.com\"\n        }\n      },\n      \"us\": {\n        \"public\": {\n          \"San Jose\": \"s3-api.sjc-us-geo.objectstorage.softlayer.net\",\n          \"Washington\": \"s3-api.wdc-us-geo.objectstorage.softlayer.net\",\n          \"us-geo\": \"s3-api.us-geo.objectstorage.softlayer.net\",\n          \"Dallas\": \"s3-api.dal-us-geo.objectstorage.softlayer.net\"\n        },\n        \"private\": {\n          \"San Jose\": \"s3-api.sjc-us-geo.objectstorage.service.networklayer.com\",\n          \"Washington\": \"s3-api.wdc-us-geo.objectstorage.service.networklayer.com\",\n          \"us-geo\": \"s3-api.us-geo.objectstorage.service.networklayer.com\",\n          \"Dallas\": \"s3-api.dal-us-geo.objectstorage.service.networklayer.com\"\n        }\n      }\n    }\n  }\n}\nCreating client...\n", 
                    "output_type": "stream", 
                    "name": "stdout"
                }
            ], 
            "metadata": {}, 
            "source": "# Rquest detailed enpoint list\nendpoints = requests.get(credentials.get('endpoints')).json()\nprint(json.dumps(endpoints, indent=2))\n#import pdb; pdb.set_trace()\n\n# Obtain iam and cos host from the the detailed endpoints\niam_host = (endpoints['identity-endpoints']['iam-token'])\ncos_host = (endpoints['service-endpoints']['cross-region']['us']['public']['us-geo'])\n\napi_key = credentials.get('apikey')\nservice_instance_id = credentials.get('resource_instance_id')\n\n# Constrict auth and cos endpoint\nauth_endpoint = \"https://\" + iam_host + \"/oidc/token\"\nservice_endpoint = \"https://\" + cos_host\n\nprint(\"Creating client...\")\n# Get bucket list\ncos = boto3.client('s3',\n                    ibm_api_key_id=api_key,\n                    ibm_service_instance_id=service_instance_id,\n                    ibm_auth_endpoint=auth_endpoint,\n                    config=Config(signature_version='oauth'),\n                    endpoint_url=service_endpoint)\n", 
            "execution_count": 8
        }, 
        {
            "cell_type": "code", 
            "outputs": [
                {
                    "text": "Current Bucket List:\n[\n  \"data-prod\",\n  \"output-prod\",\n  \"streams71aa690a314849ce9b242fd1022a028e\",\n  \"streamsqaf9d8b40caeeb448fae73b536e83caac5\",\n  \"test04\"\n]\n---\n", 
                    "output_type": "stream", 
                    "name": "stdout"
                }
            ], 
            "metadata": {}, 
            "source": "# Call S3 to list current buckets\nresponse = cos.list_buckets()\n\n# Get a list of all bucket names from the response\nbuckets = [bucket['Name'] for bucket in response['Buckets']]\n\n# Print out the bucket list\nprint(\"Current Bucket List:\")\nprint(json.dumps(buckets, indent=2))\nprint(\"---\")", 
            "execution_count": 9
        }, 
        {
            "cell_type": "code", 
            "outputs": [
                {
                    "text": "Objects in streams71aa690a314849ce9b242fd1022a028e:\n[\n  \"notebook/Cos-play_4JEENiMJE.ipynb\",\n  \"notebook/Push-to-MH_VJis2BbJV.ipynb\"\n]\n", 
                    "output_type": "stream", 
                    "name": "stdout"
                }
            ], 
            "metadata": {}, 
            "source": "bucket_name=\"streams71aa690a314849ce9b242fd1022a028e\"\n# Call S3 to list current objects\nresponse = cos.list_objects(Bucket=bucket_name)\n\n# Get a list of all object names from the response\nobjects = [object['Key'] for object in response['Contents']]\n\n# Print out the object list\nprint(\"Objects in %s:\" % bucket_name)\nprint(json.dumps(objects, indent=2))", 
            "execution_count": 10
        }, 
        {
            "cell_type": "code", 
            "outputs": [], 
            "metadata": {
                "collapsed": true
            }, 
            "source": "", 
            "execution_count": null
        }
    ], 
    "nbformat": 4, 
    "metadata": {
        "kernelspec": {
            "display_name": "Python 3.5 (Experimental) with Spark 2.1", 
            "name": "python3-spark21", 
            "language": "python"
        }, 
        "language_info": {
            "mimetype": "text/x-python", 
            "nbconvert_exporter": "python", 
            "file_extension": ".py", 
            "name": "python", 
            "pygments_lexer": "ipython3", 
            "version": "3.5.2", 
            "codemirror_mode": {
                "version": 3, 
                "name": "ipython"
            }
        }
    }, 
    "nbformat_minor": 1
}